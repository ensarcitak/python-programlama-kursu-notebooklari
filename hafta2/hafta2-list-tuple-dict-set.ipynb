{
 "cells": [
  {
   "cell_type": "markdown",
   "id": "afab46cb",
   "metadata": {},
   "source": [
    "**Eğitmen**      \n",
    "Özgür YILDIRIM     \n",
    "linkedin.com/in/0zgur-yldrm/        \n",
    "github.com/OzgurYldrm "
   ]
  },
  {
   "cell_type": "markdown",
   "id": "d8c6c03e",
   "metadata": {},
   "source": [
    "# Print fonksiyonu - Yorum Satırı"
   ]
  },
  {
   "cell_type": "markdown",
   "id": "f097aa59",
   "metadata": {},
   "source": [
    "**print fonksiyonu** kendisine parametre olarak verilen değerleri ekrana basmayı sağlar. Veriyi kullanıcıya gösterir.    \n",
    "print fonksiyonu içerisine birden fazla parametre virgülle ayrılmış şekilde verilebilir.    "
   ]
  },
  {
   "cell_type": "code",
   "execution_count": 4,
   "id": "01d8a709",
   "metadata": {},
   "outputs": [
    {
     "name": "stdout",
     "output_type": "stream",
     "text": [
      "Hello World\n",
      "5\n",
      "3 5 6 7\n",
      "Machine Learning\n"
     ]
    }
   ],
   "source": [
    "print(\"Hello World\")\n",
    "print(5)\n",
    "print(3,5,6,7)\n",
    "print(\"Machine\",\"Learning\")"
   ]
  },
  {
   "cell_type": "markdown",
   "id": "02d11de1",
   "metadata": {},
   "source": [
    "print otomatik olarak verilen parametreler arasına boşluk (space) koyar. Bunu **sep** parametresi ile değiştirebilirsiniz."
   ]
  },
  {
   "cell_type": "code",
   "execution_count": 5,
   "id": "4d9eef1e",
   "metadata": {},
   "outputs": [
    {
     "name": "stdout",
     "output_type": "stream",
     "text": [
      "Hello World Machine Learning\n"
     ]
    }
   ],
   "source": [
    "print(\"Hello\",\"World\",\"Machine\",\"Learning\")"
   ]
  },
  {
   "cell_type": "code",
   "execution_count": 6,
   "id": "33881e55",
   "metadata": {},
   "outputs": [
    {
     "name": "stdout",
     "output_type": "stream",
     "text": [
      "Hello---World---Machine---Learning\n"
     ]
    }
   ],
   "source": [
    "print(\"Hello\",\"World\",\"Machine\",\"Learning\",sep=\"---\")"
   ]
  },
  {
   "cell_type": "markdown",
   "id": "e7c6f675",
   "metadata": {},
   "source": [
    "Jupyter Notebook içerisinde hücrenin son kısmında kalan kodun çıktısı otomatik olarak gösterilir. Bu yüzden notebook hücresine print yazmadan da görüntüleme sağlanabilir. Normal python dosyası (.py) için bu durum geçerli değildir. Hataya sebep olabilir"
   ]
  },
  {
   "cell_type": "code",
   "execution_count": 8,
   "id": "02b97723",
   "metadata": {},
   "outputs": [
    {
     "data": {
      "text/plain": [
       "4"
      ]
     },
     "execution_count": 8,
     "metadata": {},
     "output_type": "execute_result"
    }
   ],
   "source": [
    "\"Hello World\"\n",
    "5\n",
    "3\n",
    "4"
   ]
  },
  {
   "cell_type": "markdown",
   "id": "d3c9abe1",
   "metadata": {},
   "source": [
    "**Yorum Satırı**: Kod içerisinde not almamızı sağlayan, algoritma akışına etkisi olmayan satırlardır. # ile belirtilir."
   ]
  },
  {
   "cell_type": "code",
   "execution_count": 11,
   "id": "893e00ef",
   "metadata": {},
   "outputs": [
    {
     "name": "stdout",
     "output_type": "stream",
     "text": [
      "Hello\n"
     ]
    }
   ],
   "source": [
    "print(\"Hello\")\n",
    "#print(\"World\")\n",
    "#print(\"Artificial\")"
   ]
  },
  {
   "cell_type": "code",
   "execution_count": 12,
   "id": "ebce9af0",
   "metadata": {},
   "outputs": [
    {
     "name": "stdout",
     "output_type": "stream",
     "text": [
      ":)\n"
     ]
    }
   ],
   "source": [
    "\"\"\"\n",
    "Bu şekilde çoklu yorum satırı elde edebiliriz.\n",
    "Ama bu yazım şeklinde aslında yorum satırı değildir.\n",
    "\"\"\"\n",
    "print(\":)\")"
   ]
  },
  {
   "cell_type": "markdown",
   "id": "dff08ade",
   "metadata": {},
   "source": [
    "# Değişkenler - Atama Operatörü (=)"
   ]
  },
  {
   "cell_type": "markdown",
   "id": "f228177f",
   "metadata": {},
   "source": [
    "Değişken bir değerin geçici olarak tutulduğu yapılardır. Kod içerisinde değişkenin tuttuğu değerler değişebilir. Python bir değişkenin farklı zamanlarda farklı tipte veriler tutmasına olanak sağlar.    \n",
    "**Değişken = Değer** veya **Değişken = Başka Değişken** şeklinde **sağdan sola** doğru atama yapılabilir. Bir diğer deyişle soldaki değişken artık sağdaki değeri tutmaktadır.    \n",
    "Değişkenler çağırılırken (kod içerisinde kullanılırken) doğrudan değişken ismi yazılır. Tırnak içerisine alma vb. işlemler uygulanmaz.    \n",
    "Değişken ismi kuralları:\n",
    "1. Harf, rakam ve alt çizgi (_) kullanılabilir.\n",
    "2. Rakamla başlayamaz.\n",
    "3. Büyük/küçük harf duyarlıdır (age ≠ Age)\n",
    "4. Anahtar kelimeler (if, for, class vb.) değişken ismi olamaz."
   ]
  },
  {
   "cell_type": "code",
   "execution_count": 1,
   "id": "d8868d18",
   "metadata": {},
   "outputs": [],
   "source": [
    "x = 15"
   ]
  },
  {
   "cell_type": "code",
   "execution_count": 3,
   "id": "14dfa719",
   "metadata": {},
   "outputs": [
    {
     "name": "stdout",
     "output_type": "stream",
     "text": [
      "10\n"
     ]
    }
   ],
   "source": [
    "x = 5\n",
    "x = 10\n",
    "print(x)"
   ]
  },
  {
   "cell_type": "code",
   "execution_count": 4,
   "id": "853716d0",
   "metadata": {},
   "outputs": [
    {
     "name": "stdout",
     "output_type": "stream",
     "text": [
      "5\n"
     ]
    }
   ],
   "source": [
    "a = 10\n",
    "b = 5\n",
    "a = b\n",
    "print(a)"
   ]
  },
  {
   "cell_type": "code",
   "execution_count": 6,
   "id": "1fe7ee97",
   "metadata": {},
   "outputs": [
    {
     "name": "stdout",
     "output_type": "stream",
     "text": [
      "7\n"
     ]
    }
   ],
   "source": [
    "x = 7\n",
    "print(x)"
   ]
  },
  {
   "cell_type": "code",
   "execution_count": 7,
   "id": "34502d46",
   "metadata": {},
   "outputs": [
    {
     "name": "stdout",
     "output_type": "stream",
     "text": [
      "20\n"
     ]
    }
   ],
   "source": [
    "x = y = z = 20\n",
    "print(y)"
   ]
  },
  {
   "cell_type": "markdown",
   "id": "810fe422",
   "metadata": {},
   "source": [
    "# Basit Veri Tipleri - type fonksiyonu"
   ]
  },
  {
   "cell_type": "markdown",
   "id": "e029b0cc",
   "metadata": {},
   "source": [
    "**type fonksiyonu**: Bir verinin ya da bir değişkenin veri tipini öğrenmek için kullanılır."
   ]
  },
  {
   "cell_type": "markdown",
   "id": "e81288fa",
   "metadata": {},
   "source": [
    "**int**: Tam sayıları ifade eder. Ondalıklı kısımları yoktur. Pozitif, negatif ve 0 olabilir."
   ]
  },
  {
   "cell_type": "code",
   "execution_count": 2,
   "id": "3a5d8ad0",
   "metadata": {},
   "outputs": [
    {
     "name": "stdout",
     "output_type": "stream",
     "text": [
      "<class 'int'>\n"
     ]
    }
   ],
   "source": [
    "print(type(5))"
   ]
  },
  {
   "cell_type": "code",
   "execution_count": 3,
   "id": "ddcb5419",
   "metadata": {},
   "outputs": [
    {
     "name": "stdout",
     "output_type": "stream",
     "text": [
      "<class 'int'>\n"
     ]
    }
   ],
   "source": [
    "a = 5\n",
    "print(type(a))"
   ]
  },
  {
   "cell_type": "markdown",
   "id": "9d446c57",
   "metadata": {},
   "source": [
    "**float**: Ondalıklı sayıları ifade etmek için kullanılır."
   ]
  },
  {
   "cell_type": "code",
   "execution_count": 4,
   "id": "ec5f966a",
   "metadata": {},
   "outputs": [
    {
     "name": "stdout",
     "output_type": "stream",
     "text": [
      "<class 'float'>\n"
     ]
    }
   ],
   "source": [
    "print(type(3.14))"
   ]
  },
  {
   "cell_type": "code",
   "execution_count": 5,
   "id": "6d1dd012",
   "metadata": {},
   "outputs": [
    {
     "name": "stdout",
     "output_type": "stream",
     "text": [
      "<class 'float'>\n"
     ]
    }
   ],
   "source": [
    "a = 3.0\n",
    "print(type(a))"
   ]
  },
  {
   "cell_type": "markdown",
   "id": "efc71741",
   "metadata": {},
   "source": [
    "**str**: String (yazısal) verilerdir. \"string\" 'string' veya \"\"\"string\"\"\" şeklinde kullanılabilir."
   ]
  },
  {
   "cell_type": "code",
   "execution_count": 8,
   "id": "b309f4bb",
   "metadata": {},
   "outputs": [
    {
     "name": "stdout",
     "output_type": "stream",
     "text": [
      "<class 'str'>\n"
     ]
    }
   ],
   "source": [
    "print(type(\"\"\"Hello World\"\"\"))"
   ]
  },
  {
   "cell_type": "code",
   "execution_count": 9,
   "id": "35c83f2f",
   "metadata": {},
   "outputs": [
    {
     "name": "stdout",
     "output_type": "stream",
     "text": [
      "<class 'str'>\n"
     ]
    }
   ],
   "source": [
    "string = \"Machine Learning\"\n",
    "print(type(string))"
   ]
  },
  {
   "cell_type": "code",
   "execution_count": 10,
   "id": "f8bd67e8",
   "metadata": {},
   "outputs": [],
   "source": [
    "a = \"\"\"\n",
    "asdmlaşsda\n",
    "asdasdasdas\n",
    "asdasdasd\n",
    "\"\"\""
   ]
  },
  {
   "cell_type": "code",
   "execution_count": 11,
   "id": "18837b75",
   "metadata": {},
   "outputs": [
    {
     "name": "stdout",
     "output_type": "stream",
     "text": [
      "\n",
      "asdmlaşsda\n",
      "asdasdasdas\n",
      "asdasdasd\n",
      "\n"
     ]
    }
   ],
   "source": [
    "print(a)"
   ]
  },
  {
   "cell_type": "markdown",
   "id": "fdb3bca3",
   "metadata": {},
   "source": [
    "**boolean**: Mantıksal verileri ifade etmek için kullanılır."
   ]
  },
  {
   "cell_type": "code",
   "execution_count": 12,
   "id": "4589a1fb",
   "metadata": {},
   "outputs": [
    {
     "name": "stdout",
     "output_type": "stream",
     "text": [
      "<class 'bool'> <class 'bool'>\n"
     ]
    }
   ],
   "source": [
    "a = True\n",
    "b = False\n",
    "print(type(a),type(b))"
   ]
  },
  {
   "cell_type": "markdown",
   "id": "b7933177",
   "metadata": {},
   "source": [
    "**None** : Boş veri tipidir"
   ]
  },
  {
   "cell_type": "code",
   "execution_count": null,
   "id": "552520ab",
   "metadata": {},
   "outputs": [
    {
     "name": "stdout",
     "output_type": "stream",
     "text": [
      "None\n"
     ]
    }
   ],
   "source": [
    "a = None\n",
    "print(a)\n",
    "\n",
    "print(type(None))"
   ]
  },
  {
   "cell_type": "markdown",
   "id": "bfc1afb1",
   "metadata": {},
   "source": [
    "# Type Casting"
   ]
  },
  {
   "cell_type": "markdown",
   "id": "83cb98d1",
   "metadata": {},
   "source": [
    "Python içerisinde bir türden başka bir türe dönüşüm yapılabilir.        \n",
    "int() -> uygun ifadeleri integer'a çevirir.     \n",
    "float() -> Uygun ifadeleri float'a çevirir.     \n",
    "str() -> uygun ifadeleri string'e çevirir.      "
   ]
  },
  {
   "cell_type": "code",
   "execution_count": 15,
   "id": "29d3e3ed",
   "metadata": {},
   "outputs": [
    {
     "name": "stdout",
     "output_type": "stream",
     "text": [
      "5\n",
      "<class 'int'>\n"
     ]
    }
   ],
   "source": [
    "x = 5.5\n",
    "y = int(x)\n",
    "print(y)\n",
    "print(type(y))"
   ]
  },
  {
   "cell_type": "code",
   "execution_count": 16,
   "id": "b41dd567",
   "metadata": {},
   "outputs": [
    {
     "name": "stdout",
     "output_type": "stream",
     "text": [
      "5.0\n",
      "<class 'float'>\n"
     ]
    }
   ],
   "source": [
    "x = 5\n",
    "y = float(x)\n",
    "print(y)\n",
    "print(type(y))"
   ]
  },
  {
   "cell_type": "code",
   "execution_count": 17,
   "id": "9600e49c",
   "metadata": {},
   "outputs": [
    {
     "name": "stdout",
     "output_type": "stream",
     "text": [
      "5.0\n",
      "<class 'str'>\n"
     ]
    }
   ],
   "source": [
    "x = 5.0\n",
    "y = str(x)\n",
    "print(y)\n",
    "print(type(y))"
   ]
  },
  {
   "cell_type": "code",
   "execution_count": 18,
   "id": "a281578c",
   "metadata": {},
   "outputs": [
    {
     "name": "stdout",
     "output_type": "stream",
     "text": [
      "5\n"
     ]
    }
   ],
   "source": [
    "x = \"5\"\n",
    "print(int(x))"
   ]
  },
  {
   "cell_type": "code",
   "execution_count": null,
   "id": "13ab11ee",
   "metadata": {},
   "outputs": [],
   "source": [
    "x = \"5a\"\n",
    "print(int(x))"
   ]
  },
  {
   "cell_type": "markdown",
   "id": "85f469d8",
   "metadata": {},
   "source": [
    "0 dışındaki herhangi bir sayısal değerin bool karşılığı 1'dir.      \n",
    "Boş string dışındaki herhangi bir string'in bool karşılığı 1'dir."
   ]
  },
  {
   "cell_type": "code",
   "execution_count": null,
   "id": "7d6048ae",
   "metadata": {},
   "outputs": [
    {
     "name": "stdout",
     "output_type": "stream",
     "text": [
      "True\n",
      "True\n",
      "False\n",
      "True\n",
      "False\n"
     ]
    }
   ],
   "source": [
    "print(bool(5))\n",
    "print(bool(-55))\n",
    "print(bool(0))\n",
    "print(bool(\"a\"))\n",
    "print(bool(\"\"))\n",
    "print(bool(None))"
   ]
  },
  {
   "cell_type": "markdown",
   "id": "1341dbee",
   "metadata": {},
   "source": [
    "# Input"
   ]
  },
  {
   "cell_type": "markdown",
   "id": "e54d7b2d",
   "metadata": {},
   "source": [
    "Terminalden girdi almak için kullanılır. input ile alınan her veri string formatında gelir."
   ]
  },
  {
   "cell_type": "code",
   "execution_count": 24,
   "id": "aad2fcf3",
   "metadata": {},
   "outputs": [],
   "source": [
    "a = input(\"Bir sayı giriniz:\")"
   ]
  },
  {
   "cell_type": "code",
   "execution_count": 22,
   "id": "4e055a35",
   "metadata": {},
   "outputs": [
    {
     "name": "stdout",
     "output_type": "stream",
     "text": [
      "10\n",
      "<class 'str'>\n"
     ]
    }
   ],
   "source": [
    "print(a)\n",
    "print(type(a))"
   ]
  },
  {
   "cell_type": "code",
   "execution_count": 23,
   "id": "c808d9e4",
   "metadata": {},
   "outputs": [
    {
     "name": "stdout",
     "output_type": "stream",
     "text": [
      "<class 'int'>\n"
     ]
    }
   ],
   "source": [
    "print(type(int(a)))"
   ]
  },
  {
   "cell_type": "code",
   "execution_count": 25,
   "id": "2919183b",
   "metadata": {},
   "outputs": [
    {
     "name": "stdout",
     "output_type": "stream",
     "text": [
      "12\n"
     ]
    }
   ],
   "source": [
    "a = int(input(\"Birinci sayıyı girin:\"))\n",
    "b = int(input(\"İkinci sayıyı girin:\"))\n",
    "print(a+b)"
   ]
  },
  {
   "cell_type": "markdown",
   "id": "9bb85be4",
   "metadata": {},
   "source": [
    "# Aritmetik Operatörler"
   ]
  },
  {
   "cell_type": "markdown",
   "id": "0a022f36",
   "metadata": {},
   "source": [
    "**Toplama (+)**"
   ]
  },
  {
   "cell_type": "code",
   "execution_count": 1,
   "id": "371209aa",
   "metadata": {},
   "outputs": [
    {
     "name": "stdout",
     "output_type": "stream",
     "text": [
      "15\n"
     ]
    }
   ],
   "source": [
    "print(5 + 10)"
   ]
  },
  {
   "cell_type": "code",
   "execution_count": 4,
   "id": "c4139241",
   "metadata": {},
   "outputs": [
    {
     "name": "stdout",
     "output_type": "stream",
     "text": [
      "-5\n"
     ]
    }
   ],
   "source": [
    "a = 3\n",
    "b = 8\n",
    "print(a-b)"
   ]
  },
  {
   "cell_type": "markdown",
   "id": "41c46767",
   "metadata": {},
   "source": [
    "**Çıkarma(-)**"
   ]
  },
  {
   "cell_type": "code",
   "execution_count": 3,
   "id": "18e2b3db",
   "metadata": {},
   "outputs": [
    {
     "name": "stdout",
     "output_type": "stream",
     "text": [
      "-2\n"
     ]
    }
   ],
   "source": [
    "print(3-5)"
   ]
  },
  {
   "cell_type": "code",
   "execution_count": 5,
   "id": "1c74d948",
   "metadata": {},
   "outputs": [
    {
     "name": "stdout",
     "output_type": "stream",
     "text": [
      "-5\n",
      "5\n"
     ]
    }
   ],
   "source": [
    "a = 5\n",
    "print(-a) #Unary işlem\n",
    "print(+a) #Unary İşlem"
   ]
  },
  {
   "cell_type": "markdown",
   "id": "abc35aa6",
   "metadata": {},
   "source": [
    "**Çarpma (*)**"
   ]
  },
  {
   "cell_type": "code",
   "execution_count": 7,
   "id": "e9732e8b",
   "metadata": {},
   "outputs": [
    {
     "name": "stdout",
     "output_type": "stream",
     "text": [
      "10\n"
     ]
    }
   ],
   "source": [
    "a = 2\n",
    "b = 5\n",
    "print(a*b)"
   ]
  },
  {
   "cell_type": "markdown",
   "id": "b956a8d1",
   "metadata": {},
   "source": [
    "**Bölme (/)**"
   ]
  },
  {
   "cell_type": "code",
   "execution_count": 9,
   "id": "7472d01d",
   "metadata": {},
   "outputs": [
    {
     "name": "stdout",
     "output_type": "stream",
     "text": [
      "3.3333333333333335\n"
     ]
    }
   ],
   "source": [
    "print(10/3)"
   ]
  },
  {
   "cell_type": "markdown",
   "id": "8a0cf83a",
   "metadata": {},
   "source": [
    "**Taban Bölme (//)**"
   ]
  },
  {
   "cell_type": "code",
   "execution_count": 11,
   "id": "6ac6ab1d",
   "metadata": {},
   "outputs": [
    {
     "name": "stdout",
     "output_type": "stream",
     "text": [
      "3\n"
     ]
    }
   ],
   "source": [
    "print(6//2)"
   ]
  },
  {
   "cell_type": "markdown",
   "id": "435de9de",
   "metadata": {},
   "source": [
    "**Mod (%)**"
   ]
  },
  {
   "cell_type": "code",
   "execution_count": 13,
   "id": "84db5ab3",
   "metadata": {},
   "outputs": [
    {
     "name": "stdout",
     "output_type": "stream",
     "text": [
      "0\n"
     ]
    }
   ],
   "source": [
    "print(10%2)"
   ]
  },
  {
   "cell_type": "markdown",
   "id": "b7a063e3",
   "metadata": {},
   "source": [
    "**Üs Alma (\\*\\*)**"
   ]
  },
  {
   "cell_type": "code",
   "execution_count": 16,
   "id": "a81cfae0",
   "metadata": {},
   "outputs": [
    {
     "name": "stdout",
     "output_type": "stream",
     "text": [
      "1.4142135623730951\n"
     ]
    }
   ],
   "source": [
    "print(2**0.5)"
   ]
  },
  {
   "cell_type": "code",
   "execution_count": 40,
   "id": "de74da8d",
   "metadata": {},
   "outputs": [
    {
     "name": "stdout",
     "output_type": "stream",
     "text": [
      "0.1111111111111111\n"
     ]
    }
   ],
   "source": [
    "print(3**-2)"
   ]
  },
  {
   "cell_type": "markdown",
   "id": "d40a8404",
   "metadata": {},
   "source": [
    "Python içerisinde işlem önceliği vardır. Öncelik sırası büyükten küçüğe doğru:    \n",
    "1. ()\n",
    "2. -x (Unary)\n",
    "3. **\n",
    "4. *, /, //, %\n",
    "5. +, -"
   ]
  },
  {
   "cell_type": "code",
   "execution_count": 18,
   "id": "22376217",
   "metadata": {},
   "outputs": [
    {
     "name": "stdout",
     "output_type": "stream",
     "text": [
      "195312.5\n"
     ]
    }
   ],
   "source": [
    "a = 5 ** (2 + 6) / 2\n",
    "print(a)"
   ]
  },
  {
   "cell_type": "markdown",
   "id": "f4be6ef1",
   "metadata": {},
   "source": [
    "# Bileşik Atama Operatörü"
   ]
  },
  {
   "cell_type": "code",
   "execution_count": 19,
   "id": "7207d537",
   "metadata": {},
   "outputs": [],
   "source": [
    "a = 5 #Normal atama"
   ]
  },
  {
   "cell_type": "code",
   "execution_count": 20,
   "id": "b332b305",
   "metadata": {},
   "outputs": [
    {
     "name": "stdout",
     "output_type": "stream",
     "text": [
      "10\n"
     ]
    }
   ],
   "source": [
    "a = a + 5\n",
    "print(a)"
   ]
  },
  {
   "cell_type": "code",
   "execution_count": 24,
   "id": "7f387c66",
   "metadata": {},
   "outputs": [
    {
     "name": "stdout",
     "output_type": "stream",
     "text": [
      "20\n"
     ]
    }
   ],
   "source": [
    "a -= 5\n",
    "print(a)"
   ]
  },
  {
   "cell_type": "code",
   "execution_count": null,
   "id": "2a93fc76",
   "metadata": {},
   "outputs": [],
   "source": [
    "a /= 5\n",
    "a *= 2\n",
    "a **= 5\n",
    "a -= 3"
   ]
  },
  {
   "cell_type": "markdown",
   "id": "96b0f9db",
   "metadata": {},
   "source": [
    "# Karşılaştırma Operatörleri"
   ]
  },
  {
   "cell_type": "markdown",
   "id": "0829cfba",
   "metadata": {},
   "source": [
    "**Eşittir (==)**"
   ]
  },
  {
   "cell_type": "code",
   "execution_count": 48,
   "id": "97b1f5ba",
   "metadata": {},
   "outputs": [
    {
     "name": "stdout",
     "output_type": "stream",
     "text": [
      "True\n",
      "False\n",
      "False\n"
     ]
    }
   ],
   "source": [
    "print(3.14==3.14)\n",
    "print(5==3)\n",
    "print(\"Machine\"==\"machine\") #Ascii değeri ile karşılaştırma"
   ]
  },
  {
   "cell_type": "code",
   "execution_count": 47,
   "id": "19819be2",
   "metadata": {},
   "outputs": [
    {
     "name": "stdout",
     "output_type": "stream",
     "text": [
      "False\n",
      "True\n"
     ]
    }
   ],
   "source": [
    "print(5==\"5\")\n",
    "print(\"5\"==\"5\")"
   ]
  },
  {
   "cell_type": "markdown",
   "id": "00f1af42",
   "metadata": {},
   "source": [
    "**Eşit değildir (!=)**"
   ]
  },
  {
   "cell_type": "code",
   "execution_count": 49,
   "id": "152193a2",
   "metadata": {},
   "outputs": [
    {
     "name": "stdout",
     "output_type": "stream",
     "text": [
      "True\n",
      "False\n"
     ]
    }
   ],
   "source": [
    "print(3!=5)\n",
    "print(\"5\"!=\"5\")"
   ]
  },
  {
   "cell_type": "markdown",
   "id": "4f4878cd",
   "metadata": {},
   "source": [
    "**Büyüktür (>)**"
   ]
  },
  {
   "cell_type": "code",
   "execution_count": 51,
   "id": "0b6e57eb",
   "metadata": {},
   "outputs": [
    {
     "name": "stdout",
     "output_type": "stream",
     "text": [
      "True\n"
     ]
    }
   ],
   "source": [
    "print(4>3)"
   ]
  },
  {
   "cell_type": "code",
   "execution_count": 53,
   "id": "41d6e308",
   "metadata": {},
   "outputs": [
    {
     "name": "stdout",
     "output_type": "stream",
     "text": [
      "True\n"
     ]
    }
   ],
   "source": [
    "print(\"Zearning\">\"Machine\") #Ascii değeri ile karşılaştırma"
   ]
  },
  {
   "cell_type": "code",
   "execution_count": 54,
   "id": "4ec955ce",
   "metadata": {},
   "outputs": [
    {
     "name": "stdout",
     "output_type": "stream",
     "text": [
      "True\n"
     ]
    }
   ],
   "source": [
    "print(\"zebra\">\"Zebra\") #Ascii değeri ile karşılaştırma"
   ]
  },
  {
   "cell_type": "markdown",
   "id": "3f2328ae",
   "metadata": {},
   "source": [
    "**Küçüktür (<)**"
   ]
  },
  {
   "cell_type": "code",
   "execution_count": 56,
   "id": "10f3283e",
   "metadata": {},
   "outputs": [
    {
     "name": "stdout",
     "output_type": "stream",
     "text": [
      "True\n"
     ]
    }
   ],
   "source": [
    "print(3<3.14)"
   ]
  },
  {
   "cell_type": "code",
   "execution_count": 57,
   "id": "4957d04e",
   "metadata": {},
   "outputs": [
    {
     "name": "stdout",
     "output_type": "stream",
     "text": [
      "True\n"
     ]
    }
   ],
   "source": [
    "print(\"Artificial\"<\"Intelligence\")"
   ]
  },
  {
   "cell_type": "markdown",
   "id": "7b7ede49",
   "metadata": {},
   "source": [
    "**Büyük Eşittir (>=)**"
   ]
  },
  {
   "cell_type": "markdown",
   "id": "3c2acd44",
   "metadata": {},
   "source": [
    "**Küçük Eşittir(<=)**"
   ]
  },
  {
   "cell_type": "code",
   "execution_count": 58,
   "id": "ace3acda",
   "metadata": {},
   "outputs": [
    {
     "name": "stdout",
     "output_type": "stream",
     "text": [
      "True\n",
      "True\n"
     ]
    }
   ],
   "source": [
    "print(5>=5)\n",
    "print(5>=4)"
   ]
  },
  {
   "cell_type": "code",
   "execution_count": 60,
   "id": "bed4fb5f",
   "metadata": {},
   "outputs": [
    {
     "name": "stdout",
     "output_type": "stream",
     "text": [
      "True\n",
      "True\n"
     ]
    }
   ],
   "source": [
    "print(3<=4)\n",
    "print(3<=3)"
   ]
  },
  {
   "cell_type": "markdown",
   "id": "6df02b55",
   "metadata": {},
   "source": [
    "Zincirleme Karşılaştırma:"
   ]
  },
  {
   "cell_type": "code",
   "execution_count": null,
   "id": "57cbbe82",
   "metadata": {},
   "outputs": [
    {
     "name": "stdout",
     "output_type": "stream",
     "text": [
      "False\n",
      "True\n"
     ]
    }
   ],
   "source": [
    "print(3<6<8)\n",
    "print(\"c\">\"b\">\"a\")"
   ]
  },
  {
   "cell_type": "markdown",
   "id": "25bd756e",
   "metadata": {},
   "source": [
    "# Mantıksal Operatörler"
   ]
  },
  {
   "cell_type": "markdown",
   "id": "88f1aa96",
   "metadata": {},
   "source": [
    "**and**: Mantıksal ve operatörüdür. Python içerisinde değerlendirilirken False (0) ile karşılaşırsa False (0) döner. Karşılaşmazsa en son değer döner. "
   ]
  },
  {
   "cell_type": "code",
   "execution_count": 14,
   "id": "203ac331",
   "metadata": {},
   "outputs": [
    {
     "name": "stdout",
     "output_type": "stream",
     "text": [
      "False\n"
     ]
    }
   ],
   "source": [
    "print(True and False)"
   ]
  },
  {
   "cell_type": "code",
   "execution_count": 15,
   "id": "eb8a811d",
   "metadata": {},
   "outputs": [
    {
     "name": "stdout",
     "output_type": "stream",
     "text": [
      "1\n",
      "0\n",
      "0\n",
      "0\n"
     ]
    }
   ],
   "source": [
    "print(1 and 1)\n",
    "print(1 and 0)\n",
    "print(0 and 1)\n",
    "print(0 and 0)"
   ]
  },
  {
   "cell_type": "code",
   "execution_count": null,
   "id": "a2e438bf",
   "metadata": {},
   "outputs": [],
   "source": [
    "a = 1\n",
    "b = 1\n",
    "print(a and b)"
   ]
  },
  {
   "cell_type": "code",
   "execution_count": 19,
   "id": "308f511c",
   "metadata": {},
   "outputs": [
    {
     "name": "stdout",
     "output_type": "stream",
     "text": [
      "7\n"
     ]
    }
   ],
   "source": [
    "print(1 and 3 and 5 and 6 and 7)"
   ]
  },
  {
   "cell_type": "code",
   "execution_count": 18,
   "id": "a9fd0b89",
   "metadata": {},
   "outputs": [
    {
     "name": "stdout",
     "output_type": "stream",
     "text": [
      "10\n"
     ]
    }
   ],
   "source": [
    "print(1 and 1 and 1 and 1 and 10)"
   ]
  },
  {
   "cell_type": "code",
   "execution_count": 21,
   "id": "a91f3334",
   "metadata": {},
   "outputs": [
    {
     "name": "stdout",
     "output_type": "stream",
     "text": [
      "False\n"
     ]
    }
   ],
   "source": [
    "print(5>3 and 7<6)"
   ]
  },
  {
   "cell_type": "markdown",
   "id": "4889af07",
   "metadata": {},
   "source": [
    "**or**: Mantıksal veya operatörüdür. Python içerisinde değerlendirilirken True ile karşılaşırsa True döner. Karşılaşmazsa en son değer döner (False). "
   ]
  },
  {
   "cell_type": "code",
   "execution_count": 22,
   "id": "1b778aaa",
   "metadata": {},
   "outputs": [
    {
     "name": "stdout",
     "output_type": "stream",
     "text": [
      "1\n",
      "1\n",
      "1\n",
      "0\n"
     ]
    }
   ],
   "source": [
    "print(1 or 1)\n",
    "print(1 or 0)\n",
    "print(0 or 1)\n",
    "print(0 or 0)"
   ]
  },
  {
   "cell_type": "code",
   "execution_count": 25,
   "id": "7d55a7d8",
   "metadata": {},
   "outputs": [
    {
     "name": "stdout",
     "output_type": "stream",
     "text": [
      "11\n"
     ]
    }
   ],
   "source": [
    "print(0 or 11 or 0 or 0 or 10)"
   ]
  },
  {
   "cell_type": "code",
   "execution_count": 26,
   "id": "65aa5f7d",
   "metadata": {},
   "outputs": [
    {
     "name": "stdout",
     "output_type": "stream",
     "text": [
      "True\n"
     ]
    }
   ],
   "source": [
    "print(5>3 or 3<1)"
   ]
  },
  {
   "cell_type": "markdown",
   "id": "3338a5d3",
   "metadata": {},
   "source": [
    "**not**: Mantıksal değil operatörüdür"
   ]
  },
  {
   "cell_type": "code",
   "execution_count": 30,
   "id": "c3d566d1",
   "metadata": {},
   "outputs": [
    {
     "name": "stdout",
     "output_type": "stream",
     "text": [
      "True\n"
     ]
    }
   ],
   "source": [
    "a = not (0)\n",
    "print(a)"
   ]
  },
  {
   "cell_type": "markdown",
   "id": "c81e2096",
   "metadata": {},
   "source": [
    "# Listeler"
   ]
  },
  {
   "cell_type": "markdown",
   "id": "c5743ef4",
   "metadata": {},
   "source": [
    "**Liste:** Birden fazla veriyi içerisinde tutan yapılardır. [] ile tanımlanır.    \n",
    "Listelerin Özellikleri:\n",
    "1. Sıralı yapılardır.\n",
    "2. Farklı veri tiplerinden oluşabilirler.\n",
    "3. Elemanları sonradan değiştirilebilir. "
   ]
  },
  {
   "cell_type": "code",
   "execution_count": 1,
   "id": "2c8c6e20",
   "metadata": {},
   "outputs": [],
   "source": [
    "liste = [1,2,3] #Liste Tanımlama\n",
    "liste2 = [1, \"String\" , 5.67 , True] #Farklı veri tiplerini tutabilir."
   ]
  },
  {
   "cell_type": "code",
   "execution_count": 3,
   "id": "e647fc31",
   "metadata": {},
   "outputs": [
    {
     "name": "stdout",
     "output_type": "stream",
     "text": [
      "[1, 'String', 5.67, True]\n"
     ]
    }
   ],
   "source": [
    "print(liste2)"
   ]
  },
  {
   "cell_type": "markdown",
   "id": "7b2e0cdd",
   "metadata": {},
   "source": [
    "Index: Elemanların konumunu gösteren sıra numarasıdır. Python listeleri (ve diğer pek çok terim için) indexleme 0'dan başlar.    \n",
    "indexleme yapmak için liste ismini yazdıktan sonra [] içerisine ilgili index yazılarak elemanlara ulaşılabilir. Indexleme tersten de yapılabilir (- işareti ile). Indexleme belirliği bir aralığı kapsayabilir [başlangıç değeri : bitiş değeri] şeklinde.    \n"
   ]
  },
  {
   "cell_type": "code",
   "execution_count": 4,
   "id": "7302acca",
   "metadata": {},
   "outputs": [
    {
     "name": "stdout",
     "output_type": "stream",
     "text": [
      "Machine\n",
      "Learning\n",
      "Supervised\n"
     ]
    }
   ],
   "source": [
    "liste = [\"Machine\", \"Learning\", \"Supervised\" , \"Learning\"]\n",
    "print(liste[0]) #index 0'daki eleman\n",
    "print(liste[1]) #index 1'daki eleman\n",
    "print(liste[2]) #index 2'daki eleman"
   ]
  },
  {
   "cell_type": "code",
   "execution_count": 5,
   "id": "2ec276f7",
   "metadata": {},
   "outputs": [
    {
     "name": "stdout",
     "output_type": "stream",
     "text": [
      "Learning\n",
      "Supervised\n"
     ]
    }
   ],
   "source": [
    "print(liste[-1]) #tersten indexleme\n",
    "print(liste[-2]) #tersten indexleme"
   ]
  },
  {
   "cell_type": "code",
   "execution_count": null,
   "id": "99c7316d",
   "metadata": {},
   "outputs": [],
   "source": [
    "print(liste[4])"
   ]
  },
  {
   "cell_type": "code",
   "execution_count": 7,
   "id": "5ac753d1",
   "metadata": {},
   "outputs": [
    {
     "name": "stdout",
     "output_type": "stream",
     "text": [
      "['Machine', 'Learning']\n",
      "['Supervised']\n",
      "['Machine', 'Supervised']\n",
      "['Learning', 'Supervised', 'Learning', 'Machine']\n"
     ]
    }
   ],
   "source": [
    "print(liste[0:2]) #Belirli bir aralığı indexleme\n",
    "print(liste[2:3]) #Belirli bir aralığı indexleme\n",
    "print(liste[0:3:2]) # [Başlangıç : Bitiş : Adım Büyüklüğü]\n",
    "\n",
    "print(liste[::-1]) #Liste ters çevirme"
   ]
  },
  {
   "cell_type": "markdown",
   "id": "0c8e1083",
   "metadata": {},
   "source": [
    "Listeler üzerinde aritmetik operatörlerin bazıları kullanılabilir."
   ]
  },
  {
   "cell_type": "code",
   "execution_count": 9,
   "id": "555fbc10",
   "metadata": {},
   "outputs": [
    {
     "name": "stdout",
     "output_type": "stream",
     "text": [
      "['A', 'A', 'A']\n"
     ]
    }
   ],
   "source": [
    "print([\"A\"]*3)"
   ]
  },
  {
   "cell_type": "code",
   "execution_count": 11,
   "id": "f80c235a",
   "metadata": {},
   "outputs": [
    {
     "name": "stdout",
     "output_type": "stream",
     "text": [
      "['A', 'B', 'C', 'D']\n"
     ]
    }
   ],
   "source": [
    "liste = [\"A\",\"B\"]\n",
    "liste2 = [\"C\",\"D\"]\n",
    "print(liste+liste2)"
   ]
  },
  {
   "cell_type": "code",
   "execution_count": 47,
   "id": "4706cc6b",
   "metadata": {},
   "outputs": [
    {
     "name": "stdout",
     "output_type": "stream",
     "text": [
      "[1, 2, 3, 4, 5, 6]\n",
      "[1, 2, 10, 4, 5, 6]\n"
     ]
    }
   ],
   "source": [
    "liste = [1,2,3,4,5,6]\n",
    "print(liste)\n",
    "liste[2] = 10\n",
    "print(liste)"
   ]
  },
  {
   "cell_type": "code",
   "execution_count": 48,
   "id": "34bee75c",
   "metadata": {},
   "outputs": [
    {
     "name": "stdout",
     "output_type": "stream",
     "text": [
      "['Machine', 'Learning', 'Supervised', 'Learning']\n",
      "['Machine', 'Learning', 'Supervised', 'Algorithms']\n"
     ]
    }
   ],
   "source": [
    "liste = [\"Machine\", \"Learning\", \"Supervised\" , \"Learning\"]\n",
    "print(liste)\n",
    "liste[-1] = \"Algorithms\"\n",
    "print(liste)"
   ]
  },
  {
   "cell_type": "markdown",
   "id": "5cd21d86",
   "metadata": {},
   "source": [
    "# Liste Metotları"
   ]
  },
  {
   "cell_type": "markdown",
   "id": "25ed0e53",
   "metadata": {},
   "source": [
    "Liste metotlarının genel kullanılışı liste ismi l olmak üzere: **l.metot()** şeklindedir."
   ]
  },
  {
   "cell_type": "markdown",
   "id": "176a42a6",
   "metadata": {},
   "source": [
    "**append(x)** -> x elemanını listenin sonuna ekler.    "
   ]
  },
  {
   "cell_type": "code",
   "execution_count": 1,
   "id": "48c839d5",
   "metadata": {},
   "outputs": [],
   "source": [
    "liste = [\"A\",\"B\",\"C\",\"D\"]"
   ]
  },
  {
   "cell_type": "code",
   "execution_count": 2,
   "id": "97664e9d",
   "metadata": {},
   "outputs": [
    {
     "data": {
      "text/plain": [
       "['A', 'B', 'C', 'D']"
      ]
     },
     "execution_count": 2,
     "metadata": {},
     "output_type": "execute_result"
    }
   ],
   "source": [
    "liste"
   ]
  },
  {
   "cell_type": "code",
   "execution_count": 3,
   "id": "2f2214da",
   "metadata": {},
   "outputs": [
    {
     "name": "stdout",
     "output_type": "stream",
     "text": [
      "['A', 'B', 'C', 'D', 'E']\n"
     ]
    }
   ],
   "source": [
    "liste.append(\"E\") #En sona eleman olarak ekler\n",
    "print(liste)"
   ]
  },
  {
   "cell_type": "markdown",
   "id": "002d8dc0",
   "metadata": {},
   "source": [
    "**insert(i,x)** -> i. indexe x elemanını ekler. "
   ]
  },
  {
   "cell_type": "code",
   "execution_count": 4,
   "id": "81bf9c6a",
   "metadata": {},
   "outputs": [
    {
     "name": "stdout",
     "output_type": "stream",
     "text": [
      "['A', 'B', 'C', 'Ç', 'D', 'E']\n"
     ]
    }
   ],
   "source": [
    "liste.insert(3,\"Ç\")\n",
    "print(liste)"
   ]
  },
  {
   "cell_type": "markdown",
   "id": "c4f41b23",
   "metadata": {},
   "source": [
    "**extend(l)** -> l listesinin elemanlarını listenin sonuna ekler.   "
   ]
  },
  {
   "cell_type": "code",
   "execution_count": 5,
   "id": "72c5e1ba",
   "metadata": {},
   "outputs": [
    {
     "name": "stdout",
     "output_type": "stream",
     "text": [
      "['A', 'B', 'C', 'Ç', 'D', 'E', 'F', 'G', 'H']\n"
     ]
    }
   ],
   "source": [
    "liste2 = [\"F\",\"G\",\"H\"]\n",
    "liste.extend(liste2)\n",
    "print(liste)"
   ]
  },
  {
   "cell_type": "code",
   "execution_count": 6,
   "id": "d1180776",
   "metadata": {},
   "outputs": [
    {
     "name": "stdout",
     "output_type": "stream",
     "text": [
      "['A', 'B', 'C', 'D', ['E', 'F', 'G']]\n"
     ]
    }
   ],
   "source": [
    "liste3 = [\"A\",\"B\",\"C\",\"D\"]\n",
    "liste3.append([\"E\",\"F\",\"G\"]) #Listeyi tek bir eleman olarak ekler (extend her bir elemanı ayrı ayrı eklemişti.)\n",
    "print(liste3)"
   ]
  },
  {
   "cell_type": "markdown",
   "id": "3fe4caf2",
   "metadata": {},
   "source": [
    "**remove(x)** -> İlk eşleşen x değerini listeden siler.   "
   ]
  },
  {
   "cell_type": "code",
   "execution_count": 7,
   "id": "fb0594ed",
   "metadata": {},
   "outputs": [
    {
     "name": "stdout",
     "output_type": "stream",
     "text": [
      "['B', 'C', 'A']\n"
     ]
    }
   ],
   "source": [
    "liste = [\"A\",\"B\",\"C\",\"A\"]\n",
    "liste.remove(\"A\")\n",
    "print(liste) #Sadece ilk A'yı sildiği için diğer A kaldı."
   ]
  },
  {
   "cell_type": "code",
   "execution_count": null,
   "id": "d45d34ba",
   "metadata": {},
   "outputs": [],
   "source": [
    "liste = [\"A\",\"B\",\"C\",\"A\"]\n",
    "liste.remove(\"F\")"
   ]
  },
  {
   "cell_type": "markdown",
   "id": "06ab228c",
   "metadata": {},
   "source": [
    "**pop(i)** -> i. indexteki elemanı siler.   "
   ]
  },
  {
   "cell_type": "code",
   "execution_count": 8,
   "id": "9e80fdcd",
   "metadata": {},
   "outputs": [
    {
     "name": "stdout",
     "output_type": "stream",
     "text": [
      "[5, 8, 1, 9]\n"
     ]
    }
   ],
   "source": [
    "liste = [5,8,1,7,9]\n",
    "liste.pop(3)\n",
    "print(liste)"
   ]
  },
  {
   "cell_type": "code",
   "execution_count": null,
   "id": "cf9ef676",
   "metadata": {},
   "outputs": [],
   "source": [
    "liste = [5,8,1,7,9]\n",
    "liste.pop(50)"
   ]
  },
  {
   "cell_type": "markdown",
   "id": "fd42009c",
   "metadata": {},
   "source": [
    "**clear** -> listedeki bütün elemanları siler."
   ]
  },
  {
   "cell_type": "code",
   "execution_count": 9,
   "id": "bdb354a2",
   "metadata": {},
   "outputs": [
    {
     "name": "stdout",
     "output_type": "stream",
     "text": [
      "[]\n"
     ]
    }
   ],
   "source": [
    "liste = [\"A\",\"B\",\"C\"]\n",
    "liste.clear()\n",
    "print(liste)"
   ]
  },
  {
   "cell_type": "markdown",
   "id": "c61eaa8a",
   "metadata": {},
   "source": [
    "**index(x)** -> İlk karşılaştığı x elemanının indexini döndürür."
   ]
  },
  {
   "cell_type": "code",
   "execution_count": 15,
   "id": "53a6204f",
   "metadata": {},
   "outputs": [
    {
     "name": "stdout",
     "output_type": "stream",
     "text": [
      "1\n"
     ]
    }
   ],
   "source": [
    "liste = [\"A\",\"B\",\"C\",\"D\",\"B\"]\n",
    "print(liste.index(\"B\"))"
   ]
  },
  {
   "cell_type": "markdown",
   "id": "db0c3dc2",
   "metadata": {},
   "source": [
    "**count(x)** -> x elemanından kaç tane olduğunu sayar."
   ]
  },
  {
   "cell_type": "code",
   "execution_count": 17,
   "id": "c0d41f4d",
   "metadata": {},
   "outputs": [
    {
     "name": "stdout",
     "output_type": "stream",
     "text": [
      "2\n",
      "0\n"
     ]
    }
   ],
   "source": [
    "liste = [\"A\",\"B\",\"C\",\"D\",\"B\"]\n",
    "print(liste.count(\"B\"))\n",
    "print(liste.count(\"E\")) #Eleman yoksa 0 döner."
   ]
  },
  {
   "cell_type": "markdown",
   "id": "92d0b6ed",
   "metadata": {},
   "source": [
    "**sort** -> listeyi sıralar. Default: küçükten büyüğe"
   ]
  },
  {
   "cell_type": "code",
   "execution_count": 19,
   "id": "8202b266",
   "metadata": {},
   "outputs": [
    {
     "name": "stdout",
     "output_type": "stream",
     "text": [
      "['A', 'B', 'C', 'E', 'F', 'Z']\n",
      "[92, 8, 7, 5, 4, 3, 2, 1]\n"
     ]
    }
   ],
   "source": [
    "liste = [\"B\",\"C\",\"A\",\"E\",\"F\",\"Z\"]\n",
    "liste.sort() #Küçükten büyüğe sıralama\n",
    "print(liste)\n",
    "\n",
    "liste2 = [5,3,4,7,8,92,2,1]\n",
    "liste2.sort(reverse=True) #Büyükten küçüğe sıralama\n",
    "print(liste2)"
   ]
  },
  {
   "cell_type": "markdown",
   "id": "d256a1da",
   "metadata": {},
   "source": [
    "**reverse** -> Listeyi ters çevirir."
   ]
  },
  {
   "cell_type": "code",
   "execution_count": 20,
   "id": "255ae439",
   "metadata": {},
   "outputs": [
    {
     "name": "stdout",
     "output_type": "stream",
     "text": [
      "['Z', 'F', 'E', 'A', 'C', 'B']\n"
     ]
    }
   ],
   "source": [
    "liste = [\"B\",\"C\",\"A\",\"E\",\"F\",\"Z\"]\n",
    "liste.reverse()\n",
    "print(liste)"
   ]
  },
  {
   "cell_type": "markdown",
   "id": "c4347998",
   "metadata": {},
   "source": [
    "**copy** -> Bir listeyi başka bir listeye kopyalar."
   ]
  },
  {
   "cell_type": "code",
   "execution_count": 21,
   "id": "43de376a",
   "metadata": {},
   "outputs": [
    {
     "name": "stdout",
     "output_type": "stream",
     "text": [
      "['A', 'B', 'C']\n"
     ]
    }
   ],
   "source": [
    "liste = [\"A\",\"B\",\"C\"]\n",
    "liste2 = liste.copy()\n",
    "print(liste2)"
   ]
  },
  {
   "cell_type": "markdown",
   "id": "be02ac1b",
   "metadata": {},
   "source": [
    "# Nested List"
   ]
  },
  {
   "cell_type": "markdown",
   "id": "84cc517b",
   "metadata": {},
   "source": [
    "Bir listenin içinde başka bir liste bulunması durumuna **nested list** denir. Python içerisinde iç içe sınırsız liste açabilirsiniz. (Ram izin verdiği müddetçe)     \n",
    "İç içe listelerde indexleme yapmak için en dıştaki listeden başlanıp ardışık indexleme yapılır."
   ]
  },
  {
   "cell_type": "code",
   "execution_count": 26,
   "id": "854d4f9e",
   "metadata": {},
   "outputs": [],
   "source": [
    "liste = [ [1,2,3] , [4,5,6] , [7,8,9] ]"
   ]
  },
  {
   "cell_type": "code",
   "execution_count": 28,
   "id": "591627dc",
   "metadata": {},
   "outputs": [
    {
     "name": "stdout",
     "output_type": "stream",
     "text": [
      "[1, 2, 3]\n",
      "[4, 5, 6]\n"
     ]
    }
   ],
   "source": [
    "print(liste[0])\n",
    "print(liste[1])"
   ]
  },
  {
   "cell_type": "code",
   "execution_count": 29,
   "id": "d320ea71",
   "metadata": {},
   "outputs": [
    {
     "name": "stdout",
     "output_type": "stream",
     "text": [
      "2\n"
     ]
    }
   ],
   "source": [
    "print(liste[0][1])"
   ]
  },
  {
   "cell_type": "code",
   "execution_count": 30,
   "id": "3f93edb1",
   "metadata": {},
   "outputs": [
    {
     "name": "stdout",
     "output_type": "stream",
     "text": [
      "9\n"
     ]
    }
   ],
   "source": [
    "print(liste[-1][-1])"
   ]
  },
  {
   "cell_type": "markdown",
   "id": "5e3ec378",
   "metadata": {},
   "source": [
    "# Tuple"
   ]
  },
  {
   "cell_type": "markdown",
   "id": "3cbfd7b3",
   "metadata": {},
   "source": [
    "Birden fazla veriyi saklayabilen yapıdır. () ile tanımlanır. Özellikleri:\n",
    "1. Sıralıdır.\n",
    "2. Değiştirilemez (Listelerden en önemli farkı)\n",
    "3. indexlenebilir.\n",
    "4. Tuple veriler listeye göre hafızada daha az yer kaplar ve daha hızlı çalışır. "
   ]
  },
  {
   "cell_type": "code",
   "execution_count": 31,
   "id": "16b57650",
   "metadata": {},
   "outputs": [],
   "source": [
    "t = (1,2,3) #tuple tanımlama\n",
    "t = (\"A\",5,3.14) #tuple tanımlama\n",
    "t = (5,) #Tek elemanlı ise , koyulmalı yoksa normal parantez gibi algılanır."
   ]
  },
  {
   "cell_type": "code",
   "execution_count": 36,
   "id": "cb445352",
   "metadata": {},
   "outputs": [],
   "source": [
    "t = ()"
   ]
  },
  {
   "cell_type": "code",
   "execution_count": 37,
   "id": "dc774653",
   "metadata": {},
   "outputs": [
    {
     "name": "stdout",
     "output_type": "stream",
     "text": [
      "<class 'tuple'>\n"
     ]
    }
   ],
   "source": [
    "print(type(t))"
   ]
  },
  {
   "cell_type": "code",
   "execution_count": 38,
   "id": "4172b242",
   "metadata": {},
   "outputs": [
    {
     "name": "stdout",
     "output_type": "stream",
     "text": [
      "A\n",
      "C\n",
      "E\n"
     ]
    }
   ],
   "source": [
    "t = (\"A\",\"B\",\"C\",\"D\",\"E\")\n",
    "print(t[0])\n",
    "print(t[2])\n",
    "print(t[-1])"
   ]
  },
  {
   "cell_type": "code",
   "execution_count": 40,
   "id": "69efa6f9",
   "metadata": {},
   "outputs": [
    {
     "name": "stdout",
     "output_type": "stream",
     "text": [
      "2\n",
      "3\n"
     ]
    }
   ],
   "source": [
    "t = (1, 2, 2, 3)\n",
    "print(t.count(2))  # 2\n",
    "print(t.index(3))  # 3 sayısının indeksi → 3"
   ]
  },
  {
   "cell_type": "code",
   "execution_count": 42,
   "id": "19e05200",
   "metadata": {},
   "outputs": [
    {
     "ename": "TypeError",
     "evalue": "'tuple' object does not support item assignment",
     "output_type": "error",
     "traceback": [
      "\u001b[31m---------------------------------------------------------------------------\u001b[39m",
      "\u001b[31mTypeError\u001b[39m                                 Traceback (most recent call last)",
      "\u001b[36mCell\u001b[39m\u001b[36m \u001b[39m\u001b[32mIn[42]\u001b[39m\u001b[32m, line 1\u001b[39m\n\u001b[32m----> \u001b[39m\u001b[32m1\u001b[39m \u001b[43mt\u001b[49m\u001b[43m[\u001b[49m\u001b[32;43m1\u001b[39;49m\u001b[43m]\u001b[49m = \u001b[32m5\u001b[39m\n",
      "\u001b[31mTypeError\u001b[39m: 'tuple' object does not support item assignment"
     ]
    }
   ],
   "source": [
    "t[1] = 5"
   ]
  },
  {
   "cell_type": "markdown",
   "id": "81e62e36",
   "metadata": {},
   "source": [
    "# Set"
   ]
  },
  {
   "cell_type": "markdown",
   "id": "cbdd54db",
   "metadata": {},
   "source": [
    "set, sırasız (unordered) ve tekrarsız (unique) elemanlardan oluşan bir koleksiyon veri tipidir. {} ile tanımlanır. Küme matematiği konusunda kullanışlıdır. Özellikleri:\n",
    "1. Sırası yoktur.\n",
    "2. tekrarsızdır (unique). Yani bir değer birden fazla kez geçemez.\n",
    "3. Yeni eleman eklenebilir veya silinebilir. (Mutable)\n",
    "4. Hashlenebilen farklı veri tiplerini bir arada tutar. (list,set,dict eleman olamaz.)"
   ]
  },
  {
   "cell_type": "code",
   "execution_count": 1,
   "id": "b2d46872",
   "metadata": {},
   "outputs": [],
   "source": [
    "s = {1, 2, 3} #Set tanımlama\n",
    "s = {\"A\",\"B\",\"C\"} #Set tanımlama"
   ]
  },
  {
   "cell_type": "code",
   "execution_count": 69,
   "id": "0a016d75",
   "metadata": {},
   "outputs": [
    {
     "name": "stdout",
     "output_type": "stream",
     "text": [
      "{1, 2}\n"
     ]
    }
   ],
   "source": [
    "s = {1, 2}\n",
    "s.add(2) #Sete eleman ekleme\n",
    "print(s)"
   ]
  },
  {
   "cell_type": "code",
   "execution_count": 58,
   "id": "b77aaa11",
   "metadata": {},
   "outputs": [
    {
     "name": "stdout",
     "output_type": "stream",
     "text": [
      "{1, 2, 4, 5, 6}\n"
     ]
    }
   ],
   "source": [
    "s = {1, 2}\n",
    "s.update((4,5,6)) #Sete yeni elemanlar ekleme\n",
    "print(s)"
   ]
  },
  {
   "cell_type": "code",
   "execution_count": null,
   "id": "3a5fd992",
   "metadata": {},
   "outputs": [],
   "source": [
    "s = {1, 2}\n",
    "s.remove(2) # Setten elemanı siler | Eleman yoksa hata verir\n",
    "print(s)\n",
    "s.remove(10)"
   ]
  },
  {
   "cell_type": "code",
   "execution_count": 60,
   "id": "3746dc0d",
   "metadata": {},
   "outputs": [
    {
     "name": "stdout",
     "output_type": "stream",
     "text": [
      "{1}\n"
     ]
    }
   ],
   "source": [
    "s = {1, 2}\n",
    "s.discard(2) # Setten elemanı siler | Eleman yoksa hata vermez\n",
    "s.discard(10)\n",
    "print(s)"
   ]
  },
  {
   "cell_type": "code",
   "execution_count": 65,
   "id": "ff8968b7",
   "metadata": {},
   "outputs": [
    {
     "name": "stdout",
     "output_type": "stream",
     "text": [
      "{2, 3, 4, 5, 6}\n"
     ]
    }
   ],
   "source": [
    "s = {1,2,3,4,5,6}\n",
    "s.pop() #Setten rastgele bir eleman siler\n",
    "print(s)"
   ]
  },
  {
   "cell_type": "code",
   "execution_count": 66,
   "id": "e6d4e5a2",
   "metadata": {},
   "outputs": [
    {
     "name": "stdout",
     "output_type": "stream",
     "text": [
      "set()\n"
     ]
    }
   ],
   "source": [
    "s = {1,2,3,4,5,6}\n",
    "s.clear() #Seti temizler\n",
    "print(s)"
   ]
  },
  {
   "cell_type": "markdown",
   "id": "eae7faba",
   "metadata": {},
   "source": [
    "**küme matematiği**"
   ]
  },
  {
   "cell_type": "code",
   "execution_count": 71,
   "id": "281f9737",
   "metadata": {},
   "outputs": [
    {
     "name": "stdout",
     "output_type": "stream",
     "text": [
      "{1, 2, 3, 4, 5}\n",
      "{3}\n",
      "{1, 2}\n",
      "{1, 2, 4, 5}\n"
     ]
    }
   ],
   "source": [
    "A = {1, 2, 3}\n",
    "B = {3, 4, 5}\n",
    "\n",
    "print(A | B)   # Birleşim → {1, 2, 3, 4, 5}\n",
    "print(A & B)   # Kesişim → {3}\n",
    "print(A - B)   # Fark → {1, 2}\n",
    "print(A ^ B)   # Simetrik fark → {1, 2, 4, 5}"
   ]
  },
  {
   "cell_type": "markdown",
   "id": "5f060c02",
   "metadata": {},
   "source": [
    "# Dictionary"
   ]
  },
  {
   "cell_type": "markdown",
   "id": "89a5e69d",
   "metadata": {},
   "source": [
    "Python içerisinde dict'ler **key (anahtar) -> value (değer)** eşleşmesini tutar.        \n",
    "Key değeri unique (benzersiz) olmalıdır. Bir key birden fazla kez kullanılamaz. Eğer aynı key birden fazla yazılırsa en sonuncu geçerli olur.       \n",
    "Key _str, int, float, tuple, bool_ türlerinde olabilir. _list, dict_ olamaz. (Hashable)\n"
   ]
  },
  {
   "cell_type": "code",
   "execution_count": 5,
   "id": "e8d087f4",
   "metadata": {},
   "outputs": [
    {
     "name": "stdout",
     "output_type": "stream",
     "text": [
      "{'name': 'Lara Croft', 'age': 21, 'grades': [85, 90, 78]}\n",
      "[85, 90, 78]\n"
     ]
    }
   ],
   "source": [
    "student = {\n",
    "    \"name\": \"Lara Croft\",\n",
    "    \"age\": 21,\n",
    "    \"grades\": [85, 90, 78]\n",
    "}\n",
    "print(student)\n",
    "\n",
    "print(student[\"grades\"])"
   ]
  },
  {
   "cell_type": "code",
   "execution_count": 6,
   "id": "290f65f7",
   "metadata": {},
   "outputs": [
    {
     "name": "stdout",
     "output_type": "stream",
     "text": [
      "{'name': 'Peter Parker', 'age': 21, 'grades': [85, 90, 78]}\n"
     ]
    }
   ],
   "source": [
    "student = {\n",
    "    \"name\": \"Lara Croft\",\n",
    "    \"age\": 21,\n",
    "    \"grades\": [85, 90, 78],\n",
    "    \"name\": \"Peter Parker\"\n",
    "}\n",
    "print(student)"
   ]
  },
  {
   "cell_type": "markdown",
   "id": "837d7742",
   "metadata": {},
   "source": [
    "Dict içerisinde daha sonradan elemalar değiştirilebilir."
   ]
  },
  {
   "cell_type": "code",
   "execution_count": 7,
   "id": "ed22b2ab",
   "metadata": {},
   "outputs": [
    {
     "name": "stdout",
     "output_type": "stream",
     "text": [
      "{'name': 'Sancar Han', 'age': 21, 'grades': [85, 90, 78]}\n"
     ]
    }
   ],
   "source": [
    "student['name'] = \"Sancar Han\"\n",
    "print(student)"
   ]
  },
  {
   "cell_type": "code",
   "execution_count": 8,
   "id": "1659b83e",
   "metadata": {},
   "outputs": [
    {
     "name": "stdout",
     "output_type": "stream",
     "text": [
      "Sancar Han\n",
      "None\n"
     ]
    }
   ],
   "source": [
    "print(student.get(\"name\")) # ilgili key için value getirir.\n",
    "print(student.get(\"school\")) #Key yoksa None döner."
   ]
  },
  {
   "cell_type": "code",
   "execution_count": 10,
   "id": "83c02a77",
   "metadata": {},
   "outputs": [
    {
     "name": "stdout",
     "output_type": "stream",
     "text": [
      "dict_keys(['name', 'age', 'grades'])\n",
      "dict_values(['Sancar Han', 21, [85, 90, 78]])\n",
      "dict_items([('name', 'Sancar Han'), ('age', 21), ('grades', [85, 90, 78])])\n",
      "name\n"
     ]
    }
   ],
   "source": [
    "print(student.keys()) #Bütün key değerleri gelir. | indexleme yapılmaz listeye çevirilebilir.\n",
    "print(student.values()) #Bütün value değerleri gelir. | indexleme yapılmaz listeye çevirilebilir.\n",
    "print(student.items()) #Bütün key-value ikilileri gelir. | indexleme yapılmaz listeye çevirilebilir.\n",
    "\n",
    "print(list(student.keys())[0]) #Listeye çevir indexleme yap."
   ]
  },
  {
   "cell_type": "code",
   "execution_count": 12,
   "id": "845d7d34",
   "metadata": {},
   "outputs": [
    {
     "name": "stdout",
     "output_type": "stream",
     "text": [
      "{'name': 'Sancar Han', 'age': 40, 'grades': [85, 90, 78]}\n"
     ]
    }
   ],
   "source": [
    "student.update({\"age\": 40})     # Değer güncelleme\n",
    "print(student)                  # {'name': 'Ali', 'age': 22}"
   ]
  },
  {
   "cell_type": "code",
   "execution_count": 13,
   "id": "7df644f6",
   "metadata": {},
   "outputs": [
    {
     "name": "stdout",
     "output_type": "stream",
     "text": [
      "{'age': 40, 'grades': [85, 90, 78]}\n"
     ]
    }
   ],
   "source": [
    "student.pop(\"name\")             # 'name' anahtarını sil\n",
    "print(student)"
   ]
  },
  {
   "cell_type": "code",
   "execution_count": 14,
   "id": "43dc7af1",
   "metadata": {},
   "outputs": [
    {
     "name": "stdout",
     "output_type": "stream",
     "text": [
      "{}\n"
     ]
    }
   ],
   "source": [
    "student.clear()                 # Tüm elemanları sil\n",
    "print(student)"
   ]
  },
  {
   "cell_type": "markdown",
   "id": "c7d1fe1d",
   "metadata": {},
   "source": [
    "# String işlemleri"
   ]
  },
  {
   "cell_type": "markdown",
   "id": "ac648df5",
   "metadata": {},
   "source": [
    "üç farklı şekilde string tanımlanabilir."
   ]
  },
  {
   "cell_type": "code",
   "execution_count": 1,
   "id": "c2f46f4a",
   "metadata": {},
   "outputs": [],
   "source": [
    "s1 = \"Merhaba\"\n",
    "s2 = 'Python'\n",
    "s3 = \"\"\"Bu\n",
    "çok satırlı\n",
    "bir yazıdır.\"\"\""
   ]
  },
  {
   "cell_type": "markdown",
   "id": "2453b16b",
   "metadata": {},
   "source": [
    "\\+ ve * operatörü kullanılabilir"
   ]
  },
  {
   "cell_type": "code",
   "execution_count": 3,
   "id": "cafdbfa8",
   "metadata": {},
   "outputs": [
    {
     "name": "stdout",
     "output_type": "stream",
     "text": [
      "Merhaba Dünya\n",
      "HaHaHa\n"
     ]
    }
   ],
   "source": [
    "print(\"Merhaba\" + \" Dünya\")  # Birleştirme\n",
    "print(\"Ha\" * 3)             # Tekrar"
   ]
  },
  {
   "cell_type": "markdown",
   "id": "a6bd3362",
   "metadata": {},
   "source": [
    "Liste gibi indexleme yapılabilir. Her harf bir eleman gibi değerlendirilebilir."
   ]
  },
  {
   "cell_type": "code",
   "execution_count": 4,
   "id": "32e2add1",
   "metadata": {},
   "outputs": [
    {
     "name": "stdout",
     "output_type": "stream",
     "text": [
      "P\n",
      "n\n",
      "Pyt\n",
      "nohtyP\n"
     ]
    }
   ],
   "source": [
    "kelime = \"Python\"\n",
    "print(kelime[0])     # 'P'\n",
    "print(kelime[-1])    # 'n'\n",
    "print(kelime[0:3])   # 'Pyt'\n",
    "print(kelime[::-1])  # 'nohtyP' (ters çevirme)"
   ]
  },
  {
   "cell_type": "code",
   "execution_count": 6,
   "id": "7b4160be",
   "metadata": {},
   "outputs": [
    {
     "name": "stdout",
     "output_type": "stream",
     "text": [
      "MERHABA\n",
      "merhaba\n",
      "Merhaba Dünya\n",
      "Merhaba dünya\n"
     ]
    }
   ],
   "source": [
    "yazi = \"MerHaBa\"\n",
    "\n",
    "print(yazi.upper())     # 'MERHABA'\n",
    "\n",
    "print(yazi.lower())     # 'merhaba'\n",
    "\n",
    "yazi = \"MerHaBa dÜnYa\"\n",
    "\n",
    "print(yazi.title())\n",
    "\n",
    "print(yazi.capitalize())\n"
   ]
  },
  {
   "cell_type": "markdown",
   "id": "0dba12c6",
   "metadata": {},
   "source": [
    "**.isdecimal()** : Sadece ondalık sayı karakterleri (0-9)    \n",
    "**.isdigit()** : Ondalık ve diğer rakam karakterleri (üst simge vb.)    \n",
    "**.isnumeric()** : isdigit() + daha fazla sayısal karakter (Roma rakamları, kesirler vb.)"
   ]
  },
  {
   "cell_type": "code",
   "execution_count": 7,
   "id": "34ae78dc",
   "metadata": {},
   "outputs": [
    {
     "name": "stdout",
     "output_type": "stream",
     "text": [
      "True\n",
      "False\n",
      "False\n"
     ]
    }
   ],
   "source": [
    "s1 = \"12345\"\n",
    "print(s1.isdecimal()) #Tüm karakterler rakamsa True döner.\n",
    "\n",
    "s2 = \"123abc\"\n",
    "print(s2.isdecimal())\n",
    "\n",
    "s3 = \"²³\"\n",
    "print(s3.isdecimal())"
   ]
  },
  {
   "cell_type": "code",
   "execution_count": 9,
   "id": "c9e1b987",
   "metadata": {},
   "outputs": [
    {
     "name": "stdout",
     "output_type": "stream",
     "text": [
      "True\n",
      "False\n",
      "True\n"
     ]
    }
   ],
   "source": [
    "s1 = \"12345\"\n",
    "print(s1.isdigit())\n",
    "\n",
    "s2 = \"123abc\"\n",
    "print(s2.isdigit())\n",
    "\n",
    "s3 = \"²³\"\n",
    "print(s3.isdigit())"
   ]
  },
  {
   "cell_type": "code",
   "execution_count": 10,
   "id": "b60d2da3",
   "metadata": {},
   "outputs": [
    {
     "name": "stdout",
     "output_type": "stream",
     "text": [
      "True\n",
      "False\n",
      "True\n"
     ]
    }
   ],
   "source": [
    "s1 = \"12345\"\n",
    "print(s1.isnumeric())\n",
    "\n",
    "s2 = \"123abc\"\n",
    "print(s2.isnumeric())\n",
    "\n",
    "s3 = \"²³\"\n",
    "print(s3.isnumeric())"
   ]
  },
  {
   "cell_type": "code",
   "execution_count": 16,
   "id": "b948a6f9",
   "metadata": {},
   "outputs": [
    {
     "name": "stdout",
     "output_type": "stream",
     "text": [
      "7\n",
      "7\n",
      "3\n"
     ]
    }
   ],
   "source": [
    "metin = \"python programlama\"\n",
    "print(metin.find(\"pro\"))   # parametreyi bulduğu ilk indexi döndürür | 7 (bulamazsa -1 döner)\n",
    "print(metin.index(\"pro\"))  # parametreyi bulduğu ilk indexi döndürür | 7 (bulamazsa hata verir)\n",
    "print(metin.count(\"a\"))    # parametrenin kaç kere geçtiğini sayar | 3"
   ]
  },
  {
   "cell_type": "code",
   "execution_count": 19,
   "id": "623e8d4e",
   "metadata": {},
   "outputs": [
    {
     "name": "stdout",
     "output_type": "stream",
     "text": [
      "java öğreniyorum.\n"
     ]
    }
   ],
   "source": [
    "metin = \"python öğreniyorum.\"\n",
    "print(metin.replace(\"python\", \"java\"))"
   ]
  },
  {
   "cell_type": "code",
   "execution_count": null,
   "id": "62c9e9ab",
   "metadata": {},
   "outputs": [
    {
     "name": "stdout",
     "output_type": "stream",
     "text": [
      "['elma', 'armut', 'çilek']\n",
      "elma*********armut*********çilek\n"
     ]
    }
   ],
   "source": [
    "metin = \"elma,armut,çilek\"\n",
    "liste = metin.split(\",\")        # ['elma', 'armut', 'çilek']\n",
    "print(liste)\n",
    "metin_tekrar = \"-\".join(liste)  # 'elma-armut-çilek'\n",
    "print(metin_tekrar)"
   ]
  },
  {
   "cell_type": "code",
   "execution_count": 31,
   "id": "914d8eaf",
   "metadata": {},
   "outputs": [
    {
     "name": "stdout",
     "output_type": "stream",
     "text": [
      "Merhaba\n",
      "Merhaba  \n",
      "  Merhaba\n"
     ]
    }
   ],
   "source": [
    "print(\"  Merhaba  \\n\".strip())   # 'Merhaba'\n",
    "print(\"  Merhaba  \".lstrip())  # 'Merhaba  '\n",
    "print(\"  Merhaba  \".rstrip())  # '  Merhaba'"
   ]
  },
  {
   "cell_type": "markdown",
   "id": "f39896dc",
   "metadata": {},
   "source": [
    "# eval Fonksiyonu"
   ]
  },
  {
   "cell_type": "markdown",
   "id": "8c5525a6",
   "metadata": {},
   "source": [
    "eval fonksiyonu stringlerin python kodu gibi çalıştırılmasını sağlar. Kullanımı zararlı olabilir."
   ]
  },
  {
   "cell_type": "code",
   "execution_count": 19,
   "id": "e4f8e0ea",
   "metadata": {},
   "outputs": [],
   "source": [
    "string = \"print(5+8)\""
   ]
  },
  {
   "cell_type": "code",
   "execution_count": 21,
   "id": "aa74f2b0",
   "metadata": {},
   "outputs": [
    {
     "name": "stdout",
     "output_type": "stream",
     "text": [
      "13\n"
     ]
    }
   ],
   "source": [
    "string = \"print(5+8)\"\n",
    "eval(string)"
   ]
  },
  {
   "cell_type": "code",
   "execution_count": 23,
   "id": "c5d7c6a7",
   "metadata": {},
   "outputs": [
    {
     "name": "stdout",
     "output_type": "stream",
     "text": [
      "13\n"
     ]
    }
   ],
   "source": [
    "string = \"5+8\"\n",
    "print(eval(string))"
   ]
  },
  {
   "cell_type": "code",
   "execution_count": 24,
   "id": "78ddbbc4",
   "metadata": {},
   "outputs": [
    {
     "name": "stdout",
     "output_type": "stream",
     "text": [
      "True\n"
     ]
    }
   ],
   "source": [
    "x = 8\n",
    "string = \"5+x<=13 and x//3 > 1\"\n",
    "print(eval(string))"
   ]
  },
  {
   "cell_type": "markdown",
   "id": "c7730893",
   "metadata": {},
   "source": [
    "# Formatted String - Escape Characters"
   ]
  },
  {
   "cell_type": "code",
   "execution_count": 1,
   "id": "0182adbb",
   "metadata": {},
   "outputs": [],
   "source": [
    "isim = \"Gordon Freeman\"\n",
    "yas = 25"
   ]
  },
  {
   "cell_type": "code",
   "execution_count": 4,
   "id": "b4f3ea39",
   "metadata": {},
   "outputs": [],
   "source": [
    "a = f\"Merhaba {isim}, {yas} yaşındasın.\""
   ]
  },
  {
   "cell_type": "code",
   "execution_count": null,
   "id": "9cd0812b",
   "metadata": {},
   "outputs": [
    {
     "name": "stdout",
     "output_type": "stream",
     "text": [
      "Merhaba Gordon Freeman, 25 yaşındasın.\n"
     ]
    }
   ],
   "source": [
    "print(f\"Merhaba {isim}, {yas} yaşındasın.\")"
   ]
  },
  {
   "cell_type": "code",
   "execution_count": 6,
   "id": "af730051",
   "metadata": {},
   "outputs": [
    {
     "name": "stdout",
     "output_type": "stream",
     "text": [
      "Merhaba Gordon Freeman, 25 yaşındasın.\n"
     ]
    }
   ],
   "source": [
    "print(\"Merhaba {}, {} yaşındasın.\".format(isim, yas))"
   ]
  },
  {
   "cell_type": "code",
   "execution_count": 7,
   "id": "dc0343ac",
   "metadata": {},
   "outputs": [
    {
     "name": "stdout",
     "output_type": "stream",
     "text": [
      "Birinci Satır\n",
      "İkinci Satır\n"
     ]
    }
   ],
   "source": [
    "print(\"Birinci Satır\\nİkinci Satır\")"
   ]
  },
  {
   "cell_type": "code",
   "execution_count": 8,
   "id": "befe0e21",
   "metadata": {},
   "outputs": [
    {
     "name": "stdout",
     "output_type": "stream",
     "text": [
      "Tabdan öncesi\tTabdan Sonrası\n"
     ]
    }
   ],
   "source": [
    "print(\"Tabdan öncesi\\tTabdan Sonrası\")"
   ]
  },
  {
   "cell_type": "code",
   "execution_count": 13,
   "id": "cbbd97cd",
   "metadata": {},
   "outputs": [
    {
     "name": "stdout",
     "output_type": "stream",
     "text": [
      "Metin içine özel \" \\ karakterlerini koyuyorum\n"
     ]
    }
   ],
   "source": [
    "print(\"Metin içine özel \\\" \\\\ karakterlerini koyuyorum\")"
   ]
  },
  {
   "cell_type": "markdown",
   "id": "8b6b1455",
   "metadata": {},
   "source": [
    "print otomatik olarak en sona \\\\n escape characterini koyar. Bunu **end** parametresi ile değiştirebilirsiniz."
   ]
  },
  {
   "cell_type": "code",
   "execution_count": 14,
   "id": "53e05ba6",
   "metadata": {},
   "outputs": [
    {
     "name": "stdout",
     "output_type": "stream",
     "text": [
      "Hello\n",
      "World\n"
     ]
    }
   ],
   "source": [
    "print(\"Hello\")\n",
    "print(\"World\")"
   ]
  },
  {
   "cell_type": "code",
   "execution_count": 15,
   "id": "3d8a6af3",
   "metadata": {},
   "outputs": [
    {
     "name": "stdout",
     "output_type": "stream",
     "text": [
      "Hello---World\n"
     ]
    }
   ],
   "source": [
    "print(\"Hello\",end=\"---\")\n",
    "print(\"World\")"
   ]
  },
  {
   "cell_type": "markdown",
   "id": "d46e53ff",
   "metadata": {},
   "source": [
    "# Built-in matematiksel fonksiyonlar"
   ]
  },
  {
   "cell_type": "code",
   "execution_count": 6,
   "id": "8f5755a0",
   "metadata": {},
   "outputs": [
    {
     "data": {
      "text/plain": [
       "5.3"
      ]
     },
     "execution_count": 6,
     "metadata": {},
     "output_type": "execute_result"
    }
   ],
   "source": [
    "abs(-5.3) #Mutlak değer alma"
   ]
  },
  {
   "cell_type": "code",
   "execution_count": 9,
   "id": "ff9a9c11",
   "metadata": {},
   "outputs": [
    {
     "data": {
      "text/plain": [
       "0.1111111111111111"
      ]
     },
     "execution_count": 9,
     "metadata": {},
     "output_type": "execute_result"
    }
   ],
   "source": [
    "pow(3,-2) #üs alma"
   ]
  },
  {
   "cell_type": "code",
   "execution_count": 13,
   "id": "b344978e",
   "metadata": {},
   "outputs": [
    {
     "name": "stdout",
     "output_type": "stream",
     "text": [
      "3.14\n",
      "1\n",
      "0\n"
     ]
    }
   ],
   "source": [
    "print(round(3.1415,2)) #Ondalık basamak sayısına göre yuvarlama\n",
    "print(round(0.6))\n",
    "print(round(0.5))"
   ]
  },
  {
   "cell_type": "code",
   "execution_count": 14,
   "id": "37275fcc",
   "metadata": {},
   "outputs": [
    {
     "data": {
      "text/plain": [
       "(3, 1)"
      ]
     },
     "execution_count": 14,
     "metadata": {},
     "output_type": "execute_result"
    }
   ],
   "source": [
    "divmod(10,3) # Tuple döndürür: (bölüm,kalan)"
   ]
  },
  {
   "cell_type": "code",
   "execution_count": 15,
   "id": "c377f6f5",
   "metadata": {},
   "outputs": [
    {
     "data": {
      "text/plain": [
       "1"
      ]
     },
     "execution_count": 15,
     "metadata": {},
     "output_type": "execute_result"
    }
   ],
   "source": [
    "min([1,2,3])"
   ]
  },
  {
   "cell_type": "code",
   "execution_count": 16,
   "id": "c9b682f4",
   "metadata": {},
   "outputs": [
    {
     "data": {
      "text/plain": [
       "'C'"
      ]
     },
     "execution_count": 16,
     "metadata": {},
     "output_type": "execute_result"
    }
   ],
   "source": [
    "max([\"A\",\"B\",\"C\"])"
   ]
  },
  {
   "cell_type": "markdown",
   "id": "070b8737",
   "metadata": {},
   "source": [
    "**len**: Bir iterative yapının (liste, tuple, dictionary...) uzunluğunu verir."
   ]
  },
  {
   "cell_type": "code",
   "execution_count": 18,
   "id": "379a2eac",
   "metadata": {},
   "outputs": [
    {
     "name": "stdout",
     "output_type": "stream",
     "text": [
      "4\n"
     ]
    }
   ],
   "source": [
    "liste = (\"a\",\"b\",\"c\",\"d\")\n",
    "uzunluk = len(liste)\n",
    "print(uzunluk)"
   ]
  },
  {
   "cell_type": "markdown",
   "id": "16887df3",
   "metadata": {},
   "source": [
    "# if-else-elif"
   ]
  },
  {
   "cell_type": "markdown",
   "id": "06d7e216",
   "metadata": {},
   "source": [
    "Algoritmanın belirli koşullara göre yönlendirilmesi için kullanılır. if-elif-else indentation block mantığı ile çalışılır."
   ]
  },
  {
   "cell_type": "code",
   "execution_count": 45,
   "id": "9fa20afa",
   "metadata": {},
   "outputs": [
    {
     "name": "stdout",
     "output_type": "stream",
     "text": [
      "Blok dışı\n"
     ]
    }
   ],
   "source": [
    "a= 5\n",
    "if a>10:\n",
    "    print(\"Büyük\")\n",
    "    print(\"1. Blok\")\n",
    "print(\"Blok dışı\")"
   ]
  },
  {
   "cell_type": "code",
   "execution_count": 47,
   "id": "8207a36e",
   "metadata": {},
   "outputs": [
    {
     "name": "stdout",
     "output_type": "stream",
     "text": [
      "Küçük\n",
      "2. Blok\n",
      "Blok dışı\n"
     ]
    }
   ],
   "source": [
    "a= 5\n",
    "if a>10:\n",
    "    print(\"büyük\")\n",
    "    print(\"1. Blok\")\n",
    "else:\n",
    "    print(\"Küçük\")\n",
    "    print(\"2. Blok\")\n",
    "print(\"Blok dışı\")"
   ]
  },
  {
   "cell_type": "code",
   "execution_count": 49,
   "id": "e29074bf",
   "metadata": {},
   "outputs": [
    {
     "name": "stdout",
     "output_type": "stream",
     "text": [
      "Eşit\n",
      "2. Blok\n"
     ]
    }
   ],
   "source": [
    "a= 10\n",
    "if a>10:\n",
    "    print(\"Büyük\")\n",
    "    print(\"1. Blok\")\n",
    "elif a==10:\n",
    "    print(\"Eşit\")\n",
    "    print(\"2. Blok\")\n",
    "else:\n",
    "    print(\"küçük\")\n",
    "    print(\"3. Blok\")"
   ]
  },
  {
   "cell_type": "code",
   "execution_count": 51,
   "id": "5d678842",
   "metadata": {},
   "outputs": [],
   "source": [
    "string = \"Fütürist\"\n",
    "if string[2]=='a':\n",
    "    print(\"2. harf t\")"
   ]
  },
  {
   "cell_type": "markdown",
   "id": "64bf1760",
   "metadata": {},
   "source": [
    "if kısmının yanında True veya True'ya karşılık gelen bir değer bulunursa koşul sağlanmış olur. False veya 0 bulunursa sağlanmamış olur."
   ]
  },
  {
   "cell_type": "code",
   "execution_count": 59,
   "id": "06fa826d",
   "metadata": {},
   "outputs": [
    {
     "name": "stdout",
     "output_type": "stream",
     "text": [
      "Hello\n"
     ]
    }
   ],
   "source": [
    "if 1:\n",
    "    print(\"Hello\")"
   ]
  },
  {
   "cell_type": "markdown",
   "id": "ae3b4e73",
   "metadata": {},
   "source": [
    "**pass**: Herhangi bir işlem yapılmadan geçmek istediğimiz bir kısım olursa kullanabiliriz."
   ]
  },
  {
   "cell_type": "code",
   "execution_count": 63,
   "id": "9547cc4c",
   "metadata": {},
   "outputs": [],
   "source": [
    "a= 11\n",
    "if a>10:\n",
    "    pass\n",
    "elif a==10:\n",
    "    print(\"Eşit\")\n",
    "    print(\"2. Blok\")\n",
    "else:\n",
    "    print(\"küçük\")\n",
    "    print(\"3. Blok\")"
   ]
  },
  {
   "cell_type": "markdown",
   "id": "9a2e38b1",
   "metadata": {},
   "source": [
    "# UYGULAMA - Basit Hesap Makinesi"
   ]
  },
  {
   "cell_type": "code",
   "execution_count": 65,
   "id": "6f64a0c2",
   "metadata": {},
   "outputs": [
    {
     "name": "stdout",
     "output_type": "stream",
     "text": [
      "Hatalı işlem\n"
     ]
    }
   ],
   "source": [
    "number_1 = float(input(\"Lütfen 1. sayıyı giriniz:\"))\n",
    "operation = input(\"Lütfen yapmak istediğiniz işlemi giriniz(+,-,/,*,**):\")\n",
    "number_2 = float(input(\"Lütfen 2. sayıyı giriniz:\"))\n",
    "\n",
    "if operation==\"+\":\n",
    "    print(number_1+number_2)\n",
    "elif operation==\"-\":\n",
    "    print(number_1-number_2)\n",
    "elif operation==\"/\":\n",
    "    print(number_1/number_2)\n",
    "elif operation==\"*\":\n",
    "    print(number_1*number_2)\n",
    "elif operation==\"**\":\n",
    "    print(number_1**number_2)\n",
    "else:\n",
    "    print(\"Hatalı işlem\")"
   ]
  },
  {
   "cell_type": "code",
   "execution_count": 67,
   "id": "64116227",
   "metadata": {},
   "outputs": [
    {
     "name": "stdout",
     "output_type": "stream",
     "text": [
      "32\n"
     ]
    }
   ],
   "source": [
    "number_1 = input(\"Lütfen 1. sayıyı giriniz:\")\n",
    "operation = input(\"Lütfen yapmak istediğiniz işlemi giriniz(+,-,/,*,**):\")\n",
    "number_2 = input(\"Lütfen 2. sayıyı giriniz:\")\n",
    "\n",
    "print(eval(number_1+operation+number_2))"
   ]
  },
  {
   "cell_type": "markdown",
   "id": "bb74bb8e",
   "metadata": {},
   "source": [
    "# for"
   ]
  },
  {
   "cell_type": "markdown",
   "id": "125c3946",
   "metadata": {},
   "source": [
    "Bir dizi elemanın üzerinde sırayla işlem yapmayı sağlar.        \n",
    "For ile kullanmak için nesnenin iterable olması lazımdır. Iterable: _list, tuple, str, dict, set, range, file, enumerate, iterator, zip_        \n",
    "\n"
   ]
  },
  {
   "cell_type": "code",
   "execution_count": null,
   "id": "49320c10",
   "metadata": {},
   "outputs": [
    {
     "name": "stdout",
     "output_type": "stream",
     "text": [
      "Machine\n",
      "Learning\n",
      "Artificial\n",
      "Intelligence\n"
     ]
    }
   ],
   "source": [
    "liste = [\"Machine\", \"Learning\", \"Artificial\", \"Intelligence\"]\n",
    "\n",
    "for i in liste: # i değişkeninin ismi tamamen tercihe bağlıdır. Ama okunan veriyi ifade edecek bir şey kullanmanızı tavsiye ederim.\n",
    "    print(i)"
   ]
  },
  {
   "cell_type": "markdown",
   "id": "70cc00a9",
   "metadata": {},
   "source": [
    "For içerisinde kullanılan değişken her döngüde sıradaki elemana eşitlenir. Bu değişkene döngü bittikten sonra son değeri ile de erişilebilir."
   ]
  },
  {
   "cell_type": "code",
   "execution_count": 79,
   "id": "2ba67266",
   "metadata": {},
   "outputs": [
    {
     "name": "stdout",
     "output_type": "stream",
     "text": [
      "name\n",
      "age\n",
      "grades\n"
     ]
    }
   ],
   "source": [
    "student = {\n",
    "    \"name\": \"Lara Croft\",\n",
    "    \"age\": 21,\n",
    "    \"grades\": [85, 90, 78]\n",
    "}\n",
    "\n",
    "for i in student: #Dict keylerini döner.\n",
    "    print(i)"
   ]
  },
  {
   "cell_type": "markdown",
   "id": "3d0e6ae1",
   "metadata": {},
   "source": [
    "**range**:Belirli bir aralığı kapsayacak iterable üretmemizi sağlar. (Başlangıç,Bitiş,Adım Sayısı) Bitiş dahil değil"
   ]
  },
  {
   "cell_type": "code",
   "execution_count": 83,
   "id": "449e7c8b",
   "metadata": {},
   "outputs": [
    {
     "name": "stdout",
     "output_type": "stream",
     "text": [
      "0\n",
      "1\n",
      "2\n",
      "3\n",
      "4\n",
      "5\n",
      "6\n",
      "7\n",
      "8\n",
      "9\n"
     ]
    }
   ],
   "source": [
    "for i in range(10):\n",
    "    print(i)"
   ]
  },
  {
   "cell_type": "code",
   "execution_count": 81,
   "id": "679b8ccb",
   "metadata": {},
   "outputs": [
    {
     "name": "stdout",
     "output_type": "stream",
     "text": [
      "1\n",
      "3\n",
      "5\n",
      "7\n",
      "9\n",
      "11\n",
      "13\n",
      "15\n",
      "17\n",
      "19\n"
     ]
    }
   ],
   "source": [
    "for i in range(1,20,2):\n",
    "    print(i)"
   ]
  },
  {
   "cell_type": "code",
   "execution_count": 84,
   "id": "43410def",
   "metadata": {},
   "outputs": [
    {
     "name": "stdout",
     "output_type": "stream",
     "text": [
      "K\n",
      "r\n",
      "a\n",
      "t\n",
      "o\n",
      "s\n"
     ]
    }
   ],
   "source": [
    "for letter in \"Kratos\":\n",
    "    print(letter)"
   ]
  },
  {
   "cell_type": "markdown",
   "id": "19957b5a",
   "metadata": {},
   "source": [
    "içe içe for döngüsü kullanarak nested yapıların içerisinde gezilebilir."
   ]
  },
  {
   "cell_type": "code",
   "execution_count": 85,
   "id": "aabecca2",
   "metadata": {},
   "outputs": [],
   "source": [
    "liste = [ [1,2,3] , [4,5,6] , [7,8,9] ]"
   ]
  },
  {
   "cell_type": "code",
   "execution_count": 86,
   "id": "8b87e36e",
   "metadata": {},
   "outputs": [
    {
     "name": "stdout",
     "output_type": "stream",
     "text": [
      "1\n",
      "2\n",
      "3\n",
      "------\n",
      "4\n",
      "5\n",
      "6\n",
      "------\n",
      "7\n",
      "8\n",
      "9\n",
      "------\n"
     ]
    }
   ],
   "source": [
    "for i in liste:\n",
    "    for j in i: #Bu döngü tamamlanmadan i değer değiştirmez.\n",
    "        print(j)\n",
    "    print(\"------\")"
   ]
  },
  {
   "cell_type": "markdown",
   "id": "c94b9799",
   "metadata": {},
   "source": [
    "eğer değişkenin yerini tutacağı veriler list,tuple gibi birden fazla veri içeriyorsa aynı sayıda değişken kullanılabilir.     \n",
    "\n",
    "for **değişken1,değişken2** in iterable:"
   ]
  },
  {
   "cell_type": "code",
   "execution_count": 87,
   "id": "7184f719",
   "metadata": {},
   "outputs": [
    {
     "name": "stdout",
     "output_type": "stream",
     "text": [
      "Büyük Harf Hali:A , Küçük Harf Hali:a\n",
      "Büyük Harf Hali:B , Küçük Harf Hali:b\n",
      "Büyük Harf Hali:C , Küçük Harf Hali:c\n"
     ]
    }
   ],
   "source": [
    "liste = [ (\"A\",\"a\") , (\"B\",\"b\") , (\"C\",\"c\") ]\n",
    "\n",
    "for büyük,küçük in liste:\n",
    "    print(f\"Büyük Harf Hali:{büyük} , Küçük Harf Hali:{küçük}\")"
   ]
  },
  {
   "cell_type": "markdown",
   "id": "73f5ea02",
   "metadata": {},
   "source": [
    "for ile else kullanımı mümkündür. for döngüsü tamamlandıktan sonra bir seferlik else bloğu çalıştırılır."
   ]
  },
  {
   "cell_type": "code",
   "execution_count": 88,
   "id": "8f874b97",
   "metadata": {},
   "outputs": [
    {
     "name": "stdout",
     "output_type": "stream",
     "text": [
      "0\n",
      "1\n",
      "2\n",
      "3\n",
      "4\n",
      "Döngü bitti\n"
     ]
    }
   ],
   "source": [
    "for i in range(5):\n",
    "    print(i)\n",
    "else:\n",
    "    print(\"Döngü bitti\")"
   ]
  },
  {
   "cell_type": "markdown",
   "id": "b7ca6c12",
   "metadata": {},
   "source": [
    "# UYGULAMA - Palindrom kontrolü"
   ]
  },
  {
   "cell_type": "code",
   "execution_count": 91,
   "id": "e3cbe3b6",
   "metadata": {},
   "outputs": [
    {
     "name": "stdout",
     "output_type": "stream",
     "text": [
      "1\n"
     ]
    }
   ],
   "source": [
    "kelime = \"tenet\"\n",
    "\n",
    "check = 1\n",
    "uzunluk = len(kelime)\n",
    "for i in range(uzunluk//2):\n",
    "    if kelime[i]!=kelime[uzunluk-1-i]:\n",
    "        check=0\n",
    "    else:\n",
    "        pass\n",
    "\n",
    "print(check)"
   ]
  },
  {
   "cell_type": "markdown",
   "id": "48386451",
   "metadata": {},
   "source": [
    "# UYGULAMA - Fibonacci Dizisi"
   ]
  },
  {
   "cell_type": "markdown",
   "id": "e38f5ed8",
   "metadata": {},
   "source": [
    "fibonacci -> 0,1,1,2,3,5,8,13,...."
   ]
  },
  {
   "cell_type": "code",
   "execution_count": 94,
   "id": "7a3a01cf",
   "metadata": {},
   "outputs": [
    {
     "name": "stdout",
     "output_type": "stream",
     "text": [
      "1\n",
      "2\n",
      "3\n",
      "5\n",
      "8\n",
      "13\n",
      "21\n",
      "34\n",
      "55\n",
      "89\n"
     ]
    }
   ],
   "source": [
    "count = 5\n",
    "\n",
    "a = 0\n",
    "b = 1\n",
    "for i in range(count):\n",
    "    a = a+b\n",
    "    print(a)\n",
    "    b = a+b\n",
    "    print(b)"
   ]
  },
  {
   "cell_type": "markdown",
   "id": "2ea30b42",
   "metadata": {},
   "source": [
    "# List-Dict-Set comprehension"
   ]
  },
  {
   "cell_type": "markdown",
   "id": "65eb119e",
   "metadata": {},
   "source": [
    "Adam akıllı açıklayıcı indent ile yazmak varken tek satırda yazma fantazisi     \n",
    "\n",
    "[ expression  **for**  item  **in** iterable ]"
   ]
  },
  {
   "cell_type": "code",
   "execution_count": 2,
   "id": "f509db8e",
   "metadata": {},
   "outputs": [
    {
     "name": "stdout",
     "output_type": "stream",
     "text": [
      "[0, 1, 4, 9, 16]\n"
     ]
    }
   ],
   "source": [
    "liste = []\n",
    "for i in range(5):\n",
    "    liste.append(i**2)\n",
    "print(liste)"
   ]
  },
  {
   "cell_type": "code",
   "execution_count": 4,
   "id": "d57d7e24",
   "metadata": {},
   "outputs": [
    {
     "name": "stdout",
     "output_type": "stream",
     "text": [
      "[0, 1, 4, 9, 16]\n"
     ]
    }
   ],
   "source": [
    "liste2 = [x**2 for x in range(5)] #List Comprehension\n",
    "print(liste2)"
   ]
  },
  {
   "cell_type": "code",
   "execution_count": 5,
   "id": "2c2e8085",
   "metadata": {},
   "outputs": [
    {
     "name": "stdout",
     "output_type": "stream",
     "text": [
      "{0, 1, 4, 9, 16}\n"
     ]
    }
   ],
   "source": [
    "squares = {x**2 for x in range(5)} #Set comprehension\n",
    "print(squares)"
   ]
  },
  {
   "cell_type": "code",
   "execution_count": 6,
   "id": "62656b94",
   "metadata": {},
   "outputs": [
    {
     "name": "stdout",
     "output_type": "stream",
     "text": [
      "{0: 0, 1: 1, 2: 4, 3: 9, 4: 16}\n"
     ]
    }
   ],
   "source": [
    "squares = {x: x**2 for x in range(5)} #Dict comprehension\n",
    "print(squares)"
   ]
  },
  {
   "cell_type": "markdown",
   "id": "fe6684a2",
   "metadata": {},
   "source": [
    "# enumerate-zip"
   ]
  },
  {
   "cell_type": "markdown",
   "id": "3a42a0fc",
   "metadata": {},
   "source": [
    "enumerate ile iterable içerisinde dönerken bir yandan da indexi takip edebilirsiniz."
   ]
  },
  {
   "cell_type": "code",
   "execution_count": 7,
   "id": "ac3df65a",
   "metadata": {},
   "outputs": [],
   "source": [
    "words = [\"Hello\",\"World\",\"Machine\",\"Learning\"]"
   ]
  },
  {
   "cell_type": "code",
   "execution_count": null,
   "id": "ac3daf7d",
   "metadata": {},
   "outputs": [
    {
     "name": "stdout",
     "output_type": "stream",
     "text": [
      "Hello\n",
      "World\n",
      "Machine\n",
      "Learning\n"
     ]
    }
   ],
   "source": [
    "i = 0\n",
    "for word in words:\n",
    "    print(word)\n",
    "    i+=1"
   ]
  },
  {
   "cell_type": "code",
   "execution_count": 9,
   "id": "564134ae",
   "metadata": {},
   "outputs": [
    {
     "name": "stdout",
     "output_type": "stream",
     "text": [
      "0. kelime = Hello\n",
      "1. kelime = World\n",
      "2. kelime = Machine\n",
      "3. kelime = Learning\n"
     ]
    }
   ],
   "source": [
    "for index, word in enumerate(words):\n",
    "    print(f\"{index}. kelime = {word}\")"
   ]
  },
  {
   "cell_type": "markdown",
   "id": "85ce9fa3",
   "metadata": {},
   "source": [
    "zip ile iki iterable'ı aynı for ile dönebilirsiniz. En kısa iterable uzunluğuna göre çalışır."
   ]
  },
  {
   "cell_type": "code",
   "execution_count": 12,
   "id": "77bf2b89",
   "metadata": {},
   "outputs": [
    {
     "name": "stdout",
     "output_type": "stream",
     "text": [
      "Rick -> 70\n",
      "Morty -> 14\n",
      "Summer -> 17\n"
     ]
    }
   ],
   "source": [
    "names = [\"Rick\", \"Morty\", \"Summer\"]\n",
    "ages = [70, 14, 17, 20, 25, 50]\n",
    "\n",
    "for name, age in zip(names, ages):\n",
    "    print(name, \"->\", age)"
   ]
  },
  {
   "cell_type": "markdown",
   "id": "ef34189f",
   "metadata": {},
   "source": [
    "# while"
   ]
  },
  {
   "cell_type": "markdown",
   "id": "8206fb4c",
   "metadata": {},
   "source": [
    "Belirli bir koşul sağlandığı sürece döngünün devam etmesini sağlar.     \n",
    "İlk başta koşul kontrol edilir, sonra işlemler yapılır.     \n"
   ]
  },
  {
   "cell_type": "code",
   "execution_count": 13,
   "id": "32ff950e",
   "metadata": {},
   "outputs": [
    {
     "name": "stdout",
     "output_type": "stream",
     "text": [
      "Sayı: 1\n",
      "Sayı: 2\n",
      "Sayı: 3\n",
      "Sayı: 4\n",
      "Sayı: 5\n"
     ]
    }
   ],
   "source": [
    "sayi = 1\n",
    "\n",
    "while sayi <= 5:\n",
    "    print(\"Sayı:\", sayi)\n",
    "    sayi += 1"
   ]
  },
  {
   "cell_type": "markdown",
   "id": "3da27cd8",
   "metadata": {},
   "source": [
    "For -> Her bir eleman için işlem yap        \n",
    "while -> Koşul sağlandığı sürece işlem yap      "
   ]
  },
  {
   "cell_type": "markdown",
   "id": "c1e9fd3a",
   "metadata": {},
   "source": [
    "Koşulun kontrol edildiği değişkenin döngü içerisinde güncellenmesi gerekir, yoksa sonsuz döngüye girilir ve kod daha ileriye gidemez."
   ]
  },
  {
   "cell_type": "code",
   "execution_count": null,
   "id": "4829c0c4",
   "metadata": {},
   "outputs": [],
   "source": [
    "n = 1\n",
    "while n<5: #Kontrol değişkeni hep 1 olduğu için sonsuz döngü\n",
    "    print(n)"
   ]
  },
  {
   "cell_type": "markdown",
   "id": "6155b7c5",
   "metadata": {},
   "source": [
    "Bazı durumlarda sonsuz döngü işlevsel olabilir.     \n",
    "_Web geliştirme için sürekli veri dinleme_        \n",
    "_Görüntü işleme için kameranın sürekli açık kalması_     \n",
    "_Sensörlerden sürekli veri okunması_      "
   ]
  },
  {
   "cell_type": "code",
   "execution_count": null,
   "id": "3fefa444",
   "metadata": {},
   "outputs": [],
   "source": [
    "while 1: #Sürekli döngü açmak için bunu kullanabiliriz. | Alttaki kod hata verir boşuna çalıştırma. Amacımız sadece bu satır\n",
    "    veri = socket.recv(1024)\n",
    "    if not veri:\n",
    "        break\n",
    "    işle(veri)"
   ]
  },
  {
   "cell_type": "markdown",
   "id": "4ec4dcba",
   "metadata": {},
   "source": [
    "while ile else kullanımı mümkündür. While koşulunun sağlanmadığı ilk durumda else bloğu bir kere çalışır."
   ]
  },
  {
   "cell_type": "code",
   "execution_count": 16,
   "id": "8da407e8",
   "metadata": {},
   "outputs": [
    {
     "name": "stdout",
     "output_type": "stream",
     "text": [
      "1\n",
      "2\n",
      "3\n",
      "4\n",
      "5\n",
      "döngü 6 sayısında bitti\n",
      "Kod bitti\n"
     ]
    }
   ],
   "source": [
    "sayi = 1\n",
    "while sayi <= 5:\n",
    "    print(sayi)\n",
    "    sayi += 1\n",
    "else:\n",
    "    print(f\"döngü {sayi} sayısında bitti\")\n",
    "\n",
    "print(\"Kod bitti\")"
   ]
  },
  {
   "cell_type": "markdown",
   "id": "08b13d10",
   "metadata": {},
   "source": [
    "# break - continue"
   ]
  },
  {
   "cell_type": "markdown",
   "id": "b21aa712",
   "metadata": {},
   "source": [
    "Bir döngü içerisinde **break** keywordu geçerse döngü sonlanır. "
   ]
  },
  {
   "cell_type": "code",
   "execution_count": 18,
   "id": "4cfb949d",
   "metadata": {},
   "outputs": [
    {
     "name": "stdout",
     "output_type": "stream",
     "text": [
      "i: 1\n",
      "i: 2\n",
      "i = 3 oldu, döngüden çıkılıyor.\n"
     ]
    }
   ],
   "source": [
    "i = 1\n",
    "while i <= 5:\n",
    "    if i == 3:\n",
    "        print(\"i = 3 oldu, döngüden çıkılıyor.\")\n",
    "        break\n",
    "    print(\"i:\", i)\n",
    "    i += 1"
   ]
  },
  {
   "cell_type": "markdown",
   "id": "fb36c366",
   "metadata": {},
   "source": [
    "Eğer içe içe döngüler varsa break sadece ait olduğu döngüyü sonlandırır."
   ]
  },
  {
   "cell_type": "code",
   "execution_count": 21,
   "id": "d6cc85ac",
   "metadata": {},
   "outputs": [
    {
     "name": "stdout",
     "output_type": "stream",
     "text": [
      "1\n",
      "4\n",
      "7\n"
     ]
    }
   ],
   "source": [
    "liste = [ [1,2,3] , [4,5,6] , [7,8,9] ]\n",
    "\n",
    "for i in liste:\n",
    "    for j in i:\n",
    "        print(j)\n",
    "        break"
   ]
  },
  {
   "cell_type": "markdown",
   "id": "3f26f572",
   "metadata": {},
   "source": [
    "bir döngü içerisinde **continue** keywordu geçerse döngü tek seferlik atlanır ve en başa döner. Döngü devam eder!!"
   ]
  },
  {
   "cell_type": "code",
   "execution_count": 23,
   "id": "72948d63",
   "metadata": {},
   "outputs": [
    {
     "name": "stdout",
     "output_type": "stream",
     "text": [
      "i: 1\n",
      "i: 2\n",
      "bu tur atlanıyor.\n",
      "i: 4\n",
      "i: 5\n"
     ]
    }
   ],
   "source": [
    "i = 0\n",
    "while i < 5:\n",
    "    i += 1\n",
    "    if i == 3:\n",
    "        print(\"bu tur atlanıyor.\")\n",
    "        continue\n",
    "    print(\"i:\", i)"
   ]
  },
  {
   "cell_type": "markdown",
   "id": "aa27b525",
   "metadata": {},
   "source": [
    "for ve while ile beraber kullanılan bir else bloğu olduğunu düşünelim. eğer döngü içerisinde break geçmişse bu else bloğu çalışmayacaktır. Bir başka deyişle döngüden break ile çıkılırsa else çalışmaz."
   ]
  },
  {
   "cell_type": "code",
   "execution_count": 24,
   "id": "757ed6f8",
   "metadata": {},
   "outputs": [
    {
     "name": "stdout",
     "output_type": "stream",
     "text": [
      "0\n",
      "1\n",
      "2\n"
     ]
    }
   ],
   "source": [
    "i = 0\n",
    "while i < 3:\n",
    "    print(i)\n",
    "    if i == 2:\n",
    "        break\n",
    "    i += 1\n",
    "else:\n",
    "    print(\"Else bloğu çalışmadı:(\")"
   ]
  },
  {
   "cell_type": "markdown",
   "id": "de913770",
   "metadata": {},
   "source": [
    "# UYGULAMA - Sayı Tahmin Oyunu"
   ]
  },
  {
   "cell_type": "code",
   "execution_count": null,
   "id": "0930489b",
   "metadata": {},
   "outputs": [],
   "source": [
    "sayı = 11\n",
    "while True:\n",
    "    tahmin = int(input(\"Tahmin et:\"))\n",
    "    if tahmin==sayı:\n",
    "        print(\"Bildiniz\")\n",
    "        break\n",
    "    else:\n",
    "        print(\"Bilemediniz, tekrar deneyin\")"
   ]
  },
  {
   "cell_type": "markdown",
   "id": "1be30e75",
   "metadata": {},
   "source": [
    "# UYGULAMA - Adam Asmaca"
   ]
  },
  {
   "cell_type": "code",
   "execution_count": 14,
   "id": "5a987fe2",
   "metadata": {},
   "outputs": [
    {
     "name": "stdout",
     "output_type": "stream",
     "text": [
      "p _ _ _ _\n",
      "p i _ _ _\n",
      "p i t _ _\n",
      "p i t o _\n",
      "Kazandınız.\n"
     ]
    }
   ],
   "source": [
    "kelime = \"piton\"\n",
    "\n",
    "liste = [\"_\"]*len(kelime)\n",
    "hak = 3\n",
    "\n",
    "correct = 0\n",
    "while hak>0:\n",
    "    azalt = 1\n",
    "    tahmin = input(\"Lütfen bir harf giriniz:\").lower()\n",
    "    for index,harf in enumerate(kelime):\n",
    "        if harf==tahmin:\n",
    "            liste[index] = harf\n",
    "            azalt = 0\n",
    "\n",
    "    if azalt:\n",
    "        hak -= 1\n",
    "        print(\"Yanlış tahmin\",flush=True)\n",
    "\n",
    "    if liste.count(\"_\") == 0:\n",
    "        print(\"Kazandınız.\",flush=True)\n",
    "        correct = 1\n",
    "        break\n",
    "    \n",
    "    print(\" \".join(liste),flush=True)\n",
    "\n",
    "    \n",
    "if not correct:\n",
    "    print(\"Kaybettiniz.\",flush=True)\n"
   ]
  },
  {
   "cell_type": "markdown",
   "id": "cc0ffaa6",
   "metadata": {},
   "source": [
    "# fonksiyonlar"
   ]
  },
  {
   "cell_type": "markdown",
   "id": "16c61717",
   "metadata": {},
   "source": [
    "**fonksiyonlar** aynı işin tekrar tekrar yapılması gerektiği durumlarda kullanılan işlevsel yapılardır. Örnek olarak kodunuzun içerisinde 1000 defa aynı algoritmayı çalıştıracaksanız fonksiyonları kullanmak isteyebilirsiniz.     \n",
    "**fonksiyon tanımlama:** fonksiyonun yapacağı işi, parametrelerini, ismini, döndüreceği değeri belirlemektir.       \n",
    "**fonksiyon çağırma:** fonksiyonun gerçekten iş yapmasını sağlamak için adıyla çağırmaktır.     "
   ]
  },
  {
   "cell_type": "code",
   "execution_count": 15,
   "id": "6badb418",
   "metadata": {},
   "outputs": [],
   "source": [
    "def selam_ver(): #Fonksiyon tanımlandı. Henüz çağırılmadığı için iş yapmıyor.\n",
    "    print(\"Merhaba, piton dersine hoş geldiniz!\")"
   ]
  },
  {
   "cell_type": "code",
   "execution_count": 16,
   "id": "3cd47989",
   "metadata": {},
   "outputs": [
    {
     "name": "stdout",
     "output_type": "stream",
     "text": [
      "Merhaba, piton dersine hoş geldiniz!\n"
     ]
    }
   ],
   "source": [
    "selam_ver() #Fonksiyon çağırıldı. Artık tek seferlik işini yaptı."
   ]
  },
  {
   "cell_type": "markdown",
   "id": "f2591fdf",
   "metadata": {},
   "source": [
    "**parametre**: Fonksiyona çağırma sırasında verilen değerlerdir. Fonksiyonun yapacağı iş parametrelerin değerlerine bağlı olabilir. parametre herhangi bir türde olabilir: str,int,liste,tuple,dict,fonksiyon ..."
   ]
  },
  {
   "cell_type": "code",
   "execution_count": 17,
   "id": "86674e3d",
   "metadata": {},
   "outputs": [],
   "source": [
    "def selam_ver_kisi(isim):\n",
    "    print(f\"Merhaba {isim}!\")"
   ]
  },
  {
   "cell_type": "code",
   "execution_count": 18,
   "id": "3da8821f",
   "metadata": {},
   "outputs": [
    {
     "name": "stdout",
     "output_type": "stream",
     "text": [
      "Merhaba Ellie!\n",
      "Merhaba Joel!\n"
     ]
    }
   ],
   "source": [
    "selam_ver_kisi(\"Ellie\")\n",
    "selam_ver_kisi(\"Joel\")"
   ]
  },
  {
   "cell_type": "code",
   "execution_count": 19,
   "id": "620d9d64",
   "metadata": {},
   "outputs": [],
   "source": [
    "def kare_al(sayi):\n",
    "    print(sayi**2)"
   ]
  },
  {
   "cell_type": "code",
   "execution_count": 22,
   "id": "0615f925",
   "metadata": {},
   "outputs": [
    {
     "name": "stdout",
     "output_type": "stream",
     "text": [
      "1\n"
     ]
    }
   ],
   "source": [
    "kare_al(-1)"
   ]
  },
  {
   "cell_type": "markdown",
   "id": "cfc41a86",
   "metadata": {},
   "source": [
    "fonksiyonlar birden fazla parametre alabilir."
   ]
  },
  {
   "cell_type": "code",
   "execution_count": 24,
   "id": "a4eafc03",
   "metadata": {},
   "outputs": [
    {
     "name": "stdout",
     "output_type": "stream",
     "text": [
      "16\n"
     ]
    }
   ],
   "source": [
    "def topla(a,b,c):\n",
    "    print(a+b+c)\n",
    "\n",
    "topla(3,5,8)"
   ]
  },
  {
   "cell_type": "markdown",
   "id": "6651a4b9",
   "metadata": {},
   "source": [
    "parametreler ait oldukları keyword ile fonksiyona gönderilebilir. Bir kısım sıraya uygun (yukarıdaki gibi) bir kısım da keyword ile gönderilebilir, ancak keyword ile gelenlerin en sonda bulunması lazım."
   ]
  },
  {
   "cell_type": "code",
   "execution_count": 25,
   "id": "46e4b404",
   "metadata": {},
   "outputs": [],
   "source": [
    "def kayit(isim,yaş,bölüm):\n",
    "    print(f\"Hoş geldin {isim} | yaş:{yaş} | bölüm:{bölüm}\")"
   ]
  },
  {
   "cell_type": "code",
   "execution_count": 27,
   "id": "21f634f0",
   "metadata": {},
   "outputs": [
    {
     "name": "stdout",
     "output_type": "stream",
     "text": [
      "Hoş geldin Max Caulfield | yaş:16 | bölüm:Art\n"
     ]
    }
   ],
   "source": [
    "kayit(\"Max Caulfield\",yaş=16,bölüm=\"Art\")"
   ]
  },
  {
   "cell_type": "code",
   "execution_count": null,
   "id": "10127276",
   "metadata": {},
   "outputs": [],
   "source": [
    "kayit(isim=\"Max Caulfield\",yaş=16,\"Art\") #Keyword ile yaptığımız atamalar en sona toplanmadığı için hata"
   ]
  },
  {
   "cell_type": "markdown",
   "id": "f67cd4fd",
   "metadata": {},
   "source": [
    "parametrelere varsayılan değer (**default**) atayabiliriz. eğer ilgili parametre için herhangi bir değer atanmazsa varsayılan değer kullanılır."
   ]
  },
  {
   "cell_type": "code",
   "execution_count": 30,
   "id": "f7f41e3c",
   "metadata": {},
   "outputs": [
    {
     "name": "stdout",
     "output_type": "stream",
     "text": [
      "Merhaba Misafir!\n",
      "Merhaba link!\n"
     ]
    }
   ],
   "source": [
    "def selam(isim=\"Misafir\"):\n",
    "    print(f\"Merhaba {isim}!\")\n",
    "\n",
    "selam()\n",
    "selam(\"link\")"
   ]
  },
  {
   "cell_type": "markdown",
   "id": "9f4308a6",
   "metadata": {},
   "source": [
    "**return** fonksiyondan ana koda değer döndürmek için kullanılır. fonksiyon ne return'lemişse o değer fonksiyonun çağırıldığı yere yazılır. Çok sık kullanılır. return herhangi bir tipte veri döndürebilir."
   ]
  },
  {
   "cell_type": "code",
   "execution_count": null,
   "id": "897b428c",
   "metadata": {},
   "outputs": [
    {
     "name": "stdout",
     "output_type": "stream",
     "text": [
      "Çarpım: 20\n"
     ]
    }
   ],
   "source": [
    "def carpma(a, b):\n",
    "    return a * b\n",
    "\n",
    "sonuc = carpma(4, 5) #sonuc = 20 gibi görülebilir.\n",
    "print(\"Çarpım:\", sonuc)"
   ]
  },
  {
   "cell_type": "markdown",
   "id": "3c203321",
   "metadata": {},
   "source": [
    "içe içe (nested) fonksiyonlar yazılabilir."
   ]
  },
  {
   "cell_type": "code",
   "execution_count": 32,
   "id": "767c2b2c",
   "metadata": {},
   "outputs": [],
   "source": [
    "def hacim_hesapla(a,b,c):\n",
    "    def alan_hesapla(a,b):\n",
    "        return a*b\n",
    "    \n",
    "    alan = alan_hesapla(a,b)\n",
    "    hacim = alan * c\n",
    "    return hacim"
   ]
  },
  {
   "cell_type": "code",
   "execution_count": 33,
   "id": "8e17f3df",
   "metadata": {},
   "outputs": [
    {
     "data": {
      "text/plain": [
       "120"
      ]
     },
     "execution_count": 33,
     "metadata": {},
     "output_type": "execute_result"
    }
   ],
   "source": [
    "hacim_hesapla(5,4,6)"
   ]
  },
  {
   "cell_type": "markdown",
   "id": "e99b2508",
   "metadata": {},
   "source": [
    "**Scope:** değişkenlerin kapsamını belirtir. Bir fonksiyon içerisindeki değişkenin scope'u o fonksiyonla sınırlıdır. Yani bir fonksiyon içerisindeki değişkene dışarıdan erişilemez. Ancak bir fonksiyon dışarıdaki bir değişkene erişebilir."
   ]
  },
  {
   "cell_type": "code",
   "execution_count": 34,
   "id": "ce92e673",
   "metadata": {},
   "outputs": [
    {
     "name": "stdout",
     "output_type": "stream",
     "text": [
      "5 10\n"
     ]
    }
   ],
   "source": [
    "x = 5\n",
    "def fonk():\n",
    "    y = 10\n",
    "    print(x, y)\n",
    "\n",
    "fonk()"
   ]
  },
  {
   "cell_type": "code",
   "execution_count": 35,
   "id": "f9a67084",
   "metadata": {},
   "outputs": [
    {
     "ename": "NameError",
     "evalue": "name 'y' is not defined",
     "output_type": "error",
     "traceback": [
      "\u001b[31m---------------------------------------------------------------------------\u001b[39m",
      "\u001b[31mNameError\u001b[39m                                 Traceback (most recent call last)",
      "\u001b[36mCell\u001b[39m\u001b[36m \u001b[39m\u001b[32mIn[35]\u001b[39m\u001b[32m, line 1\u001b[39m\n\u001b[32m----> \u001b[39m\u001b[32m1\u001b[39m \u001b[38;5;28mprint\u001b[39m(\u001b[43my\u001b[49m)\n",
      "\u001b[31mNameError\u001b[39m: name 'y' is not defined"
     ]
    }
   ],
   "source": [
    "print(y)"
   ]
  },
  {
   "cell_type": "markdown",
   "id": "91d99814",
   "metadata": {},
   "source": [
    "**lambda fonksiyonu**: tek satırda fonksiyon tanımlamamızı sağlar. **:**'den sonra hesaplanan değer neyse onu döndürür."
   ]
  },
  {
   "cell_type": "code",
   "execution_count": 37,
   "id": "bc44a1cf",
   "metadata": {},
   "outputs": [
    {
     "name": "stdout",
     "output_type": "stream",
     "text": [
      "16\n"
     ]
    }
   ],
   "source": [
    "kare_al = lambda x: x * x\n",
    "print(kare_al(4))"
   ]
  },
  {
   "cell_type": "markdown",
   "id": "244e524b",
   "metadata": {},
   "source": [
    "# docstring-type hints"
   ]
  },
  {
   "cell_type": "markdown",
   "id": "ccc02009",
   "metadata": {},
   "source": [
    "**docstring** -> Fonksiyonlar için yazılan string açıklamalar.      \n",
    "**type hints**->Fonksiyonların alacağı parametrelerin türünün belirtilmesi."
   ]
  },
  {
   "cell_type": "code",
   "execution_count": 43,
   "id": "1994889b",
   "metadata": {},
   "outputs": [],
   "source": [
    "def kare_al(x: int) -> int:\n",
    "    \"\"\"\n",
    "    Verilen sayının karesini hesaplar.\n",
    "\n",
    "    Args:\n",
    "        x (int): Karesi alınacak sayı.\n",
    "\n",
    "    Returns:\n",
    "        int: Sayının karesi.\n",
    "    \"\"\"\n",
    "    return x * x"
   ]
  },
  {
   "cell_type": "code",
   "execution_count": null,
   "id": "221b3135",
   "metadata": {},
   "outputs": [],
   "source": [
    "from typing import List\n",
    "\n",
    "def ortalama_hesapla(sayilar: List[float]) -> float:\n",
    "    \"\"\"\n",
    "    Verilen sayıların aritmetik ortalamasını hesaplar.\n",
    "\n",
    "    Args:\n",
    "        sayilar (List[float]): İçinde sayılar bulunan liste.\n",
    "\n",
    "    Returns:\n",
    "        float: Listedeki sayıların ortalaması.\n",
    "    \"\"\"\n",
    "    return sum(sayilar) / len(sayilar)"
   ]
  },
  {
   "cell_type": "markdown",
   "id": "3fe5a1df",
   "metadata": {},
   "source": [
    "# Dosya işlemleri"
   ]
  },
  {
   "cell_type": "markdown",
   "id": "3758a72f",
   "metadata": {},
   "source": [
    "Bilgisayarımızdaki dosyaların içeriğini okumak, dosyaya bir şey yazmak için kullanılır.     \n",
    "Dosya ile işlem yapabilmek için öncelikle dosyanın açılması lazımdır. Dosya ile işimiz bittikten sonra kapatılması tavsiye edilir.      \n",
    "Dosya açma modları:\n",
    "1. \"r\"\tOkuma (read), dosya olmalı\n",
    "2. \"w\"\tYazma (write), varsa üzerine yazar, yoksa oluşturur\n",
    "3. \"a\"\tEkleme (append), mevcut sonuna ekler\n",
    "4. \"x\"\tYeni dosya oluşturur, varsa hata verir\n",
    "5. \"b\"\tBinary mod (resim, pdf vb.)"
   ]
  },
  {
   "cell_type": "code",
   "execution_count": 1,
   "id": "dc487dcd",
   "metadata": {},
   "outputs": [
    {
     "name": "stdout",
     "output_type": "stream",
     "text": [
      "Merhaba\n",
      "Piton\n",
      "Dersi\n",
      "\n"
     ]
    }
   ],
   "source": [
    "dosya = open(\"dosya.txt\", \"r\") #Dosyayı okuma modunda açma\n",
    "icerik = dosya.read() #Tek bir string olarak okuduk.\n",
    "print(icerik)\n",
    "dosya.close()"
   ]
  },
  {
   "cell_type": "code",
   "execution_count": 5,
   "id": "0aa24f5a",
   "metadata": {},
   "outputs": [
    {
     "name": "stdout",
     "output_type": "stream",
     "text": [
      "Merhaba\n",
      "*************************\n",
      "Piton\n",
      "*************************\n",
      "Dersi\n",
      "*************************\n"
     ]
    }
   ],
   "source": [
    "dosya = open(\"dosya.txt\", \"r\") #Dosyayı okuma modunda açma\n",
    "for satir in dosya: #Satır satır okunabilir\n",
    "    print(satir.strip()) #strip fazladan gelen \\n karakterlerini kaldırmak için\n",
    "    print(\"*\"*25)"
   ]
  },
  {
   "cell_type": "code",
   "execution_count": 6,
   "id": "c16efebf",
   "metadata": {},
   "outputs": [
    {
     "name": "stdout",
     "output_type": "stream",
     "text": [
      "['Merhaba\\n', 'Piton\\n', 'Dersi\\n']\n"
     ]
    }
   ],
   "source": [
    "dosya = open(\"dosya.txt\", \"r\")\n",
    "satır_listesi = dosya.readlines()\n",
    "print(satır_listesi)"
   ]
  },
  {
   "cell_type": "code",
   "execution_count": 9,
   "id": "4365bbb4",
   "metadata": {},
   "outputs": [],
   "source": [
    "dosya = open(\"dosya2.txt\", \"a\") #Dosyayı yazma modunda açma\n",
    "dosya.write(\"Merhaba Piton!\\n\")\n",
    "dosya.write(\"Dosya işlemleri öğreniyoruz.\")\n",
    "dosya.close()"
   ]
  },
  {
   "cell_type": "code",
   "execution_count": 10,
   "id": "c08db211",
   "metadata": {},
   "outputs": [],
   "source": [
    "dosya = open(\"dosya2.txt\", \"a\") #Dosyayı yazma modunda açma\n",
    "dosya.write(\"Dosya içeriği\\n\")\n",
    "dosya.close()"
   ]
  },
  {
   "cell_type": "markdown",
   "id": "b7297550",
   "metadata": {},
   "source": [
    "**with** kullanarak dosya işlemlerini daha düzenli yönetebiliriz. open-close yapmak yerine with ile açabiliriz. işimiz bittikten sonra with kendisi dosyayı kapatacaktır."
   ]
  },
  {
   "cell_type": "code",
   "execution_count": 11,
   "id": "9457de71",
   "metadata": {},
   "outputs": [
    {
     "name": "stdout",
     "output_type": "stream",
     "text": [
      "Merhaba\n",
      "Piton\n",
      "Dersi\n",
      "\n"
     ]
    }
   ],
   "source": [
    "with open(\"dosya.txt\", \"r\") as dosya:\n",
    "    icerik = dosya.read()\n",
    "    print(icerik)"
   ]
  },
  {
   "cell_type": "code",
   "execution_count": 12,
   "id": "56ff407c",
   "metadata": {},
   "outputs": [],
   "source": [
    "with open(\"dosya2.txt\", \"w\") as dosya: #Dosya içeriğini siler. Sıfırdan yazar\n",
    "    dosya.write(\"Merhaba Piton!\\n\")\n",
    "    dosya.write(\"Dosya işlemleri öğreniyoruz.\")"
   ]
  },
  {
   "cell_type": "code",
   "execution_count": 13,
   "id": "ea75ceec",
   "metadata": {},
   "outputs": [],
   "source": [
    "with open(\"dosya3.txt\", \"a\") as dosya: #Dosya içeriğinin üzerine ekleme yapar\n",
    "    dosya.write(\"Merhaba Piton!\\n\")\n",
    "    dosya.write(\"Dosya işlemleri öğreniyoruz.\")"
   ]
  },
  {
   "cell_type": "markdown",
   "id": "9ff8e1a0",
   "metadata": {},
   "source": [
    "# Exception handling"
   ]
  },
  {
   "cell_type": "markdown",
   "id": "a1ebd35d",
   "metadata": {},
   "source": [
    "**try-except** yapısı ile kod içerisinde oluşabilecek potansiyel hatalar yakalanabilir. kodun hata vermesi demek o noktadan sonra kodun çalışmaması demektir. Özellikle büyük projelerde hata yakalama önemlidir. Otonom giden bir arabada python kodu hata verdiği için artık sürüş yazılımının çalışmadığını düşünün."
   ]
  },
  {
   "cell_type": "code",
   "execution_count": 18,
   "id": "895cec15",
   "metadata": {},
   "outputs": [
    {
     "ename": "ValueError",
     "evalue": "invalid literal for int() with base 10: 'A'",
     "output_type": "error",
     "traceback": [
      "\u001b[31m---------------------------------------------------------------------------\u001b[39m",
      "\u001b[31mValueError\u001b[39m                                Traceback (most recent call last)",
      "\u001b[36mCell\u001b[39m\u001b[36m \u001b[39m\u001b[32mIn[18]\u001b[39m\u001b[32m, line 1\u001b[39m\n\u001b[32m----> \u001b[39m\u001b[32m1\u001b[39m sayi = \u001b[38;5;28;43mint\u001b[39;49m\u001b[43m(\u001b[49m\u001b[38;5;28;43minput\u001b[39;49m\u001b[43m(\u001b[49m\u001b[33;43m\"\u001b[39;49m\u001b[33;43mBir sayı girin: \u001b[39;49m\u001b[33;43m\"\u001b[39;49m\u001b[43m)\u001b[49m\u001b[43m)\u001b[49m\n\u001b[32m      2\u001b[39m \u001b[38;5;28mprint\u001b[39m(\u001b[33m\"\u001b[39m\u001b[33mGirdiğiniz sayı:\u001b[39m\u001b[33m\"\u001b[39m, sayi)\n\u001b[32m      3\u001b[39m \u001b[38;5;28mprint\u001b[39m(\u001b[33m\"\u001b[39m\u001b[33mHello world\u001b[39m\u001b[33m\"\u001b[39m)\n",
      "\u001b[31mValueError\u001b[39m: invalid literal for int() with base 10: 'A'"
     ]
    }
   ],
   "source": [
    "sayi = int(input(\"Bir sayı girin: \"))\n",
    "print(\"Girdiğiniz sayı:\", sayi)\n",
    "print(\"Hello world\")"
   ]
  },
  {
   "cell_type": "code",
   "execution_count": 20,
   "id": "63bd6312",
   "metadata": {},
   "outputs": [
    {
     "name": "stdout",
     "output_type": "stream",
     "text": [
      "Hata: Lütfen geçerli bir sayı girin!\n"
     ]
    }
   ],
   "source": [
    "try:\n",
    "    sayi = int(input(\"Bir sayı girin: \"))\n",
    "    print(\"Girdiğiniz sayı:\", sayi)\n",
    "except:\n",
    "    print(\"Hata: Lütfen geçerli bir sayı girin!\")"
   ]
  },
  {
   "cell_type": "markdown",
   "id": "356ea02e",
   "metadata": {},
   "source": [
    "Python içerisinde hataların türleri vardır. İstediğiniz belirli bir hatayı yakalayabilirsiniz."
   ]
  },
  {
   "cell_type": "code",
   "execution_count": 21,
   "id": "930101fe",
   "metadata": {},
   "outputs": [
    {
     "name": "stdout",
     "output_type": "stream",
     "text": [
      "Hata: Sıfıra bölme yapılamaz!\n"
     ]
    }
   ],
   "source": [
    "try:\n",
    "    print(10 / 0)\n",
    "except ZeroDivisionError:\n",
    "    print(\"Hata: Sıfıra bölme yapılamaz!\")"
   ]
  },
  {
   "cell_type": "code",
   "execution_count": 23,
   "id": "eab26e14",
   "metadata": {},
   "outputs": [
    {
     "name": "stdout",
     "output_type": "stream",
     "text": [
      "Hata: Sıfıra bölme!\n"
     ]
    }
   ],
   "source": [
    "try:\n",
    "    sayi = int(input(\"Bir sayı girin: \"))\n",
    "    sonuc = 10 / sayi\n",
    "except ValueError:\n",
    "    print(\"Hata: Sayı girin!\")\n",
    "except ZeroDivisionError:\n",
    "    print(\"Hata: Sıfıra bölme!\")"
   ]
  },
  {
   "cell_type": "markdown",
   "id": "c5e88940",
   "metadata": {},
   "source": [
    "try-except ile beraber **else** kullanılabilir. Hata alınmadığı durumda else bloğu çalışır."
   ]
  },
  {
   "cell_type": "code",
   "execution_count": 25,
   "id": "be8e394f",
   "metadata": {},
   "outputs": [
    {
     "name": "stdout",
     "output_type": "stream",
     "text": [
      "Hata: Sayı girin!\n"
     ]
    }
   ],
   "source": [
    "try:\n",
    "    sayi = int(input(\"Bir sayı girin: \"))\n",
    "except ValueError:\n",
    "    print(\"Hata: Sayı girin!\")\n",
    "else:\n",
    "    print(\"Başarılı giriş:\", sayi)"
   ]
  },
  {
   "cell_type": "markdown",
   "id": "7c294ea8",
   "metadata": {},
   "source": [
    "**finally**:Hata olsun veya olmasın her zaman çalışır."
   ]
  },
  {
   "cell_type": "code",
   "execution_count": null,
   "id": "5908f225",
   "metadata": {},
   "outputs": [
    {
     "name": "stdout",
     "output_type": "stream",
     "text": [
      "Dosya bulunamadı!\n",
      "Dosya işlemi tamamlandı.\n"
     ]
    }
   ],
   "source": [
    "try:\n",
    "    dosya = open(\"ornek.txt\", \"r\")\n",
    "except FileNotFoundError:\n",
    "    print(\"Dosya bulunamadı!\")\n",
    "finally:\n",
    "    print(\"Dosya işlemi tamamlandı.\")"
   ]
  },
  {
   "cell_type": "markdown",
   "id": "eb62b66d",
   "metadata": {},
   "source": [
    "Hata mesajını yakalamak mümkündür."
   ]
  },
  {
   "cell_type": "code",
   "execution_count": 27,
   "id": "89ae98c5",
   "metadata": {},
   "outputs": [
    {
     "name": "stdout",
     "output_type": "stream",
     "text": [
      "Hata oluştu: invalid literal for int() with base 10: 'abc'\n"
     ]
    }
   ],
   "source": [
    "try:\n",
    "    sayi = int(\"abc\")\n",
    "except ValueError as e:\n",
    "    print(\"Hata oluştu:\", e)"
   ]
  },
  {
   "cell_type": "markdown",
   "id": "0686d259",
   "metadata": {},
   "source": [
    "# Class - Object"
   ]
  },
  {
   "cell_type": "markdown",
   "id": "94c8f2a2",
   "metadata": {},
   "source": [
    "**Object Oriented Programming (Nesne Yönelimli Programlama)**, programı nesneler ve sınıflar etrafında tasarlayan bir yaklaşım. Kodun daha düzenli ve tekrar kullanılabilir olması, Gerçek dünyadaki varlıkları modelleyebilme, Büyük projelerde yönetilebilirlik..."
   ]
  },
  {
   "cell_type": "code",
   "execution_count": 30,
   "id": "46d407c3",
   "metadata": {},
   "outputs": [
    {
     "name": "stdout",
     "output_type": "stream",
     "text": [
      "Araba oluşturuldu\n",
      "Araba oluşturuldu\n"
     ]
    }
   ],
   "source": [
    "# Sınıf tanımlama\n",
    "class Araba:\n",
    "    def __init__(self, marka, model,year): #__init__ metodu yapıcı metottur (constructor), nesne oluşurken çalışır.\n",
    "        self.marka = marka #self parametresi, nesnenin kendisini ifade eder.\n",
    "        self.model = model\n",
    "        self.year = year\n",
    "        print(\"Araba oluşturuldu\")\n",
    "\n",
    "    def bilgi(self):\n",
    "        print(f\"Araba: {self.marka} {self.model}\")\n",
    "\n",
    "# Nesne oluşturma\n",
    "araba1 = Araba(\"Toyota\", \"Corolla\",2015) #Araba bir class, araba1 ve araba2 ise Araba classına ait bir nesne\n",
    "araba2 = Araba(\"BMW\", \"320i\",2018)"
   ]
  },
  {
   "cell_type": "markdown",
   "id": "56c23447",
   "metadata": {},
   "source": [
    "class altındaki fonksiyonlar method olarak adlandırılır.        \n",
    "class altındaki self ile tanımlanan değişkenler attribute olarak adlandırılır."
   ]
  },
  {
   "cell_type": "code",
   "execution_count": 31,
   "id": "903c48a7",
   "metadata": {},
   "outputs": [
    {
     "name": "stdout",
     "output_type": "stream",
     "text": [
      "Araba: Toyota Corolla\n",
      "Araba: BMW 320i\n"
     ]
    }
   ],
   "source": [
    "araba1.bilgi() #Method\n",
    "araba2.bilgi() #Method"
   ]
  },
  {
   "cell_type": "code",
   "execution_count": 32,
   "id": "49a7ee91",
   "metadata": {},
   "outputs": [
    {
     "data": {
      "text/plain": [
       "2015"
      ]
     },
     "execution_count": 32,
     "metadata": {},
     "output_type": "execute_result"
    }
   ],
   "source": [
    "araba1.year #Attribute"
   ]
  },
  {
   "cell_type": "code",
   "execution_count": 34,
   "id": "97af1feb",
   "metadata": {},
   "outputs": [
    {
     "name": "stdout",
     "output_type": "stream",
     "text": [
      "asdkasdashjdahsdasd\n"
     ]
    }
   ],
   "source": [
    "araba1.year = \"asdkasdashjdahsdasd\"\n",
    "print(araba1.year)"
   ]
  },
  {
   "cell_type": "markdown",
   "id": "066daab7",
   "metadata": {},
   "source": [
    "**instance attribute** -> Her nesneye özgü değişkendir.     \n",
    "**class variable** -> Sınıf geneli değişkendir.     \n",
    "**Instance Method** -> Bir nesneye ait metottur. Bir nesne üzerinde çağırılır.            \n",
    "**Class Method** -> Sınıfın genel metodudur.attribute'lara doğrudan erişim sağlayamaz.        \n",
    "**Static Method** -> Sınıftan ve nesne'den bağımsızdır.Dışarıdan erişilebilir, normal fonksiyon gibi kullanılabilir.     \n",
    "**Getter ve Setter** -> Attribute’u doğrudan değiştirmek yerine metotlarla güvenli şekilde erişim sağlanır."
   ]
  },
  {
   "cell_type": "code",
   "execution_count": 37,
   "id": "b608db5d",
   "metadata": {},
   "outputs": [
    {
     "name": "stdout",
     "output_type": "stream",
     "text": [
      "Toyota Corolla (2015)\n",
      "Toplam araba sayısı: 2\n",
      "50.0\n",
      "BMW\n"
     ]
    },
    {
     "ename": "TypeError",
     "evalue": "Marka string olmalı!",
     "output_type": "error",
     "traceback": [
      "\u001b[31m---------------------------------------------------------------------------\u001b[39m",
      "\u001b[31mTypeError\u001b[39m                                 Traceback (most recent call last)",
      "\u001b[36mCell\u001b[39m\u001b[36m \u001b[39m\u001b[32mIn[37]\u001b[39m\u001b[32m, line 50\u001b[39m\n\u001b[32m     48\u001b[39m \u001b[38;5;66;03m# Getter ve Setter kullanımı\u001b[39;00m\n\u001b[32m     49\u001b[39m \u001b[38;5;28mprint\u001b[39m(araba2.marka_bilgisi)\n\u001b[32m---> \u001b[39m\u001b[32m50\u001b[39m \u001b[43maraba2\u001b[49m\u001b[43m.\u001b[49m\u001b[43mmarka_bilgisi\u001b[49m = \u001b[32m9561561\u001b[39m\n\u001b[32m     51\u001b[39m \u001b[38;5;28mprint\u001b[39m(araba2.marka_bilgisi)\n",
      "\u001b[36mCell\u001b[39m\u001b[36m \u001b[39m\u001b[32mIn[37]\u001b[39m\u001b[32m, line 34\u001b[39m, in \u001b[36mAraba.marka_bilgisi\u001b[39m\u001b[34m(self, yeni_marka)\u001b[39m\n\u001b[32m     31\u001b[39m \u001b[38;5;129m@marka_bilgisi\u001b[39m.setter\n\u001b[32m     32\u001b[39m \u001b[38;5;28;01mdef\u001b[39;00m\u001b[38;5;250m \u001b[39m\u001b[34mmarka_bilgisi\u001b[39m(\u001b[38;5;28mself\u001b[39m, yeni_marka:\u001b[38;5;28mstr\u001b[39m):\n\u001b[32m     33\u001b[39m     \u001b[38;5;28;01mif\u001b[39;00m \u001b[38;5;129;01mnot\u001b[39;00m \u001b[38;5;28misinstance\u001b[39m(yeni_marka, \u001b[38;5;28mstr\u001b[39m):\n\u001b[32m---> \u001b[39m\u001b[32m34\u001b[39m         \u001b[38;5;28;01mraise\u001b[39;00m \u001b[38;5;167;01mTypeError\u001b[39;00m(\u001b[33m\"\u001b[39m\u001b[33mMarka string olmalı!\u001b[39m\u001b[33m\"\u001b[39m)\n\u001b[32m     35\u001b[39m     \u001b[38;5;28mself\u001b[39m.marka = yeni_marka\n",
      "\u001b[31mTypeError\u001b[39m: Marka string olmalı!"
     ]
    }
   ],
   "source": [
    "class Araba:\n",
    "    \n",
    "    toplam_araba = 0 # Sınıf değişkeni (class variable)\n",
    "\n",
    "    def __init__(self, marka, model, year):\n",
    "        # Örnek değişkenler (instance attributes)\n",
    "        self.marka = marka\n",
    "        self.model = model\n",
    "        self.year = year\n",
    "        Araba.toplam_araba += 1  # Sınıf değişkenine erişim\n",
    "\n",
    "    \n",
    "    def bilgi(self): # Örnek metodu (instance method)\n",
    "        return f\"{self.marka} {self.model} ({self.year})\"\n",
    "\n",
    "    \n",
    "    @classmethod\n",
    "    def araba_sayisi(cls): # Sınıf metodu (class method)\n",
    "        return f\"Toplam araba sayısı: {cls.toplam_araba}\"\n",
    "\n",
    "    \n",
    "    @staticmethod\n",
    "    def hiz_hesaplama(km, saat): # Statik metot (static method)\n",
    "        return km / saat\n",
    "\n",
    "    \n",
    "    @property\n",
    "    def marka_bilgisi(self): # Getter ve Setter örneği (property decorator)\n",
    "        return self.marka\n",
    "\n",
    "    @marka_bilgisi.setter\n",
    "    def marka_bilgisi(self, yeni_marka:str):\n",
    "        if not isinstance(yeni_marka, str):\n",
    "            raise TypeError(\"Marka string olmalı!\")\n",
    "        self.marka = yeni_marka\n",
    "\n",
    "\n",
    "araba1 = Araba(\"Toyota\", \"Corolla\", 2015)\n",
    "araba2 = Araba(\"BMW\", \"320i\", 2018)\n",
    "\n",
    "print(araba1.bilgi())\n",
    "\n",
    "print(Araba.araba_sayisi())\n",
    "\n",
    "# Statik metod çağrısı\n",
    "print(Araba.hiz_hesaplama(150, 3))\n",
    "\n",
    "# Getter ve Setter kullanımı\n",
    "print(araba2.marka_bilgisi)\n",
    "araba2.marka_bilgisi = 9561561\n",
    "print(araba2.marka_bilgisi)"
   ]
  },
  {
   "cell_type": "markdown",
   "id": "44a5f83a",
   "metadata": {},
   "source": [
    "# OOP - Advanced"
   ]
  },
  {
   "cell_type": "markdown",
   "id": "2340d31c",
   "metadata": {},
   "source": [
    "**encapsulation** -> Class attribute'larının doğrudan değiştirilmesini önlemek için alınan güvelik önlemidir.        \n",
    "**_** -> Doğrudan gizlemez ancak uyarı niteliği taşır.      \n",
    "**__** -> Doğrudan gizler. "
   ]
  },
  {
   "cell_type": "code",
   "execution_count": 44,
   "id": "d78cfefc",
   "metadata": {},
   "outputs": [
    {
     "name": "stdout",
     "output_type": "stream",
     "text": [
      "Toyota\n",
      "BMW\n"
     ]
    }
   ],
   "source": [
    "class Araba:\n",
    "    def __init__(self, marka, model):\n",
    "        self.__marka = marka   # private attribute\n",
    "        self._model = model    # protected gibi davranan attribute\n",
    "\n",
    "    # Getter\n",
    "    @property\n",
    "    def marka(self):\n",
    "        return self.__marka\n",
    "\n",
    "    # Setter\n",
    "    @marka.setter\n",
    "    def marka(self, yeni_marka):\n",
    "        if isinstance(yeni_marka, str):\n",
    "            self.__marka = yeni_marka\n",
    "        else:\n",
    "            raise TypeError(\"Marka string olmalı!\")\n",
    "\n",
    "# Kullanım\n",
    "araba1 = Araba(\"Toyota\", \"Corolla\")\n",
    "\n",
    "print(araba1.marka)  # Getter ile erişim, çıktı: Toyota\n",
    "\n",
    "araba1.marka = \"BMW\"  # Setter ile güvenli değiştirme\n",
    "print(araba1.marka)  # Çıktı: BMW"
   ]
  },
  {
   "cell_type": "code",
   "execution_count": 45,
   "id": "2508e716",
   "metadata": {},
   "outputs": [
    {
     "name": "stdout",
     "output_type": "stream",
     "text": [
      "Corolla\n"
     ]
    }
   ],
   "source": [
    "print(araba1._model)"
   ]
  },
  {
   "cell_type": "code",
   "execution_count": 46,
   "id": "45ce8290",
   "metadata": {},
   "outputs": [
    {
     "ename": "AttributeError",
     "evalue": "'Araba' object has no attribute '__marka'",
     "output_type": "error",
     "traceback": [
      "\u001b[31m---------------------------------------------------------------------------\u001b[39m",
      "\u001b[31mAttributeError\u001b[39m                            Traceback (most recent call last)",
      "\u001b[36mCell\u001b[39m\u001b[36m \u001b[39m\u001b[32mIn[46]\u001b[39m\u001b[32m, line 1\u001b[39m\n\u001b[32m----> \u001b[39m\u001b[32m1\u001b[39m \u001b[38;5;28mprint\u001b[39m(\u001b[43maraba1\u001b[49m\u001b[43m.\u001b[49m\u001b[43m__marka\u001b[49m)\n",
      "\u001b[31mAttributeError\u001b[39m: 'Araba' object has no attribute '__marka'"
     ]
    }
   ],
   "source": [
    "print(araba1.__marka)"
   ]
  },
  {
   "cell_type": "code",
   "execution_count": 47,
   "id": "c7d07e5e",
   "metadata": {},
   "outputs": [
    {
     "name": "stdout",
     "output_type": "stream",
     "text": [
      "BMW\n"
     ]
    }
   ],
   "source": [
    "print(araba1._Araba__marka) "
   ]
  },
  {
   "cell_type": "markdown",
   "id": "92b93a0b",
   "metadata": {},
   "source": [
    "**inheriteance** -> Class'ların alt class'ı olması durumudur.       \n",
    "**Base/Parent** -> Üst sınıftır.        \n",
    "**Derived / Child** -> Kalıtılan alt sınıftır."
   ]
  },
  {
   "cell_type": "code",
   "execution_count": 48,
   "id": "2086fb2c",
   "metadata": {},
   "outputs": [],
   "source": [
    "class Araba:\n",
    "    def __init__(self, marka, model):\n",
    "        self.marka = marka\n",
    "        self.model = model\n",
    "\n",
    "    def bilgi(self):\n",
    "        return f\"{self.marka} {self.model}\""
   ]
  },
  {
   "cell_type": "code",
   "execution_count": null,
   "id": "ed4ab34c",
   "metadata": {},
   "outputs": [],
   "source": [
    "class ElektrikliAraba(Araba):  # Araba sınıfından kalıtım alıyor\n",
    "    def __init__(self, marka, model, batarya):\n",
    "        super().__init__(marka, model)  # Base class constructor çağrısı\n",
    "        self.batarya = batarya  # Yeni attribute ekledik\n",
    "\n",
    "    # Method override\n",
    "    def bilgi(self):\n",
    "        return f\"{self.marka} {self.model}, Batarya: {self.batarya} kWh\"\n",
    "\n",
    "# Kullanım\n",
    "tesla = ElektrikliAraba(\"Tesla\", \"Model 3\", 75)\n",
    "print(tesla.bilgi())"
   ]
  },
  {
   "cell_type": "markdown",
   "id": "2323b74c",
   "metadata": {},
   "source": [
    "**polymorphism** -> Farklı class'lar aynı metod ismine sahip olabilir. Özünde bu demek. Metotlar tamamen birbirinden farklı olduğu için karışmaz."
   ]
  },
  {
   "cell_type": "code",
   "execution_count": 49,
   "id": "8f1d501c",
   "metadata": {},
   "outputs": [
    {
     "name": "stdout",
     "output_type": "stream",
     "text": [
      "Daire çizildi\n",
      "Kare çizildi\n",
      "Üçgen çizildi\n"
     ]
    }
   ],
   "source": [
    "class Sekil:\n",
    "    def ciz(self):\n",
    "        return \"Bir şekil çiziliyor\"\n",
    "\n",
    "class Daire(Sekil):\n",
    "    def ciz(self):\n",
    "        return \"Daire çizildi\"\n",
    "\n",
    "class Kare(Sekil):\n",
    "    def ciz(self):\n",
    "        return \"Kare çizildi\"\n",
    "\n",
    "class Ucgen(Sekil):\n",
    "    def ciz(self):\n",
    "        return \"Üçgen çizildi\"\n",
    "\n",
    "# Nesneler\n",
    "sekiller = [Daire(), Kare(), Ucgen()]\n",
    "\n",
    "# Polimorfizm: Aynı metot ismi, farklı davranış\n",
    "for s in sekiller:\n",
    "    print(s.ciz())"
   ]
  },
  {
   "cell_type": "markdown",
   "id": "1a629c03",
   "metadata": {},
   "source": [
    "# Modül - kütüphane"
   ]
  },
  {
   "cell_type": "markdown",
   "id": "36bd4ca4",
   "metadata": {},
   "source": [
    "Python’da modül, Python kodunu bir dosyada düzenleyip başka dosyalarda tekrar kullanabilmemizi sağlayan bir yapıdır.        \n",
    "**Modül** → Tek .py dosyası     \n",
    "\n",
    "**Paket** → Birden fazla modül içeren klasör        \n",
    "\n",
    "**Kütüphane** → Bir veya birden fazla paket/modül topluluğu     "
   ]
  },
  {
   "cell_type": "markdown",
   "id": "a9038527",
   "metadata": {},
   "source": [
    "Python içerisinde doğrudan gelenler -> Standart Python kütüphaneleri (ekstra indirme gerekmez)      \n",
    "Python ile doğrudan gelmeyenler -> Harici kütüphaneler (ekstra indirme gerekir)"
   ]
  },
  {
   "cell_type": "markdown",
   "id": "801327d1",
   "metadata": {},
   "source": [
    "Bir kütüphaneyi kullanabilmek için python kodunun içerisinde **import** keywordu ile belirtmek gerekir.     \n",
    "import math"
   ]
  },
  {
   "cell_type": "markdown",
   "id": "36b6e332",
   "metadata": {},
   "source": [
    "# Math modülü"
   ]
  },
  {
   "cell_type": "markdown",
   "id": "b4d71fd5",
   "metadata": {},
   "source": [
    "Matematikte sıkça kullanılan fonksiyon ve sabitlerin toplandığı bir kütüphanedir. "
   ]
  },
  {
   "cell_type": "code",
   "execution_count": 1,
   "id": "ab2bf4d3",
   "metadata": {},
   "outputs": [],
   "source": [
    "import math"
   ]
  },
  {
   "cell_type": "code",
   "execution_count": 3,
   "id": "b2256c67",
   "metadata": {},
   "outputs": [
    {
     "name": "stdout",
     "output_type": "stream",
     "text": [
      "5.0\n",
      "8.0\n"
     ]
    }
   ],
   "source": [
    "print(math.sqrt(25)) #Karekök alma\n",
    "print(math.pow(2, 3)) #kuvvet alma"
   ]
  },
  {
   "cell_type": "code",
   "execution_count": 6,
   "id": "d235eb57",
   "metadata": {},
   "outputs": [
    {
     "name": "stdout",
     "output_type": "stream",
     "text": [
      "4.5\n"
     ]
    }
   ],
   "source": [
    "print(math.fabs(-4.5)) #float mutlak değer alma"
   ]
  },
  {
   "cell_type": "code",
   "execution_count": 8,
   "id": "2891234b",
   "metadata": {},
   "outputs": [
    {
     "name": "stdout",
     "output_type": "stream",
     "text": [
      "3\n",
      "4\n"
     ]
    }
   ],
   "source": [
    "print(math.floor(3.9)) #Aşağı yuvarlama\n",
    "print(math.ceil(3.1)) #Yukarı yuvarlama"
   ]
  },
  {
   "cell_type": "code",
   "execution_count": 11,
   "id": "7f8c00b8",
   "metadata": {},
   "outputs": [
    {
     "name": "stdout",
     "output_type": "stream",
     "text": [
      "3.141592653589793\n",
      "1.0\n",
      "1.0\n",
      "0.9999999999999999\n"
     ]
    }
   ],
   "source": [
    "print(math.radians(180)) #Derece -> Radyan dönüşümü\n",
    "print(math.sin(math.radians(90))) #sin fonksiyonu\n",
    "print(math.cos(math.radians(0))) #cos fonksiyonu\n",
    "print(math.tan(math.radians(45))) #tan fonksiyonu"
   ]
  },
  {
   "cell_type": "code",
   "execution_count": 14,
   "id": "27244b48",
   "metadata": {},
   "outputs": [
    {
     "name": "stdout",
     "output_type": "stream",
     "text": [
      "2.0\n",
      "1.0\n",
      "7.38905609893065\n"
     ]
    }
   ],
   "source": [
    "print(math.log(100, 10)) #logaritma (10 tabanında 100)\n",
    "print(math.log(math.e)) #logaritma (e tabanında e)\n",
    "print(math.exp(2)) #e üssü 2"
   ]
  },
  {
   "cell_type": "code",
   "execution_count": 16,
   "id": "3457d54f",
   "metadata": {},
   "outputs": [
    {
     "name": "stdout",
     "output_type": "stream",
     "text": [
      "120\n",
      "10\n",
      "20\n"
     ]
    }
   ],
   "source": [
    "print(math.factorial(5)) #faktöriyel\n",
    "print(math.comb(5, 2)) #kombinasyon\n",
    "print(math.perm(5, 2)) #permütasyon"
   ]
  },
  {
   "cell_type": "markdown",
   "id": "99296dba",
   "metadata": {},
   "source": [
    "# random kütüphanesi"
   ]
  },
  {
   "cell_type": "markdown",
   "id": "dc7f453d",
   "metadata": {},
   "source": [
    "rastgelelik içeren durumlar için kullanılır."
   ]
  },
  {
   "cell_type": "code",
   "execution_count": 1,
   "id": "2babbebe",
   "metadata": {},
   "outputs": [],
   "source": [
    "import random"
   ]
  },
  {
   "cell_type": "code",
   "execution_count": 13,
   "id": "62852a86",
   "metadata": {},
   "outputs": [
    {
     "name": "stdout",
     "output_type": "stream",
     "text": [
      "0.020223495084236265\n"
     ]
    }
   ],
   "source": [
    "print(random.random())  # 0.0 ile 1.0 arasında rastgele bir ondalık sayı (0 dahil, 1 hariç)"
   ]
  },
  {
   "cell_type": "code",
   "execution_count": 21,
   "id": "ad0a6ecd",
   "metadata": {},
   "outputs": [
    {
     "name": "stdout",
     "output_type": "stream",
     "text": [
      "3.4510406435782577\n"
     ]
    }
   ],
   "source": [
    "print(random.uniform(1, 5))  # 1 ile 5 arasında ondalık sayı"
   ]
  },
  {
   "cell_type": "code",
   "execution_count": 32,
   "id": "f3ba683d",
   "metadata": {},
   "outputs": [
    {
     "name": "stdout",
     "output_type": "stream",
     "text": [
      "1\n"
     ]
    }
   ],
   "source": [
    "print(random.randint(1, 10))  # 1 ile 10 arasında rastgele tam sayı (her iki uç dahil)  "
   ]
  },
  {
   "cell_type": "code",
   "execution_count": null,
   "id": "2a24db38",
   "metadata": {},
   "outputs": [
    {
     "name": "stdout",
     "output_type": "stream",
     "text": [
      "mavi\n",
      "['yeşil', 'mavi', 'kırmızı']\n"
     ]
    }
   ],
   "source": [
    "renkler = [\"kırmızı\", \"mavi\", \"yeşil\", \"sarı\"]\n",
    "print(random.choice(renkler)) #rastgele bir eleman seçme\n",
    "print(random.sample(renkler, 3))  # Listeden 3 farklı rastgele eleman seçme"
   ]
  },
  {
   "cell_type": "code",
   "execution_count": 59,
   "id": "79338ee4",
   "metadata": {},
   "outputs": [
    {
     "name": "stdout",
     "output_type": "stream",
     "text": [
      "['mavi', 'sarı', 'kırmızı', 'yeşil']\n"
     ]
    }
   ],
   "source": [
    "random.shuffle(renkler) #Rastgele karıştırma\n",
    "print(renkler)"
   ]
  },
  {
   "cell_type": "code",
   "execution_count": 78,
   "id": "6a8cafc1",
   "metadata": {},
   "outputs": [
    {
     "name": "stdout",
     "output_type": "stream",
     "text": [
      "2\n",
      "1\n"
     ]
    }
   ],
   "source": [
    "random.seed(42) #Her seferinde aynı rastgele işlemin yapılmasını sağlar\n",
    "print(random.randint(1, 10))\n",
    "print(random.randint(1, 10))"
   ]
  },
  {
   "cell_type": "markdown",
   "id": "31358d14",
   "metadata": {},
   "source": [
    "# datetime kütüphanesi"
   ]
  },
  {
   "cell_type": "markdown",
   "id": "beeb45eb",
   "metadata": {},
   "source": [
    "Tarih ve saat bilgilerini oluşturmak, formatlamak, farklarını hesaplamak için kullanılır."
   ]
  },
  {
   "cell_type": "code",
   "execution_count": 79,
   "id": "23dde14c",
   "metadata": {},
   "outputs": [],
   "source": [
    "import datetime"
   ]
  },
  {
   "cell_type": "code",
   "execution_count": 80,
   "id": "6a1f1df2",
   "metadata": {},
   "outputs": [
    {
     "name": "stdout",
     "output_type": "stream",
     "text": [
      "2025-08-18 09:53:11.371152\n"
     ]
    }
   ],
   "source": [
    "simdi = datetime.datetime.now() #Şu anın tarihi ve saatini alma\n",
    "print(simdi) "
   ]
  },
  {
   "cell_type": "code",
   "execution_count": 83,
   "id": "82f2d739",
   "metadata": {},
   "outputs": [
    {
     "name": "stdout",
     "output_type": "stream",
     "text": [
      "2025-08-13 14:30:00\n"
     ]
    }
   ],
   "source": [
    "tarih = datetime.datetime(2025, 8, 13, 14, 30, 0) #Belirli bir tarihi datetime formatına çevirme\n",
    "print(tarih)"
   ]
  },
  {
   "cell_type": "code",
   "execution_count": 85,
   "id": "651b7c65",
   "metadata": {},
   "outputs": [
    {
     "name": "stdout",
     "output_type": "stream",
     "text": [
      "2025-08-13\n",
      "14:30:00\n"
     ]
    }
   ],
   "source": [
    "t = datetime.date(2025, 8, 13) #Sadece tarih\n",
    "print(t)\n",
    "\n",
    "s = datetime.time(14, 30, 0) #sadece saat\n",
    "print(s)"
   ]
  },
  {
   "cell_type": "code",
   "execution_count": 94,
   "id": "3889fda0",
   "metadata": {},
   "outputs": [
    {
     "name": "stdout",
     "output_type": "stream",
     "text": [
      "2025\n",
      "8\n",
      "18\n",
      "9\n",
      "55\n",
      "47\n"
     ]
    }
   ],
   "source": [
    "simdi = datetime.datetime.now()\n",
    "print(simdi.year)   # Yıl\n",
    "print(simdi.month)  # Ay\n",
    "print(simdi.day)    # Gün\n",
    "print(simdi.hour)   # Saat\n",
    "print(simdi.minute) # Dakika\n",
    "print(simdi.second) # Saniye"
   ]
  },
  {
   "cell_type": "code",
   "execution_count": 95,
   "id": "131f9570",
   "metadata": {},
   "outputs": [
    {
     "name": "stdout",
     "output_type": "stream",
     "text": [
      "19 days, 0:00:00\n"
     ]
    }
   ],
   "source": [
    "t1 = datetime.date(2025, 8, 13)\n",
    "t2 = datetime.date(2025, 9, 1)\n",
    "fark = t2 - t1 #Tarihler ile aritmetik işlemler\n",
    "print(fark)"
   ]
  },
  {
   "cell_type": "markdown",
   "id": "3143b851",
   "metadata": {},
   "source": [
    "Datetime ve str arasında geçişler de mümkündür. (Araştırmanızı öneririm)"
   ]
  },
  {
   "cell_type": "markdown",
   "id": "fd4be416",
   "metadata": {},
   "source": [
    "# os kütüphanesi"
   ]
  },
  {
   "cell_type": "markdown",
   "id": "8cb27f8b",
   "metadata": {},
   "source": [
    "Python’da işletim sistemi ile etkileşim kurmak için kullanılır."
   ]
  },
  {
   "cell_type": "code",
   "execution_count": 96,
   "id": "febc88d6",
   "metadata": {},
   "outputs": [],
   "source": [
    "import os"
   ]
  },
  {
   "cell_type": "code",
   "execution_count": 98,
   "id": "e602dca3",
   "metadata": {},
   "outputs": [
    {
     "name": "stdout",
     "output_type": "stream",
     "text": [
      "/home/ozgur/Desktop/Eğitim\n"
     ]
    }
   ],
   "source": [
    "print(os.getcwd()) # Mevcut çalışma dizini"
   ]
  },
  {
   "cell_type": "code",
   "execution_count": 100,
   "id": "5c7e37d2",
   "metadata": {},
   "outputs": [
    {
     "name": "stdout",
     "output_type": "stream",
     "text": [
      "/tmp\n"
     ]
    }
   ],
   "source": [
    "os.chdir(\"/tmp\")   #Çalışma dizini değiştirme\n",
    "print(os.getcwd())"
   ]
  },
  {
   "cell_type": "code",
   "execution_count": 101,
   "id": "13aa8c38",
   "metadata": {},
   "outputs": [],
   "source": [
    "os.chdir(\"/home/ozgur/Desktop/Eğitim\")"
   ]
  },
  {
   "cell_type": "code",
   "execution_count": 102,
   "id": "3e902c23",
   "metadata": {},
   "outputs": [],
   "source": [
    "os.mkdir(\"deneme_klasoru\") # Klasör oluşturma\n",
    "\n",
    "os.makedirs(\"ana_klasor/alt_klasor\") # İç içe klasörler oluşturma"
   ]
  },
  {
   "cell_type": "code",
   "execution_count": 103,
   "id": "ff452cf4",
   "metadata": {},
   "outputs": [],
   "source": [
    "os.rmdir(\"deneme_klasoru\") # Klasör silme (boş olmalı)\n",
    "\n",
    "os.removedirs(\"ana_klasor/alt_klasor\") # İç içe klasörleri silme"
   ]
  },
  {
   "cell_type": "code",
   "execution_count": 104,
   "id": "13695d65",
   "metadata": {},
   "outputs": [
    {
     "name": "stdout",
     "output_type": "stream",
     "text": [
      "['Module 1 - Code.ipynb', '.venv', 'Module 3 - Code.ipynb', '__pycache__', 'Module 0 - Python.ipynb', 'Module - Numpy.ipynb', 'Module 2 - Code.ipynb', 'HW 2.ipynb', 'junk.ipynb', 'Module 4 - Code.ipynb', 'Module-1', 'HW 1.ipynb', 'HW 3.ipynb']\n",
      "['btmgmt', 'cvt', 'cut', 'chgrp', 'pygettext3', 'obexctl', 'ntfs-3g', 'hp-testpage', 'locale-check', 'sdl2-config', 'numfmt', 'ldapexop', 'apt-cdrom', 'xdg-mime', 'dpkg-gencontrol', 'ptardiff', 'pkaction', 'find', 'snapctl', 'eqn', 'hciconfig', 'vim.tiny', 'x86_64-linux-gnu-gcov-dump', 'pdftoppm', 'dpkg-split', 'dpkg-statoverride', 'addpart', 'gnome-shell', 'dpkg-vendor', 'pdfseparate', 'gi-decompile-typelib', 'tar', 'laptop-detect', 'ec2metadata', 'users', 'foo2hiperc', 'inetutils-telnet', 'ex', 'nice', 'aa-enabled', 'x86_64-linux-gnu-gprof', 'gpgv', 'X11', 'markdown-it', 'switcherooctl', 'debian-distro-info', 'sbattach', 'ibus', 'setleds', 'zcat', 'trust', 'foo2zjs', 'powerprofilesctl', 'mountpoint', 'wpa_passphrase', 'netcat', 'stat', 'tecla', 'apt-cache', 'gnome-shell-extension-tool', 'bzfgrep', 'systemctl', 'xwininfo', 'gzexe', 'pdftocairo', 'loimpress', 'evince-thumbnailer', 'gtk4-broadwayd', 'pkttyagent', 'comm', 'linux32', 'iecset', 'look', 'ln', 'x86_64-linux-gnu-gp-archive', 'xfontsel', 'seahorse', 'diff', 'ntfsmove', 'lzegrep', 'pkcon', 'xditview', 'mt-gnu', 'x86_64-linux-gnu-gi-decompile-typelib', 'speech-dispatcher', 'oclock', 'hexdump', 'dh_bash-completion', 'apt-config', 'scp', 'ntfsls', 'alsaucm', 'printafm', 'grub-mknetdir', 'lzma', 'im-config', 'gnome-language-selector', 'x86_64-linux-gnu-gcc-nm', 'toe', 'utmpdump', 'pslog', 'unity-scope-loader', 'Xwayland', 'gcr-viewer-gtk4', 'xkbcomp', 'apt', 'nano', 'peekfd', 'xdg-dbus-proxy', 'iconv', 'perlivp', 'whoami', 'zipinfo', 'cd-create-profile', 'pathchk', 'pw-reserve', 'chcon', 'rrsync', 'transset', 'grub-mklayout', 'gslj', 'prezip-bin', 'nvidia-sleep.sh', 'foo2qpdl-wrapper', 'spa-inspect', 'tabs', 'xdg-desktop-menu', 'echo', 'xev', 'pw-mon', 'systemd-analyze', 'apt-key', 'javap', 'enchant-2', 'g++', 'jdb', 'brltty-lscmds', 'grub-glue-efi', 'heif-thumbnailer', 'usb_printerid', 'ld.bfd', 'grub-editenv', 'ar', 'x86_64-linux-gnu-cpp-13', 'scanimage', 'ls', 'geqn', 'hp-plugin-ubuntu', 'gprofng', 'lpq', 'uclampset', 'fakeroot-sysv', 'lzmainfo', 'tracker3-search', 'xwd', 'parecord', 'ftp', 'c_rehash', 'hex2hcd', 'xxd', 'pfbtopfa', 'choom', 'scriptreplay', 'run-with-aspell', 'xcutsel', 'xzgrep', 'sha224sum', 'cvlc', 'lsmod', 'lastlog', 'systemd-cgtop', 'alsamixer', 'fakeroot-tcp', 'xmore', 'nautilus', 'ld.so', 'quirks-handler', 'dir', 'pw-midiplay', 'dmesg', 'systemd', 'zstdgrep', 'xhost', 'pydoc3.12', 'boltctl', 'xkbevd', 'jq', 'tset', 'ddstdecode', 'systemd-tty-ask-password-agent', 'prove', 'broadwayd', 'foomatic-rip', 'fuser', 'lsattr', 'dpkg-buildpackage', 'lspower', 'foo2hiperc-wrapper', 'pkill', 'gdbtui', 'locale', 'chrt', 'apt-mark', 'newgrp', 'nm-connection-editor', 'ippfind', 'mmcli', 'systemd-sysext', 'localedef', 'watchgnupg', 'obs', 'gnome-power-statistics', 'scriptlive', 'gnome-keyring-daemon', 'uncompress', 'ispell-wrapper', 'x86_64-linux-gnu-gcov-13', 'znew', 'fold', 'mt', 'x86_64-linux-gnu-gcc-13', 'apt-ftparchive', 'tclsh8.6', 'cpupower', 'opldecode', 'systemd-escape', 'x86_64-linux-gnu-gold', 'chage', 'sudoedit', 'rsync-ssl', 'pw-profiler', 'koi8rxterm', 'tload', 'zipnote', 'gatttool', 'systemd-confext', 'systemd-sysusers', 'proxy', 'dnsdomainname', 'expiry', 'pcre2-config', 'gcore', 'x86_64-linux-gnu-strip', 'lwp-mirror', 'c++filt', 'ldapcompare', 'paste', 'gnome-keyring', 'arecordmidi', 'ps2epsi', 'time', 'systemd-creds', 'xclock', 'linux64', 'vdir', 'jsondiff', 'loadkeys', 'ibus-setup', 'ipcrm', 'uxterm', 'ip', '7z', 'x86_64-linux-gnu-gcov-tool-13', 'tracker3-import', 'grub-mount', 'resizepart', 'manpath', 'xz', 'bashbug', 'hcitool', 'qt-faststart', 'cpan', 'nm-applet', 'ppdi', 'spa-json-dump', 'sum', 'xlogo', 'p11-kit', 'mount', 'colcrt', 'cc', 'ps2pdf12', 'gnome-session', 'ntfscmp', 'dh_perl_openssl', 'zip', 'ldapwhoami', 'pdffonts', 'ntfsfallocate', 'strings', 'gio', 'pw-top', 'sss_ssh_authorizedkeys', 'bitmap', 'nstat', 'vcs-run', 'gst-inspect-1.0', 'ul', 'driverless', 'chsh', 'hardlink', 'xrefresh', 'setsid', 'xkill', 'trace-cmd', 'w', 'x86_64-linux-gnu-strings', 'rdma', 'zstdcat', 'chown', 'jinfo', 'bdftruncate', 'id', 'x86_64-linux-gnu-gcc-ranlib', 'strace', 'pw-mididump', 'pdb3.12', 'tr', 'debconf', 'stty', 'nvidia-persistenced', 'x86_64-linux-gnu-gcc', 'x86_64-linux-gnu-gcc-ranlib-13', 'basenc', 'plog', 'gtk4-builder-tool', 'dpkg-genbuildinfo', 'lzcat', 'evince', 'ntfsusermap', 'hp-align', 'x86_64-linux-gnu-as', 'jcmd', 'x86_64-linux-gnu-gcc-nm-13', 'gdbus', 'ping4', 'nvlc', 'xsetmode', 'numactl', 'chacl', 'env', 'gst-device-monitor-1.0', 'who', 'open', 'pwdx', 'fmt', 'gcc-nm-13', 'sha512sum', 'mpstat', 'cloud-init-per', 'software-properties-gtk', 'gtk-launch', 'dh_installxmlcatalogs', 'rstart', 'prezip', 'ss', 'pdftops', 'x86_64-linux-gnu-ld.gold', 'eutp', 'gst-launch-1.0', 'grotty', 'podchecker', 'axfer', 'poff', 'gprof', 'snapfuse', 'zstdmt', 'gtester', 'brltty-clip', 'perl5.38-x86_64-linux-gnu', 'slxdecode', 'man-recode', 'gtf', 'lsns', 'ipptool', 'install-info', 'realpath', 'pinky', 'migrate-pubring-from-classic-gpg', 'editor', 'pygmentize', 'jarsigner', 'debconf-show', 'listres', 'ldd', 'cpan5.38-x86_64-linux-gnu', 'esc-m', 'getopt', 'x86_64-linux-gnu-readelf', 'tee', 'rendercheck', 'localectl', 'x86_64-linux-gnu-lto-dump', 'savelog', 'pnm2ppa', 'mkfontdir', 'domainname', 'zstd', 'X', 'google-chrome', 'neqn', 'gold', 'hp-scan', 'wpexec', 'mesg', 'speaker-test', 'timedatectl', 'bluemoon', 'ntfsdecrypt', 'hp-clean', 'xvinfo', 'iceauth', 'dbus-uuidgen', 'pf2afm', 'envsubst', 'install', 'mcookie', 'troff', 'chmod', 'tracker3-status', 'ntfs-3g.probe', 'mkfifo', 'fusermount3', 'unsquashfs', 'usbreset', 'transicc', 'ischroot', 'apport-cli', 'grub-file', 'mkfontscale', 'nisdomainname', 'snice', 'gp-collect-app', 'l2test', 'ldapmodrdn', 'x86_64-linux-gnu-c++filt', 'pyserial-ports', 'mbim-network', 'gcc-ranlib', 'xwud', 'gtbl', 'gsdj500', 'sar.sysstat', 'jstat', 'systemd-cryptenroll', 'pidstat', 'ping', 'lspci', 'join', 'lsipc', 'gnome-disk-image-mounter', 'gipddecode', 'foo2lava', 'x86_64-linux-gnu-gp-collect-app', 'zipcloak', 'x86_64-linux-gnu-size', 'apropos', 'im-launch', 'ssh-copy-id', 'jimage', 'top', 'pw-encplay', 'perf', 'lofromtemplate', 'x86_64-linux-gnu-pkgconf', 'nc', 'unshare', 'check-language-support', 'bzexe', 'xsm', 'infobrowser', 'git', 'mpris-proxy', 'gted', 'tracepath', 'gtk4-rendernode-tool', 'ppdpo', 'update-notifier', 'systemd-id128', 'systemd-ask-password', 'x86_64-linux-gnu-gp-display-html', 'xdriinfo', 'gkbd-keyboard-display', 'sdptool', 'rename.ul', 'lwp-request', 'base32', 'tput', 'tracker3-info', 'm2300w', 'jstack', 'ubuntu-distro-info', 'jrunscript', 'test', 'pkgconf', 'gs', 'ptargrep', 'column', 'spd-say', 'lp', 'lpstat', 'update-mime-database', 'pro', 'pacmd', 'gmake', 'x86_64-linux-gnu-cpp', 'gpgconf', 'atobm', 'fprintd-list', 'gcov-13', 'findmnt', 'man', 'ptar', 'systemd-tmpfiles', 'wget', 'ckbcomp', 'jfr', 'bzless', 'printer-profile', 'lzgrep', 'cat', 'jsonschema', 'pinentry', 'hipercdecode', 'pasuspender', 'nvidia-powerd', 'btmon', 'host', 'jsonpointer', 'tbl', 'wayland-scanner', 'gpasswd', 'expand', 'brltty-hid', 'x86_64-linux-gnu-python3-config', 'update-alternatives', 'xfd', 'tracker3-index', 'whoopsie-preferences', 'dwp', 'pinentry-curses', 'xqxdecode', 'rev', 'pager', 'orca', 'gdk-pixbuf-pixdata', 'vstp', 'sbvarsign', 'google-chrome-stable', 'zforce', 'systemd-hwdb', 'tracker3-sparql', 'gh', 'dash', 'grdctl', 'setkeycodes', 'p7zip', 'efibootmgr', 'catman', 'xclipboard', 'rnano', 'jlink', 'pyserial-miniterm', 'distro-info', 'xsetroot', 'pipewire', 'xdg-user-dir', 'foo2oak', 'rm', 'x86_64-linux-gnu-ld.bfd', 'sprof', 'parec', 'xprop', 'lastb', 'git-upload-archive', 'strace-log-merge', 'pdfdetach', 'pstree', '[', 'rctest', 'x86_64-linux-gnu-g++-13', 'dirname', 'c89-gcc', 'chfn', 'pamon', 'gpgsplit', 'gtester-report', 'fallocate', 'min12xxw', 'pipewire-pulse', 'pw-link', 'cpp-13', 'b2sum', 'gpu-manager', 'xstdcmap', 'brltty-trtxt', 'tic', 'ico', 'showconsolefont', 'arch', 'xmodmap', 'glib-genmarshal', 'kill', 'apport-collect', 'piconv', 'gnome-calculator', 'resizecons', 'gresource', 'xinput', 'bpftrace', 'spa-resample', 'meson', 'soffice', 'sha384sum', 'unicode_stop', 'hp-plugin', 'gnome-characters', 'linux-update-symlinks', 'qpdldecode', 'rmdir', 'objcopy', 'lto-dump-13', 'pon', 'resolvectl', 'x86_64-linux-gnu-python3.12-config', 'dpkg-deb', 'slabtop', 'lwp-dump', 'usb-devices', 'lshw', 'vlc', 'groups', 'ibus-table-createdb', 'preunzip', 'sg', 'xedit', 'apg', 'x86_64-linux-gnu-addr2line', 'pod2text', 'ranlib', 'brltty-ktb', 'pw-dsdplay', 'pod2usage', 'less', 'pacat', 'debconf-set-selections', 'ffprobe', 'qmi-firmware-update', 'pkexec', 'jdeps', 'fonttosfnt', 'umax_pp', 'vmstat', 'write', 'bzip2recover', 'pdfattach', 'nmcli', 'gcov-dump', 'yes', 'dpkg-divert', 'tracker3-sql', 'gst-discoverer-1.0', 'xargs', 'mtrace', 'jmap', 'x86_64-linux-gnu-objcopy', 'dpkg-scansources', 'ciptool', 'session-migration', 'sbsiglist', 'ldapdelete', 'x86_64-linux-gnu-dwp', 'arm2hpdl', 'xkeystone', 'c89', 'gnome-text-editor', 'select-default-iwrap', 'apport-bug', 'foo2xqx-wrapper', 'gobject-query', 'x86_64', 'expr', 'lessfile', 'xdg-open', 'hp-config_usb_printer', 'qmicli', 'xlsclients', 'pa-info', 'usbip', 'faillog', 'lprm', 'hbpldecode', 'json-patch-jsondiff', 'hp-pkservice', 'cmp', 'tracker3-export', 'pdftotext', 'x86_64-linux-gnu-g++', 'linkicc', 'apt-get', 'mimeopen', 'foo2ddst-wrapper', 'aa-exec', 'networkctl', 'cupstestppd', 'ypdomainname', 'as', 'sqfscat', 'hwe-support-status', 'pip3.12', 'dbus-daemon', 'gst-play-1.0', 'glib-compile-resources', 'run-parts', 'rview', 'ps2pdfwr', 'javadoc', 'select-editor', 'debconf-copydb', 'xdg-icon-resource', 'evince-previewer', 'fc-scan', 'kmodsign', 'pldd', 'cd-it8', 'dpkg-buildflags', 'x-session-manager', 'ubuntu-drivers', 'ld.gold', 'nmtui-hostname', 'pico', 'openvt', 'ssh-keygen', 'ps2pdf13', 'h2xs', 'spa-acp-tool', '7za', 'resize', 'bmtoa', 'hostname', 'gzip', 'psfstriptable', 'ldapmodify', 'apt-add-repository', 'lavadecode', 'oem-getlogs', 'pphs', 'unzipsfx', 'migspeed', 'nl', 'xkbvleds', 'pactl', 'mk_modmap', 'gtk-update-icon-cache', 'fgrep', 'truncate', 'jpgicc', 'tapestat', 'captoinfo', 'hp-logcapture', 'bzmore', 'psicc', 'showrgb', 'xsetpointer', 'iostat', 'ubuntu-bug', 'sbsign', 'growpart', 'oomctl', 'bdftopcf', 'sensible-editor', 'aspell-import', 'sed', 'hp-colorcal', 'fc-list', 'zless', 'nohup', 'fusermount', 'amixer', 'gio-querymodules', 'bash', 'brltty-atb', 'xdg-screensaver', 'sort', 'last', 'cifsiostat', 'paperconf', 'foo2hp2600-wrapper', 'hd', 'netaddr', 'pw-record', 'systemd-inhibit', 'xzfgrep', 'do-release-upgrade', 'gnome-session-quit', 'inputattach', 'x86_64-linux-gnu-gcc-ar', 'dpkg-maintscript-helper', 'hp-probe', 'busctl', 'uname', 'shred', 'gsutil', 'namei', 'tty', 'tracker3-tag', 'm17n-db', 'rbash', 'ionice', 'l2ping', 'tempfile', 'ssh-keyscan', 'ps2txt', 'ngettext', 'patch', 'upower', 'java', 'bluetooth-sendto', 'bzgrep', 'hp-firmware', 'xlsfonts', 'gpg', 'gsdj', 'foo2zjs-icc2ps', 'foo2hbpl2', 'sane-find-scanner', 'nautilus-sendto', 'mscompress', 'journalctl', 'ntfssecaudit', 'dpkg-name', 'isdv4-serial-debugger', 'i386', 'dc', 'zdiff', 'acpidbg', 'gnome-www-browser', 'gdbus-codegen', 'usbipd', 'stdbuf', 'kmod', 'pw-cli', 'systemd-path', 'py3versions', 'xeyes', 'rtstat', 'uptime', 'grops', 'xinit', 'x86_64-linux-gnu-gcov-dump-13', 'sss_ssh_knownhostsproxy', 'debconf-communicate', 'x86_64-linux-gnu-ld', 'mapscrn', 'alsaloop', 'hp-query', 'pkg-config', 'watch', 'ps2pdf14', 'sudo', 'bwrap', 'psfgettable', 'rygel', 'gnome-session-properties', 'alsatplg', 'systemd-run', 'aspell', 'lpr', 'lzless', 'whiptail', 'systemd-cryptsetup', 'spice-vdagent', 'gamma4scanimage', 'brltty-tune', 'col', 'gdk-pixbuf-thumbnailer', 'telnet', 'rmiregistry', 'pr', 'spdsend', 'calibrate_ppa', 'gpg-wks-client', 'dig', 'desktop-file-edit', 'gtk-query-settings', 'free', 'pdftohtml', 'qmi-network', 'shasum', 'gdm-config', 'py3compile', 'xlsatoms', 'javac', 'pw-cat', 'grub-mkrelpath', 'gunzip', 'ptx', 'mknod', 'ua', 'jar', 'x86_64-linux-gnu-gcov-tool', 'python3', 'bunzip2', 'zipdetails', 'sensible-pager', 'ppdhtml', 'hp-setup', 'foo2zjs-wrapper', 'systemd-machine-id-setup', 'git-shell', 'update-manager', 'ps2ps2', 'sbverify', 'xcursorgen', 'md5sum.textutils', 'tcpdump', 'perldoc', 'unxz', 'glib-compile-schemas', 'cancel', 'grub-mkstandalone', 'git-upload-pack', 'ldapadd', 'make-first-existing-target', 'bpftrace-aotrt', 'uuidparse', 'deallocvt', 'sha1sum', 'x86_energy_perf_policy', 'ps', 'crontab', 'taskset', 'gnome-control-center', 'xrandr', 'pod2man', 'cpio', 'debconf-escape', 'ps2pdf', 'git-receive-pack', 'funzip', 'showkey', 'umount', 'unattended-upgrade', 'fwupdtool', 'GET', 'tracker3-reset', 'gtk4-path-tool', 'py3clean', 'POST', 'psfaddtable', 'lsof', 'bzdiff', 'nawk', 'zmore', 'smproxy', 'infocmp', 'brltty-morse', 'pmap', 'ubuntu-security-status', 'cvtsudoers', 'pw-midirecord', 'nsupdate', 'pinentry-x11', 'pw-metadata', 'kbxutil', 'dpkg-gensymbols', 'enc2xs', 'sudoreplay', 'nc.openbsd', 'flock', 'keytool', 'foo2hp', 'ctstat', 'gcc-ar-13', 'pw-config', 'sensible-terminal', 'gnome-extensions', 'dpkg-architecture', 'pip3', 'xbiff', 'systemd-firstboot', 'gencat', 'jshell', 'sqfstar', 'libreoffice', 'which', 'md5sum', 'spa-monitor', 'gpic', 'numastat', 'pdf2ps', 'helpztags', 'xgamma', 'xkbwatch', 'dpkg-trigger', 'jmod', 'enchant-lsmod-2', 'gp-display-text', 'apport-unpack', 'unexpand', 'ipcmk', 'mousetweaks', 'ps2ascii', 'hostnamectl', 'corelist', 'startx', 'printenv', 'Xorg', 'scp-dbus-service', 'sdiff', 'pdfunite', 'lwp-download', 'browse', 'pybabel-python3', 'nvidia-modprobe', 'getkeycodes', 'os-prober', 'gi-compile-repository', 'lodraw', 'networkd-dispatcher', 'rsync', 'gnome-help', 'svlc', 'eog', 'setpci', 'hp-makeuri', 'dpkg-shlibdeps', 'pipewire-aes67', 'sotruss', 'objdump', 'ucs2any', 'hciattach', 'gnome-logs', 'unzstd', 'kerneloops-submit', 'cpp', 'memusagestat', 'x86_64-linux-gnu-objdump', 'grep', 'gnome-system-monitor', 'setterm', 'on_ac_power', 'logname', 'x11perfcomp', 'ntfscat', 'pidof', 'mksquashfs', 'loffice', 'whereis', 'lsinitramfs', 'gslp', 'xsetwacom', 'uniq', 'zstdless', 'systemd-mount', 'dbus-cleanup-sockets', 'systemd-cat', 'passwd', 'isdv4-serial-inputattach', 'zjsdecode', 'pdfimages', 'lesspipe', 'elfedit', 'dconf', 'fprintd-enroll', 'eatmydata', 'python3-config', 'xzdiff', 'info', 'ldapsearch', 'ntfswipe', 'dpkg-distaddfile', 'lsmem', 'pdb3', 'streamzip', 'tracker3-help', 'setpriv', 'tail', 'getent', 'gtk-encode-symbolic-svg', 'x11perf', 'sleep', 'sensible-browser', 'ps2ps', 'ntfsfix', 'xman', 'iptables-xml', 'ldappasswd', 'zipgrep', 'partx', 'systemd-notify', 'diff3', 'logger', 'seq', 'dbus-monitor', 'rvlc', 'clear_console', 'pdfinfo', 'hp-info', 'mawk', 'ld', 'jhsdb', 'x-www-browser', 'static-sh', 'fc-cache', 'lsusb', 'perl5.38.2', 'getfacl', 'btattach', 'setmetamode', 'readelf', 'ssh-add', 'ntfscluster', 'serialver', 'gdb-add-index', 'msexpand', 'dpkg-parsechangelog', 'jps', 'gjs', 'xzcat', 'lnstat', 'nm', 'brltty-ctb', 'glib-mkenums', 'pidwait', 'gettext', 'xbrlapi', 'gsbj', 'gamemoded', 'gst-stats-1.0', 'whoopsie', 'dpkg-checkbuilddeps', 'c99', 'xkbbell', 'pkmon', 'prlimit', 'Xephyr', 'lsblk', 'mesa-overlay-control.py', 'setfacl', 'tzselect', 'tac', 'editres', 'pzstd', 'x86_64-linux-gnu-nm', 'mbimcli', 'scalar', 'setarch', 'systemd-repart', 'tracker3-daemon', 'gnome-thumbnail-font', 'update-desktop-database', 'pip', 'login', 'gtk4-update-icon-cache', 'sessreg', 'basename', 'xmessage', 'varlinkctl', 'glib-gettextize', 'gi-inspect-typelib', 'm2300w-wrapper', 'setupcon', 'rfcomm', 'more', 'fakeroot', 'fc-cat', 'dircolors', 'lzcmp', 'cksum', 'gcov-tool', 'xrdb', 'ijs_pxljr', 'gdb', 'uuidgen', 'setxkbmap', 'linux-version', 'xdg-settings', 'firefox', 'df', 'rpcgen', 'monitor-sensor', 'systemd-umount', 'su', 'mtr', 'ginstall-info', 'jsonpatch', 'linux-boot-prober', 'systemd-delta', 'pipewire-avb', 'hp-levels', 'chvt', 'grub-script-check', 'alsabat', 'x86_64-linux-gnu-ranlib', 'false', 'grub-menulst2cfg', 'gp-display-html', 'bzip2', 'ldapurl', 'xdpyinfo', 'aconnect', 'notify-send', 'bzegrep', 'pw-dump', 'getconf', 'unlink', 'gcov-dump-13', 'gcc-13', 'file', 'gtk4-launch', 'gnome-clocks', 'sftp', 'red', 'reset', 'fc-pattern', 'dbus-update-activation-environment', 'colormgr', 'brltty', 'preconv', 'pkcheck', 'ubuntu-advantage', 'gcov', 'tsort', 'nvidia-detector', 'timeout', 'file2brl', 'gpgtar', 'bluetoothctl', 'plymouth', 'which.debianutils', 'memhog', 'gsettings', 'aa-features-abi', 'apt-sortpkgs', 'pwd', 'gpg-agent', 'split', 'm2400w', 'gsnd', 'lxterm', 'mkdir', 'screendump', 'ntfstruncate', 'lslocks', 'busybox', 'xzless', 'aseqnet', 'x86_64-linux-gnu-pkg-config', 'cloud-init', 'nm-online', 'tclsh', 'lowntfs-3g', 'gnome-terminal.wrapper', 'pstree.x11', 'pic', 'jexec', 'mdig', 'xkbprint', 'gpg-connect-agent', 'gnome-terminal.real', 'xdg-email', 'driverless-fax', 'g++-13', 'nmtui', 'brltty-ttb', 'deb-systemd-helper', 'csplit', 'hostid', 'dpkg-buildapi', 'factor', 'gst-typefind-1.0', 'ssh-agent', 'fprintd-delete', 'desktop-file-validate', 'qvlc', 'skill', 'lessecho', 'mktemp', 'xmag', 'x86_64-linux-gnu-gcov', 'gcr-viewer', 'lsb_release', 'bc', 'gpgsm', 'awk', 'gnome-shell-test-tool', 'wpctl', 'faked-sysv', 'ntfsrecover', 'addr2line', 'size', 'foo2ddst', 'pl2pm', 'zfgrep', 'dpkg-mergechangelogs', 'splitfont', 'fc-match', 'foo2hbpl2-wrapper', 'migratepages', 'routel', 'yelp', 'vmwarectrl', 'dbxtool', 'gcc-ranlib-13', 'x86_64-linux-gnu-ar', 'printf', 'x86_64-linux-gnu-gp-display-src', 'ffplay', 'xset', 'grub-mkimage', 'c++', 'du', 'make', 'foo2qpdl', 'gapplication', 'gtk4-encode-symbolic-svg', 'x-terminal-emulator', 'x86_64-linux-gnu-elfedit', 'encguess', 'groff', 'lzdiff', 'usbhid-dump', 'grub-mkpasswd-pbkdf2', 'word-list-compress', 'c99-gcc', 'wdctl', 'dbus-run-session', 'fwupdmgr', 'orca-dm-wrapper', 'systemd-ac-power', 'pdfsig', 'nautilus-autorun-software', 'xload', 'pax11publish', 'head', 'udevadm', 'apgbfm', 'strip', 'kernel-install', 'intel-virtual-output', 'systemd-cgls', 'xdg-user-dirs-gtk-update', '7zr', 'ucf', 'dirmngr', 'grub-kbdcomp', 'sha256sum', 'ppdmerge', 'xauth', 'xsubpp', 'lcf', 'xdg-desktop-icon', 'true', 'openssl', 'gnome-keyring-3', 'dvipdf', 'ucfq', 'xcmsdb', 'dd', 'lspgpot', 'gettext.sh', 'tracker3-extract', 'aptdcon', 'grub-render-label', 'pw-play', 'killall', 'lto-dump', 'cd-fix-profile', 'lslogins', 'colrm', 'setlogcons', 'systemd-socket-activate', 'fc-conflist', 'od', 'rstartd', 'h2ph', 'dpkg-source', 'zcmp', 'ntfsinfo', 'nvtop', 'kbd_mode', 'touch', 'perlbug', 'rgrep', 'gp-archive', 'xcalc', 'instmodsh', 'gcc-nm', 'xzmore', 'canberra-gtk-play', 'grub-mkfont', 'gpgparsemail', 'json_pp', 'grub-fstest', 'mimetype', 'x86_64-linux-gnu-gprofng', 'hp-doctor', 'pinentry-gnome3', 'view', 'ibus-daemon', 'eps2eps', 'mandb', 'udisksctl', 'systemd-stdio-bridge', 'foo2slx', 'snap', 'gdm-screenshot', 'pavucontrol', 'jdeprscan', 'date', 'vlc-wrapper', 'jstatd', 'dumpkeys', 'gnome-font-viewer', 'systemd-detect-virt', 'deb-systemd-invoke', 'ppdc', 'clear', 'ubuntu-report', 'aplaymidi', 'dpkg-realpath', 'perl', 'pydoc3', 'xterm', 'dirmngr-client', 'foo2oak-wrapper', 'x86_64-linux-gnu-gcc-ar-13', 'unattended-upgrades', 'base64', 'foo2lava-wrapper', 'lzfgrep', 'sadf', 'grub-syslinux2cfg', 'tracker3', 'x86_64-linux-gnu-lto-dump-13', 'apt-extracttemplates', 'pw-dot', 'wall', 'dpkg-query', 'mtr-packet', 'ssh-argv0', 'pgrep', 'foo2xqx', 'paplay', 'foo2slx-wrapper', 'psfxtable', 'dbus-send', 'zdump', 'gnome-disks', 'sbkeysync', 'aseqdump', 'fc-query', 'chardet', 'hp-check', 'perli11ndoc', 'mokutil', 'wireplumber', 'infotocap', 'dpkg-scanpackages', 'efibootdump', 'airscan-discover', 'unlzma', 'fprintd-verify', 'delv', 'gjs-console', 'setfont', 'gst-tester-1.0', 'vi', 'gstreamer-codec-install', 'dpkg-genchanges', 'xzcmp', 'xgc', 'precat', 'bzcmp', 'ssh', 'chardetect', 'arecord', 'unmkinitramfs', 'loginctl', 'codepage', 'zenity', 'gdk-pixbuf-csource', 'slogin', 'pybabel', 'turbostat', 'readlink', 'xconsole', 'appres', 'gnome-session-inhibit', 'soelim', 'unzip', 'xvidtune', 'jconsole', 'aplay', 'nslookup', 'rtla', 'delpart', 'tificc', 'linux-check-removal', 'gp-display-src', 'whatis', 'pygettext3.12', 'gtk4-query-settings', 'python3.12-config', 'cp', 'chattr', 'zipsplit', 'nsenter', 'xzegrep', 'gcc-ar', 'x86_64-linux-gnu-gi-compile-repository', 'lpoptions', 'HEAD', 'gtk-builder-tool', 'splain', 'kbdinfo', 'oakdecode', 'unopkg', 'sar', 'runcon', 'loadunimap', 'gnome-terminal', 'zegrep', 'unicode_start', 'add-apt-repository', 'cd-iccdump', 'fc-validate', 'prtstat', 'jpackage', 'memusage', 'dpkg', 'pdf2dsc', 'python3.12', 'gcc', 'grog', 'ffmpeg', 'libnetcfg', 'lscpu', 'baobab', 'lzmore', 'cloud-id', 'fgconsole', 'x86_64-linux-gnu-gi-inspect-typelib', 'nroff', 'renice', 'amidi', 'wc', 'ed', 'shuf', 'gdmflexiserver', 'ghostscript', 'appstreamcli', 'nproc', 'gcalccmd', 'hp-timedate', 'spd-conf', 'gcov-tool-13', 'eject', 'grub-mkrescue', 'tracker3-endpoint', 'script', 'ucfr', 'debconf-apt-progress', 'bzcat', 'audacity', 'ping6', 'ninja', 'zgrep', 'egrep', 'pw-loopback', 'tnftp', 'nmtui-connect', 'ipcs', 'lesskey', 'perlthanks', 'x86_64-linux-gnu-gp-display-text', 'sh', 'lexgrog', 'nmtui-edit', 'sync', 'link', 'foo2zjs-pstops', 'viewres', 'pod2html', 'xdg-user-dirs-update', 'mv', 'desktop-file-install', 'dpkg-buildtree', 'faked-tcp']\n"
     ]
    }
   ],
   "source": [
    "print(os.listdir())            # Mevcut dizindeki dosyalar\n",
    "print(os.listdir(\"/usr/bin\"))  # Belirtilen dizindeki dosyalar"
   ]
  },
  {
   "cell_type": "code",
   "execution_count": 106,
   "id": "da26dbb6",
   "metadata": {},
   "outputs": [
    {
     "name": "stdout",
     "output_type": "stream",
     "text": [
      "/home/ozgur\n",
      "/home/ozgur/Desktop/Eğitim/.venv/bin:/usr/local/sbin:/usr/local/bin:/usr/sbin:/usr/bin:/sbin:/bin:/usr/games:/usr/local/games:/snap/bin:/snap/bin\n"
     ]
    }
   ],
   "source": [
    "print(os.environ.get(\"HOME\")) #environment değikenine erişim\n",
    "print(os.environ.get(\"PATH\")) #environment değikenine erişim"
   ]
  },
  {
   "cell_type": "code",
   "execution_count": 107,
   "id": "28bc00f5",
   "metadata": {},
   "outputs": [
    {
     "name": "stdout",
     "output_type": "stream",
     "text": [
      "Merhaba Dünya\n"
     ]
    },
    {
     "data": {
      "text/plain": [
       "0"
      ]
     },
     "execution_count": 107,
     "metadata": {},
     "output_type": "execute_result"
    }
   ],
   "source": [
    "os.system(\"echo Merhaba Dünya\") # Terminal komutu çalıştırma"
   ]
  },
  {
   "cell_type": "code",
   "execution_count": 108,
   "id": "8e9ac4a2",
   "metadata": {},
   "outputs": [
    {
     "name": "stdout",
     "output_type": "stream",
     "text": [
      "Merhaba piton\n"
     ]
    }
   ],
   "source": [
    "!echo \"Merhaba piton\""
   ]
  },
  {
   "cell_type": "markdown",
   "id": "0af82919",
   "metadata": {},
   "source": [
    "# sys kütüphanesi"
   ]
  },
  {
   "cell_type": "markdown",
   "id": "64c8acef",
   "metadata": {},
   "source": [
    "Python ve sistem ile ilgili işlemlerin yapılmasını sağlar: versiyon,program durdurma vb."
   ]
  },
  {
   "cell_type": "code",
   "execution_count": 119,
   "id": "fb9dd795",
   "metadata": {},
   "outputs": [
    {
     "name": "stdout",
     "output_type": "stream",
     "text": [
      "3.12.3 (main, Jun 18 2025, 17:59:45) [GCC 13.3.0]\n",
      "sys.version_info(major=3, minor=12, micro=3, releaselevel='final', serial=0)\n"
     ]
    }
   ],
   "source": [
    "import sys\n",
    "\n",
    "print(sys.version)   # Python sürümü\n",
    "print(sys.version_info)  # Ayrıntılı sürüm bilgisi (major, minor, micro)"
   ]
  },
  {
   "cell_type": "code",
   "execution_count": 120,
   "id": "834c5feb",
   "metadata": {},
   "outputs": [
    {
     "name": "stdout",
     "output_type": "stream",
     "text": [
      "Program başlıyor...\n"
     ]
    },
    {
     "ename": "SystemExit",
     "evalue": "",
     "output_type": "error",
     "traceback": [
      "An exception has occurred, use %tb to see the full traceback.\n",
      "\u001b[31mSystemExit\u001b[39m\n"
     ]
    }
   ],
   "source": [
    "print(\"Program başlıyor...\")\n",
    "sys.exit()  \n",
    "print(\"Bu satır çalışmaz.\")"
   ]
  },
  {
   "cell_type": "code",
   "execution_count": 121,
   "id": "de99a7bd",
   "metadata": {},
   "outputs": [
    {
     "name": "stdout",
     "output_type": "stream",
     "text": [
      "/usr/lib/python312.zip\n",
      "/usr/lib/python3.12\n",
      "/usr/lib/python3.12/lib-dynload\n",
      "\n",
      "/home/ozgur/Desktop/Eğitim/.venv/lib/python3.12/site-packages\n"
     ]
    }
   ],
   "source": [
    "for yol in sys.path: #python import yaparken hangi dizinlerde arıyor.\n",
    "    print(yol)"
   ]
  },
  {
   "cell_type": "code",
   "execution_count": 123,
   "id": "b0c30df1",
   "metadata": {},
   "outputs": [
    {
     "name": "stdout",
     "output_type": "stream",
     "text": [
      "['sys', 'builtins', '_frozen_importlib', '_imp', '_thread', '_warnings', '_weakref', '_io', 'marshal', 'posix', '_frozen_importlib_external', 'time', 'zipimport', '_codecs', 'codecs', 'encodings.aliases', 'encodings', 'encodings.utf_8', '_signal', '_abc', 'abc', 'io', '__main__', '_stat', 'stat', '_collections_abc', 'genericpath', 'posixpath', 'os.path', 'os', '_sitebuiltins', '_distutils_hack', 'sitecustomize', 'site', 'importlib._bootstrap', 'importlib._bootstrap_external', 'warnings', 'importlib', 'importlib.machinery', 'importlib._abc', 'itertools', 'keyword', '_operator', 'operator', 'reprlib', '_collections', 'collections', 'types', '_functools', 'functools']\n"
     ]
    }
   ],
   "source": [
    "print(list(sys.modules.keys())[:50])"
   ]
  },
  {
   "cell_type": "code",
   "execution_count": 124,
   "id": "cd879966",
   "metadata": {},
   "outputs": [
    {
     "name": "stdout",
     "output_type": "stream",
     "text": [
      "3000\n"
     ]
    }
   ],
   "source": [
    "print(sys.getrecursionlimit())"
   ]
  },
  {
   "cell_type": "code",
   "execution_count": 125,
   "id": "b9b3a1e3",
   "metadata": {},
   "outputs": [
    {
     "name": "stdout",
     "output_type": "stream",
     "text": [
      "linux\n"
     ]
    }
   ],
   "source": [
    "print(sys.platform) #işletim sistemi"
   ]
  },
  {
   "cell_type": "markdown",
   "id": "693ca2a4",
   "metadata": {},
   "source": [
    "# copy-deepcopy"
   ]
  },
  {
   "cell_type": "markdown",
   "id": "8e7aadc5",
   "metadata": {},
   "source": [
    "**shallow copy:** Sadece en dıştaki itemi kopyalar.     \n",
    "**deep copy:** Dıştaki itemi ve varsa içteki itemleri kopyalar.     \n",
    "str,int,float gibi nested olmayan yapılarda işlevleri aynıdır. Fark nested list gibi durumlarda ortaya çıkar."
   ]
  },
  {
   "cell_type": "code",
   "execution_count": 126,
   "id": "bafe572d",
   "metadata": {},
   "outputs": [],
   "source": [
    "import copy"
   ]
  },
  {
   "cell_type": "code",
   "execution_count": 128,
   "id": "7a83ab47",
   "metadata": {},
   "outputs": [
    {
     "name": "stdout",
     "output_type": "stream",
     "text": [
      "liste1: [[99, 2], [3, 4]]\n",
      "liste2: [[99, 2], [3, 4]]\n"
     ]
    }
   ],
   "source": [
    "liste1 = [[1, 2], [3, 4]]\n",
    "liste2 = liste1\n",
    "\n",
    "liste2[0][0] = 99\n",
    "\n",
    "print(\"liste1:\", liste1)\n",
    "print(\"liste2:\", liste2)"
   ]
  },
  {
   "cell_type": "code",
   "execution_count": 129,
   "id": "68982644",
   "metadata": {},
   "outputs": [
    {
     "name": "stdout",
     "output_type": "stream",
     "text": [
      "liste1: [[99, 2], [3, 4]]\n",
      "liste2: [[99, 2], [3, 4]]\n"
     ]
    }
   ],
   "source": [
    "liste1 = [[1, 2], [3, 4]]\n",
    "liste2 = copy.copy(liste1)\n",
    "\n",
    "liste2[0][0] = 99\n",
    "\n",
    "print(\"liste1:\", liste1)\n",
    "print(\"liste2:\", liste2)"
   ]
  },
  {
   "cell_type": "code",
   "execution_count": 130,
   "id": "701e430d",
   "metadata": {},
   "outputs": [
    {
     "name": "stdout",
     "output_type": "stream",
     "text": [
      "liste1: [[1, 2], [3, 4]]\n",
      "liste2: [[99, 2], [3, 4]]\n"
     ]
    }
   ],
   "source": [
    "liste1 = [[1, 2], [3, 4]]\n",
    "liste2 = copy.deepcopy(liste1)\n",
    "\n",
    "liste2[0][0] = 99\n",
    "\n",
    "print(\"liste1:\", liste1)\n",
    "print(\"liste2:\", liste2)"
   ]
  }
 ],
 "metadata": {
  "kernelspec": {
   "display_name": ".venv (3.12.3)",
   "language": "python",
   "name": "python3"
  },
  "language_info": {
   "codemirror_mode": {
    "name": "ipython",
    "version": 3
   },
   "file_extension": ".py",
   "mimetype": "text/x-python",
   "name": "python",
   "nbconvert_exporter": "python",
   "pygments_lexer": "ipython3",
   "version": "3.12.3"
  }
 },
 "nbformat": 4,
 "nbformat_minor": 5
}
