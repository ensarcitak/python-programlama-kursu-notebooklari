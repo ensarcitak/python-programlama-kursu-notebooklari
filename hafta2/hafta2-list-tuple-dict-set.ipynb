{
 "cells": [
  {
   "cell_type": "markdown",
   "id": "155e716d",
   "metadata": {},
   "source": [
    "# Hacettepe Üniversitesi Yapay Zeka Topluluğu Python Programlama Kursu"
   ]
  },
  {
   "cell_type": "markdown",
   "id": "49684493",
   "metadata": {},
   "source": [
    "### Eğitmen: Ensar Çıtak"
   ]
  },
  {
   "cell_type": "markdown",
   "id": "ac7d6c8f",
   "metadata": {},
   "source": [
    "--------------"
   ]
  },
  {
   "cell_type": "markdown",
   "id": "4f04959f",
   "metadata": {},
   "source": [
    "# Hafta 2 — Liste, Tuple, Set, Dict, String İşlemleri"
   ]
  },
  {
   "cell_type": "markdown",
   "id": "c81e2096",
   "metadata": {},
   "source": [
    "# Listeler"
   ]
  },
  {
   "cell_type": "markdown",
   "id": "c5743ef4",
   "metadata": {},
   "source": [
    "Birden fazla veriyi içerisinde tutan yapılardır. [] ile tanımlanır.    \n",
    "Listelerin Özellikleri:\n",
    "1. **Sıralı yapılardır.**\n",
    "2. **Farklı veri tiplerinden oluşabilirler.**\n",
    "3. **Elemanları sonradan değiştirilebilir.** "
   ]
  },
  {
   "cell_type": "code",
   "execution_count": 1,
   "id": "2c8c6e20",
   "metadata": {},
   "outputs": [],
   "source": [
    "liste = [1,2,3] #Liste Tanımlama\n",
    "liste2 = [1, \"String\" , 5.67 , True] #Farklı veri tiplerini tutabilir."
   ]
  },
  {
   "cell_type": "code",
   "execution_count": 3,
   "id": "e647fc31",
   "metadata": {},
   "outputs": [
    {
     "name": "stdout",
     "output_type": "stream",
     "text": [
      "[1, 'String', 5.67, True]\n"
     ]
    }
   ],
   "source": [
    "print(liste2)"
   ]
  },
  {
   "cell_type": "markdown",
   "id": "7b2e0cdd",
   "metadata": {},
   "source": [
    "Index: Elemanların liste içerisindeki konumunu gösteren sıra numarasıdır.   \n",
    "\n",
    "Sıfırdan başlar.\n",
    "\n",
    "indexleme yapmak için liste ismini yazdıktan sonra [] içerisine ilgili index yazılarak elemanlara ulaşılabilir.\n",
    "\n",
    "Indexleme belirliği bir aralığı kapsayabilir [başlangıç değeri : bitiş değeri] şeklinde.    \n"
   ]
  },
  {
   "cell_type": "code",
   "execution_count": null,
   "id": "7302acca",
   "metadata": {},
   "outputs": [
    {
     "name": "stdout",
     "output_type": "stream",
     "text": [
      "Machine\n",
      "Learning\n",
      "Supervised\n"
     ]
    }
   ],
   "source": [
    "liste = [\"Machine\", \"Learning\", \"Supervised\" , \"Learning\"]\n",
    "print(liste[0]) \n",
    "print(liste[1]) "
   ]
  },
  {
   "cell_type": "code",
   "execution_count": 5,
   "id": "2ec276f7",
   "metadata": {},
   "outputs": [
    {
     "name": "stdout",
     "output_type": "stream",
     "text": [
      "Learning\n",
      "Supervised\n"
     ]
    }
   ],
   "source": [
    "print(liste[-1]) #tersten indexleme\n",
    "print(liste[-2]) #tersten indexleme"
   ]
  },
  {
   "cell_type": "code",
   "execution_count": null,
   "id": "99c7316d",
   "metadata": {},
   "outputs": [],
   "source": [
    "print(liste[4])"
   ]
  },
  {
   "cell_type": "code",
   "execution_count": null,
   "id": "5ac753d1",
   "metadata": {},
   "outputs": [
    {
     "name": "stdout",
     "output_type": "stream",
     "text": [
      "['Machine', 'Learning']\n",
      "['Supervised']\n",
      "['Machine', 'Supervised']\n",
      "['Learning', 'Supervised', 'Learning', 'Machine']\n"
     ]
    }
   ],
   "source": [
    "print(liste[0:2]) \n",
    "print(liste[2:3]) \n",
    "print(liste[0:3:2])"
   ]
  },
  {
   "cell_type": "markdown",
   "id": "eb296a76",
   "metadata": {
    "vscode": {
     "languageId": "plaintext"
    }
   },
   "source": [
    "Listeyi ters çevirme"
   ]
  },
  {
   "cell_type": "code",
   "execution_count": null,
   "id": "aa16afaa",
   "metadata": {},
   "outputs": [],
   "source": [
    "print(liste[::-1]) #Liste ters çevirme"
   ]
  },
  {
   "cell_type": "markdown",
   "id": "0c8e1083",
   "metadata": {},
   "source": [
    "Listeler üzerinde aritmetik operatörlerin bazıları kullanılabilir."
   ]
  },
  {
   "cell_type": "code",
   "execution_count": 9,
   "id": "555fbc10",
   "metadata": {},
   "outputs": [
    {
     "name": "stdout",
     "output_type": "stream",
     "text": [
      "['A', 'A', 'A']\n"
     ]
    }
   ],
   "source": [
    "print([\"A\"]*3)"
   ]
  },
  {
   "cell_type": "code",
   "execution_count": 11,
   "id": "f80c235a",
   "metadata": {},
   "outputs": [
    {
     "name": "stdout",
     "output_type": "stream",
     "text": [
      "['A', 'B', 'C', 'D']\n"
     ]
    }
   ],
   "source": [
    "liste = [\"A\",\"B\"]\n",
    "liste2 = [\"C\",\"D\"]\n",
    "print(liste+liste2)"
   ]
  },
  {
   "cell_type": "code",
   "execution_count": 47,
   "id": "4706cc6b",
   "metadata": {},
   "outputs": [
    {
     "name": "stdout",
     "output_type": "stream",
     "text": [
      "[1, 2, 3, 4, 5, 6]\n",
      "[1, 2, 10, 4, 5, 6]\n"
     ]
    }
   ],
   "source": [
    "liste = [1,2,3,4,5,6]\n",
    "print(liste)\n",
    "liste[2] = 10\n",
    "print(liste)"
   ]
  },
  {
   "cell_type": "code",
   "execution_count": 48,
   "id": "34bee75c",
   "metadata": {},
   "outputs": [
    {
     "name": "stdout",
     "output_type": "stream",
     "text": [
      "['Machine', 'Learning', 'Supervised', 'Learning']\n",
      "['Machine', 'Learning', 'Supervised', 'Algorithms']\n"
     ]
    }
   ],
   "source": [
    "liste = [\"Machine\", \"Learning\", \"Supervised\" , \"Learning\"]\n",
    "print(liste)\n",
    "liste[-1] = \"Algorithms\"\n",
    "print(liste)"
   ]
  },
  {
   "cell_type": "markdown",
   "id": "5cd21d86",
   "metadata": {},
   "source": [
    "# Liste Metotları"
   ]
  },
  {
   "cell_type": "markdown",
   "id": "25ed0e53",
   "metadata": {},
   "source": [
    "Liste metotlarının genel kullanılışı liste ismi l olmak üzere: **l.metot()** şeklindedir."
   ]
  },
  {
   "cell_type": "markdown",
   "id": "176a42a6",
   "metadata": {},
   "source": [
    "**append(x)** -> x elemanını listenin sonuna ekler.    "
   ]
  },
  {
   "cell_type": "code",
   "execution_count": 1,
   "id": "48c839d5",
   "metadata": {},
   "outputs": [],
   "source": [
    "liste = [\"A\",\"B\",\"C\",\"D\"]"
   ]
  },
  {
   "cell_type": "code",
   "execution_count": 2,
   "id": "97664e9d",
   "metadata": {},
   "outputs": [
    {
     "data": {
      "text/plain": [
       "['A', 'B', 'C', 'D']"
      ]
     },
     "execution_count": 2,
     "metadata": {},
     "output_type": "execute_result"
    }
   ],
   "source": [
    "liste"
   ]
  },
  {
   "cell_type": "code",
   "execution_count": 3,
   "id": "2f2214da",
   "metadata": {},
   "outputs": [
    {
     "name": "stdout",
     "output_type": "stream",
     "text": [
      "['A', 'B', 'C', 'D', 'E']\n"
     ]
    }
   ],
   "source": [
    "liste.append(\"E\") #En sona eleman olarak ekler\n",
    "print(liste)"
   ]
  },
  {
   "cell_type": "markdown",
   "id": "002d8dc0",
   "metadata": {},
   "source": [
    "**insert(i,x)** -> i. indexe x elemanını ekler. "
   ]
  },
  {
   "cell_type": "code",
   "execution_count": 4,
   "id": "81bf9c6a",
   "metadata": {},
   "outputs": [
    {
     "name": "stdout",
     "output_type": "stream",
     "text": [
      "['A', 'B', 'C', 'Ç', 'D', 'E']\n"
     ]
    }
   ],
   "source": [
    "liste.insert(3,\"Ç\")\n",
    "print(liste)"
   ]
  },
  {
   "cell_type": "markdown",
   "id": "c4f41b23",
   "metadata": {},
   "source": [
    "**extend(l)** -> l listesinin elemanlarını listenin sonuna ekler.   "
   ]
  },
  {
   "cell_type": "code",
   "execution_count": 5,
   "id": "72c5e1ba",
   "metadata": {},
   "outputs": [
    {
     "name": "stdout",
     "output_type": "stream",
     "text": [
      "['A', 'B', 'C', 'Ç', 'D', 'E', 'F', 'G', 'H']\n"
     ]
    }
   ],
   "source": [
    "liste2 = [\"F\",\"G\",\"H\"]\n",
    "liste.extend(liste2)\n",
    "print(liste)"
   ]
  },
  {
   "cell_type": "code",
   "execution_count": 6,
   "id": "d1180776",
   "metadata": {},
   "outputs": [
    {
     "name": "stdout",
     "output_type": "stream",
     "text": [
      "['A', 'B', 'C', 'D', ['E', 'F', 'G']]\n"
     ]
    }
   ],
   "source": [
    "liste3 = [\"A\",\"B\",\"C\",\"D\"]\n",
    "liste3.append([\"E\",\"F\",\"G\"]) #Listeyi tek bir eleman olarak ekler (extend her bir elemanı ayrı ayrı eklemişti.)\n",
    "print(liste3)"
   ]
  },
  {
   "cell_type": "markdown",
   "id": "3fe4caf2",
   "metadata": {},
   "source": [
    "**remove(x)** -> İlk eşleşen x değerini listeden siler.   "
   ]
  },
  {
   "cell_type": "code",
   "execution_count": 7,
   "id": "fb0594ed",
   "metadata": {},
   "outputs": [
    {
     "name": "stdout",
     "output_type": "stream",
     "text": [
      "['B', 'C', 'A']\n"
     ]
    }
   ],
   "source": [
    "liste = [\"A\",\"B\",\"C\",\"A\"]\n",
    "liste.remove(\"A\")\n",
    "print(liste) #Sadece ilk A'yı sildiği için diğer A kaldı."
   ]
  },
  {
   "cell_type": "code",
   "execution_count": null,
   "id": "d45d34ba",
   "metadata": {},
   "outputs": [],
   "source": [
    "liste = [\"A\",\"B\",\"C\",\"A\"]\n",
    "liste.remove(\"F\")"
   ]
  },
  {
   "cell_type": "markdown",
   "id": "06ab228c",
   "metadata": {},
   "source": [
    "**pop(i)** -> i. indexteki elemanı siler.   "
   ]
  },
  {
   "cell_type": "code",
   "execution_count": 8,
   "id": "9e80fdcd",
   "metadata": {},
   "outputs": [
    {
     "name": "stdout",
     "output_type": "stream",
     "text": [
      "[5, 8, 1, 9]\n"
     ]
    }
   ],
   "source": [
    "liste = [5,8,1,7,9]\n",
    "liste.pop(3)\n",
    "print(liste)"
   ]
  },
  {
   "cell_type": "code",
   "execution_count": null,
   "id": "cf9ef676",
   "metadata": {},
   "outputs": [],
   "source": [
    "liste = [5,8,1,7,9]\n",
    "liste.pop(50)"
   ]
  },
  {
   "cell_type": "markdown",
   "id": "fd42009c",
   "metadata": {},
   "source": [
    "**clear** -> listedeki bütün elemanları siler."
   ]
  },
  {
   "cell_type": "code",
   "execution_count": 9,
   "id": "bdb354a2",
   "metadata": {},
   "outputs": [
    {
     "name": "stdout",
     "output_type": "stream",
     "text": [
      "[]\n"
     ]
    }
   ],
   "source": [
    "liste = [\"A\",\"B\",\"C\"]\n",
    "liste.clear()\n",
    "print(liste)"
   ]
  },
  {
   "cell_type": "markdown",
   "id": "c61eaa8a",
   "metadata": {},
   "source": [
    "**index(x)** -> İlk karşılaştığı x elemanının indexini döndürür."
   ]
  },
  {
   "cell_type": "code",
   "execution_count": 15,
   "id": "53a6204f",
   "metadata": {},
   "outputs": [
    {
     "name": "stdout",
     "output_type": "stream",
     "text": [
      "1\n"
     ]
    }
   ],
   "source": [
    "liste = [\"A\",\"B\",\"C\",\"D\",\"B\"]\n",
    "print(liste.index(\"B\"))"
   ]
  },
  {
   "cell_type": "markdown",
   "id": "db0c3dc2",
   "metadata": {},
   "source": [
    "**count(x)** -> x elemanından kaç tane olduğunu sayar."
   ]
  },
  {
   "cell_type": "code",
   "execution_count": 17,
   "id": "c0d41f4d",
   "metadata": {},
   "outputs": [
    {
     "name": "stdout",
     "output_type": "stream",
     "text": [
      "2\n",
      "0\n"
     ]
    }
   ],
   "source": [
    "liste = [\"A\",\"B\",\"C\",\"D\",\"B\"]\n",
    "print(liste.count(\"B\"))\n",
    "print(liste.count(\"E\")) #Eleman yoksa 0 döner."
   ]
  },
  {
   "cell_type": "markdown",
   "id": "92d0b6ed",
   "metadata": {},
   "source": [
    "**sort** -> listeyi sıralar. Default: küçükten büyüğe"
   ]
  },
  {
   "cell_type": "code",
   "execution_count": 19,
   "id": "8202b266",
   "metadata": {},
   "outputs": [
    {
     "name": "stdout",
     "output_type": "stream",
     "text": [
      "['A', 'B', 'C', 'E', 'F', 'Z']\n",
      "[92, 8, 7, 5, 4, 3, 2, 1]\n"
     ]
    }
   ],
   "source": [
    "liste = [\"B\",\"C\",\"A\",\"E\",\"F\",\"Z\"]\n",
    "liste.sort() #Küçükten büyüğe sıralama\n",
    "print(liste)\n",
    "\n",
    "liste2 = [5,3,4,7,8,92,2,1]\n",
    "liste2.sort(reverse=True) #Büyükten küçüğe sıralama\n",
    "print(liste2)"
   ]
  },
  {
   "cell_type": "markdown",
   "id": "d256a1da",
   "metadata": {},
   "source": [
    "**reverse** -> Listeyi ters çevirir."
   ]
  },
  {
   "cell_type": "code",
   "execution_count": 20,
   "id": "255ae439",
   "metadata": {},
   "outputs": [
    {
     "name": "stdout",
     "output_type": "stream",
     "text": [
      "['Z', 'F', 'E', 'A', 'C', 'B']\n"
     ]
    }
   ],
   "source": [
    "liste = [\"B\",\"C\",\"A\",\"E\",\"F\",\"Z\"]\n",
    "liste.reverse()\n",
    "print(liste)"
   ]
  },
  {
   "cell_type": "markdown",
   "id": "c4347998",
   "metadata": {},
   "source": [
    "**copy** -> Bir listeyi başka bir listeye kopyalar."
   ]
  },
  {
   "cell_type": "code",
   "execution_count": 21,
   "id": "43de376a",
   "metadata": {},
   "outputs": [
    {
     "name": "stdout",
     "output_type": "stream",
     "text": [
      "['A', 'B', 'C']\n"
     ]
    }
   ],
   "source": [
    "liste = [\"A\",\"B\",\"C\"]\n",
    "liste2 = liste.copy()\n",
    "print(liste2)"
   ]
  },
  {
   "cell_type": "markdown",
   "id": "be02ac1b",
   "metadata": {},
   "source": [
    "# İç İçe Listeler"
   ]
  },
  {
   "cell_type": "markdown",
   "id": "84cc517b",
   "metadata": {},
   "source": [
    "Bir listenin içinde başka bir liste bulunması durumuna **nested list** denir. Python içerisinde iç içe sınırsız liste açabilirsiniz. (Ram izin verdiği müddetçe)     \n",
    "İç içe listelerde indexleme yapmak için en dıştaki listeden başlanıp ardışık indexleme yapılır."
   ]
  },
  {
   "cell_type": "code",
   "execution_count": 26,
   "id": "854d4f9e",
   "metadata": {},
   "outputs": [],
   "source": [
    "liste = [ [1,2,3] , [4,5,6] , [7,8,9] ]"
   ]
  },
  {
   "cell_type": "code",
   "execution_count": 28,
   "id": "591627dc",
   "metadata": {},
   "outputs": [
    {
     "name": "stdout",
     "output_type": "stream",
     "text": [
      "[1, 2, 3]\n",
      "[4, 5, 6]\n"
     ]
    }
   ],
   "source": [
    "print(liste[0])\n",
    "print(liste[1])"
   ]
  },
  {
   "cell_type": "code",
   "execution_count": 29,
   "id": "d320ea71",
   "metadata": {},
   "outputs": [
    {
     "name": "stdout",
     "output_type": "stream",
     "text": [
      "2\n"
     ]
    }
   ],
   "source": [
    "print(liste[0][1])"
   ]
  },
  {
   "cell_type": "code",
   "execution_count": 30,
   "id": "3f93edb1",
   "metadata": {},
   "outputs": [
    {
     "name": "stdout",
     "output_type": "stream",
     "text": [
      "9\n"
     ]
    }
   ],
   "source": [
    "print(liste[-1][-1])"
   ]
  },
  {
   "cell_type": "markdown",
   "id": "5e3ec378",
   "metadata": {},
   "source": [
    "# Tuple"
   ]
  },
  {
   "cell_type": "markdown",
   "id": "3cbfd7b3",
   "metadata": {},
   "source": [
    "Birden fazla veriyi saklayabilen yapıdır. () ile tanımlanır. Özellikleri:\n",
    "1. Sıralıdır.\n",
    "2. Değiştirilemez (Listelerden en önemli farkı)\n",
    "3. indexlenebilir.\n",
    "4. Tuple veriler listeye göre hafızada daha az yer kaplar ve daha hızlı çalışır. "
   ]
  },
  {
   "cell_type": "code",
   "execution_count": 31,
   "id": "16b57650",
   "metadata": {},
   "outputs": [],
   "source": [
    "t = (1,2,3) #tuple tanımlama\n",
    "t = (\"A\",5,3.14) #tuple tanımlama\n",
    "t = (5,) #Tek elemanlı ise , koyulmalı yoksa normal parantez gibi algılanır."
   ]
  },
  {
   "cell_type": "code",
   "execution_count": 36,
   "id": "cb445352",
   "metadata": {},
   "outputs": [],
   "source": [
    "t = ()"
   ]
  },
  {
   "cell_type": "code",
   "execution_count": 37,
   "id": "dc774653",
   "metadata": {},
   "outputs": [
    {
     "name": "stdout",
     "output_type": "stream",
     "text": [
      "<class 'tuple'>\n"
     ]
    }
   ],
   "source": [
    "print(type(t))"
   ]
  },
  {
   "cell_type": "code",
   "execution_count": 38,
   "id": "4172b242",
   "metadata": {},
   "outputs": [
    {
     "name": "stdout",
     "output_type": "stream",
     "text": [
      "A\n",
      "C\n",
      "E\n"
     ]
    }
   ],
   "source": [
    "t = (\"A\",\"B\",\"C\",\"D\",\"E\")\n",
    "print(t[0])\n",
    "print(t[2])\n",
    "print(t[-1])"
   ]
  },
  {
   "cell_type": "code",
   "execution_count": 40,
   "id": "69efa6f9",
   "metadata": {},
   "outputs": [
    {
     "name": "stdout",
     "output_type": "stream",
     "text": [
      "2\n",
      "3\n"
     ]
    }
   ],
   "source": [
    "t = (1, 2, 2, 3)\n",
    "print(t.count(2))  # 2\n",
    "print(t.index(3))  # 3 sayısının indeksi → 3"
   ]
  },
  {
   "cell_type": "code",
   "execution_count": 42,
   "id": "19e05200",
   "metadata": {},
   "outputs": [
    {
     "ename": "TypeError",
     "evalue": "'tuple' object does not support item assignment",
     "output_type": "error",
     "traceback": [
      "\u001b[31m---------------------------------------------------------------------------\u001b[39m",
      "\u001b[31mTypeError\u001b[39m                                 Traceback (most recent call last)",
      "\u001b[36mCell\u001b[39m\u001b[36m \u001b[39m\u001b[32mIn[42]\u001b[39m\u001b[32m, line 1\u001b[39m\n\u001b[32m----> \u001b[39m\u001b[32m1\u001b[39m \u001b[43mt\u001b[49m\u001b[43m[\u001b[49m\u001b[32;43m1\u001b[39;49m\u001b[43m]\u001b[49m = \u001b[32m5\u001b[39m\n",
      "\u001b[31mTypeError\u001b[39m: 'tuple' object does not support item assignment"
     ]
    }
   ],
   "source": [
    "t[1] = 5"
   ]
  },
  {
   "cell_type": "markdown",
   "id": "81e62e36",
   "metadata": {},
   "source": [
    "# Set"
   ]
  },
  {
   "cell_type": "markdown",
   "id": "cbdd54db",
   "metadata": {},
   "source": [
    "set, sırasız (unordered) ve tekrarsız (unique) elemanlardan oluşan bir koleksiyon veri tipidir. {} ile tanımlanır.\n",
    "\n",
    " Özellikleri:\n",
    "1. Sırası yoktur.\n",
    "2. tekrarsızdır (unique). Yani bir değer birden fazla kez geçemez.\n",
    "3. Yeni eleman eklenebilir veya silinebilir. (Mutable)\n",
    "4. Hashlenebilen farklı veri tiplerini bir arada tutar. (list,set,dict eleman olamaz.)"
   ]
  },
  {
   "cell_type": "code",
   "execution_count": 1,
   "id": "b2d46872",
   "metadata": {},
   "outputs": [],
   "source": [
    "s = {1, 2, 3} #Set tanımlama\n",
    "s = {\"A\",\"B\",\"C\"} #Set tanımlama"
   ]
  },
  {
   "cell_type": "code",
   "execution_count": 69,
   "id": "0a016d75",
   "metadata": {},
   "outputs": [
    {
     "name": "stdout",
     "output_type": "stream",
     "text": [
      "{1, 2}\n"
     ]
    }
   ],
   "source": [
    "s = {1, 2}\n",
    "s.add(2) #Sete eleman ekleme\n",
    "print(s)"
   ]
  },
  {
   "cell_type": "code",
   "execution_count": 58,
   "id": "b77aaa11",
   "metadata": {},
   "outputs": [
    {
     "name": "stdout",
     "output_type": "stream",
     "text": [
      "{1, 2, 4, 5, 6}\n"
     ]
    }
   ],
   "source": [
    "s = {1, 2}\n",
    "s.update((4,5,6)) #Sete yeni elemanlar ekleme\n",
    "print(s)"
   ]
  },
  {
   "cell_type": "code",
   "execution_count": null,
   "id": "3a5fd992",
   "metadata": {},
   "outputs": [],
   "source": [
    "s = {1, 2}\n",
    "s.remove(2) # Setten elemanı siler | Eleman yoksa hata verir\n",
    "print(s)\n",
    "s.remove(10)"
   ]
  },
  {
   "cell_type": "code",
   "execution_count": 60,
   "id": "3746dc0d",
   "metadata": {},
   "outputs": [
    {
     "name": "stdout",
     "output_type": "stream",
     "text": [
      "{1}\n"
     ]
    }
   ],
   "source": [
    "s = {1, 2}\n",
    "s.discard(2) # Setten elemanı siler | Eleman yoksa hata vermez\n",
    "s.discard(10)\n",
    "print(s)"
   ]
  },
  {
   "cell_type": "code",
   "execution_count": 65,
   "id": "ff8968b7",
   "metadata": {},
   "outputs": [
    {
     "name": "stdout",
     "output_type": "stream",
     "text": [
      "{2, 3, 4, 5, 6}\n"
     ]
    }
   ],
   "source": [
    "s = {1,2,3,4,5,6}\n",
    "s.pop() #Setten rastgele bir eleman siler\n",
    "print(s)"
   ]
  },
  {
   "cell_type": "code",
   "execution_count": 66,
   "id": "e6d4e5a2",
   "metadata": {},
   "outputs": [
    {
     "name": "stdout",
     "output_type": "stream",
     "text": [
      "set()\n"
     ]
    }
   ],
   "source": [
    "s = {1,2,3,4,5,6}\n",
    "s.clear() #Seti temizler\n",
    "print(s)"
   ]
  },
  {
   "cell_type": "markdown",
   "id": "5f060c02",
   "metadata": {},
   "source": [
    "# Dictionary"
   ]
  },
  {
   "cell_type": "markdown",
   "id": "89a5e69d",
   "metadata": {},
   "source": [
    "Python içerisinde dict'ler **key (anahtar) -> value (değer)** eşleşmesini tutar.        \n",
    "Key değeri unique (benzersiz) olmalıdır. Bir key birden fazla kez kullanılamaz. Eğer aynı key birden fazla yazılırsa en sonuncu geçerli olur.       \n",
    "Key _str, int, float, tuple, bool_ türlerinde olabilir. _list, dict_ olamaz. (Hashable)\n"
   ]
  },
  {
   "cell_type": "code",
   "execution_count": 5,
   "id": "e8d087f4",
   "metadata": {},
   "outputs": [
    {
     "name": "stdout",
     "output_type": "stream",
     "text": [
      "{'name': 'Lara Croft', 'age': 21, 'grades': [85, 90, 78]}\n",
      "[85, 90, 78]\n"
     ]
    }
   ],
   "source": [
    "student = {\n",
    "    \"name\": \"Lara Croft\",\n",
    "    \"age\": 21,\n",
    "    \"grades\": [85, 90, 78]\n",
    "}\n",
    "print(student)\n",
    "\n",
    "print(student[\"grades\"])"
   ]
  },
  {
   "cell_type": "code",
   "execution_count": 6,
   "id": "290f65f7",
   "metadata": {},
   "outputs": [
    {
     "name": "stdout",
     "output_type": "stream",
     "text": [
      "{'name': 'Peter Parker', 'age': 21, 'grades': [85, 90, 78]}\n"
     ]
    }
   ],
   "source": [
    "student = {\n",
    "    \"name\": \"Lara Croft\",\n",
    "    \"age\": 21,\n",
    "    \"grades\": [85, 90, 78],\n",
    "    \"name\": \"Peter Parker\"\n",
    "}\n",
    "print(student)"
   ]
  },
  {
   "cell_type": "markdown",
   "id": "837d7742",
   "metadata": {},
   "source": [
    "Dict içerisinde daha sonradan elemalar değiştirilebilir."
   ]
  },
  {
   "cell_type": "code",
   "execution_count": 7,
   "id": "ed22b2ab",
   "metadata": {},
   "outputs": [
    {
     "name": "stdout",
     "output_type": "stream",
     "text": [
      "{'name': 'Sancar Han', 'age': 21, 'grades': [85, 90, 78]}\n"
     ]
    }
   ],
   "source": [
    "student['name'] = \"Sancar Han\"\n",
    "print(student)"
   ]
  },
  {
   "cell_type": "code",
   "execution_count": 8,
   "id": "1659b83e",
   "metadata": {},
   "outputs": [
    {
     "name": "stdout",
     "output_type": "stream",
     "text": [
      "Sancar Han\n",
      "None\n"
     ]
    }
   ],
   "source": [
    "print(student.get(\"name\")) # ilgili key için value getirir.\n",
    "print(student.get(\"school\")) #Key yoksa None döner."
   ]
  },
  {
   "cell_type": "code",
   "execution_count": 10,
   "id": "83c02a77",
   "metadata": {},
   "outputs": [
    {
     "name": "stdout",
     "output_type": "stream",
     "text": [
      "dict_keys(['name', 'age', 'grades'])\n",
      "dict_values(['Sancar Han', 21, [85, 90, 78]])\n",
      "dict_items([('name', 'Sancar Han'), ('age', 21), ('grades', [85, 90, 78])])\n",
      "name\n"
     ]
    }
   ],
   "source": [
    "print(student.keys()) #Bütün key değerleri gelir. | indexleme yapılmaz listeye çevirilebilir.\n",
    "print(student.values()) #Bütün value değerleri gelir. | indexleme yapılmaz listeye çevirilebilir.\n",
    "print(student.items()) #Bütün key-value ikilileri gelir. | indexleme yapılmaz listeye çevirilebilir.\n",
    "\n",
    "print(list(student.keys())[0]) #Listeye çevir indexleme yap."
   ]
  },
  {
   "cell_type": "code",
   "execution_count": 12,
   "id": "845d7d34",
   "metadata": {},
   "outputs": [
    {
     "name": "stdout",
     "output_type": "stream",
     "text": [
      "{'name': 'Sancar Han', 'age': 40, 'grades': [85, 90, 78]}\n"
     ]
    }
   ],
   "source": [
    "student.update({\"age\": 40})     # Değer güncelleme\n",
    "print(student)                  # {'name': 'Ali', 'age': 22}"
   ]
  },
  {
   "cell_type": "code",
   "execution_count": 13,
   "id": "7df644f6",
   "metadata": {},
   "outputs": [
    {
     "name": "stdout",
     "output_type": "stream",
     "text": [
      "{'age': 40, 'grades': [85, 90, 78]}\n"
     ]
    }
   ],
   "source": [
    "student.pop(\"name\")             # 'name' anahtarını sil\n",
    "print(student)"
   ]
  },
  {
   "cell_type": "code",
   "execution_count": 14,
   "id": "43dc7af1",
   "metadata": {},
   "outputs": [
    {
     "name": "stdout",
     "output_type": "stream",
     "text": [
      "{}\n"
     ]
    }
   ],
   "source": [
    "student.clear()                 # Tüm elemanları sil\n",
    "print(student)"
   ]
  },
  {
   "cell_type": "markdown",
   "id": "c7d1fe1d",
   "metadata": {},
   "source": [
    "# String işlemleri"
   ]
  },
  {
   "cell_type": "markdown",
   "id": "ac648df5",
   "metadata": {},
   "source": [
    "üç farklı şekilde string tanımlanabilir."
   ]
  },
  {
   "cell_type": "code",
   "execution_count": 1,
   "id": "c2f46f4a",
   "metadata": {},
   "outputs": [],
   "source": [
    "s1 = \"Merhaba\"\n",
    "s2 = 'Python'\n",
    "s3 = \"\"\"Bu\n",
    "çok satırlı\n",
    "bir yazıdır.\"\"\""
   ]
  },
  {
   "cell_type": "markdown",
   "id": "2453b16b",
   "metadata": {},
   "source": [
    "\\+ ve * operatörü kullanılabilir"
   ]
  },
  {
   "cell_type": "code",
   "execution_count": 3,
   "id": "cafdbfa8",
   "metadata": {},
   "outputs": [
    {
     "name": "stdout",
     "output_type": "stream",
     "text": [
      "Merhaba Dünya\n",
      "HaHaHa\n"
     ]
    }
   ],
   "source": [
    "print(\"Merhaba\" + \" Dünya\")  # Birleştirme\n",
    "print(\"Ha\" * 3)             # Tekrar"
   ]
  },
  {
   "cell_type": "markdown",
   "id": "a6bd3362",
   "metadata": {},
   "source": [
    "Liste gibi indexleme yapılabilir. Her harf bir eleman gibi değerlendirilebilir."
   ]
  },
  {
   "cell_type": "code",
   "execution_count": 4,
   "id": "32e2add1",
   "metadata": {},
   "outputs": [
    {
     "name": "stdout",
     "output_type": "stream",
     "text": [
      "P\n",
      "n\n",
      "Pyt\n",
      "nohtyP\n"
     ]
    }
   ],
   "source": [
    "kelime = \"Python\"\n",
    "print(kelime[0])     # 'P'\n",
    "print(kelime[-1])    # 'n'\n",
    "print(kelime[0:3])   # 'Pyt'\n",
    "print(kelime[::-1])  # 'nohtyP' (ters çevirme)"
   ]
  },
  {
   "cell_type": "code",
   "execution_count": 6,
   "id": "7b4160be",
   "metadata": {},
   "outputs": [
    {
     "name": "stdout",
     "output_type": "stream",
     "text": [
      "MERHABA\n",
      "merhaba\n",
      "Merhaba Dünya\n",
      "Merhaba dünya\n"
     ]
    }
   ],
   "source": [
    "yazi = \"MerHaBa\"\n",
    "\n",
    "print(yazi.upper())     # 'MERHABA'\n",
    "\n",
    "print(yazi.lower())     # 'merhaba'\n",
    "\n",
    "yazi = \"MerHaBa dÜnYa\"\n",
    "\n",
    "print(yazi.title())\n",
    "\n",
    "print(yazi.capitalize())\n"
   ]
  },
  {
   "cell_type": "markdown",
   "id": "0dba12c6",
   "metadata": {},
   "source": [
    "**.isdecimal()** : Sadece ondalık sayı karakterleri (0-9)    \n",
    "**.isdigit()** : Ondalık ve diğer rakam karakterleri (üst simge vb.)    \n",
    "**.isnumeric()** : isdigit() + daha fazla sayısal karakter (Roma rakamları, kesirler vb.)"
   ]
  },
  {
   "cell_type": "code",
   "execution_count": 7,
   "id": "34ae78dc",
   "metadata": {},
   "outputs": [
    {
     "name": "stdout",
     "output_type": "stream",
     "text": [
      "True\n",
      "False\n",
      "False\n"
     ]
    }
   ],
   "source": [
    "s1 = \"12345\"\n",
    "print(s1.isdecimal()) #Tüm karakterler rakamsa True döner.\n",
    "\n",
    "s2 = \"123abc\"\n",
    "print(s2.isdecimal())\n",
    "\n",
    "s3 = \"²³\"\n",
    "print(s3.isdecimal())"
   ]
  },
  {
   "cell_type": "code",
   "execution_count": 9,
   "id": "c9e1b987",
   "metadata": {},
   "outputs": [
    {
     "name": "stdout",
     "output_type": "stream",
     "text": [
      "True\n",
      "False\n",
      "True\n"
     ]
    }
   ],
   "source": [
    "s1 = \"12345\"\n",
    "print(s1.isdigit())\n",
    "\n",
    "s2 = \"123abc\"\n",
    "print(s2.isdigit())\n",
    "\n",
    "s3 = \"²³\"\n",
    "print(s3.isdigit())"
   ]
  },
  {
   "cell_type": "code",
   "execution_count": 10,
   "id": "b60d2da3",
   "metadata": {},
   "outputs": [
    {
     "name": "stdout",
     "output_type": "stream",
     "text": [
      "True\n",
      "False\n",
      "True\n"
     ]
    }
   ],
   "source": [
    "s1 = \"12345\"\n",
    "print(s1.isnumeric())\n",
    "\n",
    "s2 = \"123abc\"\n",
    "print(s2.isnumeric())\n",
    "\n",
    "s3 = \"²³\"\n",
    "print(s3.isnumeric())"
   ]
  },
  {
   "cell_type": "code",
   "execution_count": 16,
   "id": "b948a6f9",
   "metadata": {},
   "outputs": [
    {
     "name": "stdout",
     "output_type": "stream",
     "text": [
      "7\n",
      "7\n",
      "3\n"
     ]
    }
   ],
   "source": [
    "metin = \"python programlama\"\n",
    "print(metin.find(\"pro\"))   # parametreyi bulduğu ilk indexi döndürür | 7 (bulamazsa -1 döner)\n",
    "print(metin.index(\"pro\"))  # parametreyi bulduğu ilk indexi döndürür | 7 (bulamazsa hata verir)\n",
    "print(metin.count(\"a\"))    # parametrenin kaç kere geçtiğini sayar | 3"
   ]
  },
  {
   "cell_type": "code",
   "execution_count": 19,
   "id": "623e8d4e",
   "metadata": {},
   "outputs": [
    {
     "name": "stdout",
     "output_type": "stream",
     "text": [
      "java öğreniyorum.\n"
     ]
    }
   ],
   "source": [
    "metin = \"python öğreniyorum.\"\n",
    "print(metin.replace(\"python\", \"java\"))"
   ]
  },
  {
   "cell_type": "code",
   "execution_count": null,
   "id": "62c9e9ab",
   "metadata": {},
   "outputs": [
    {
     "name": "stdout",
     "output_type": "stream",
     "text": [
      "['elma', 'armut', 'çilek']\n",
      "elma*********armut*********çilek\n"
     ]
    }
   ],
   "source": [
    "metin = \"elma,armut,çilek\"\n",
    "liste = metin.split(\",\")        # ['elma', 'armut', 'çilek']\n",
    "print(liste)\n",
    "metin_tekrar = \"-\".join(liste)  # 'elma-armut-çilek'\n",
    "print(metin_tekrar)"
   ]
  },
  {
   "cell_type": "code",
   "execution_count": 31,
   "id": "914d8eaf",
   "metadata": {},
   "outputs": [
    {
     "name": "stdout",
     "output_type": "stream",
     "text": [
      "Merhaba\n",
      "Merhaba  \n",
      "  Merhaba\n"
     ]
    }
   ],
   "source": [
    "print(\"  Merhaba  \\n\".strip())   # 'Merhaba'\n",
    "print(\"  Merhaba  \".lstrip())  # 'Merhaba  '\n",
    "print(\"  Merhaba  \".rstrip())  # '  Merhaba'"
   ]
  },
  {
   "cell_type": "markdown",
   "id": "17ed696b",
   "metadata": {},
   "source": [
    "## String formatlama"
   ]
  },
  {
   "cell_type": "code",
   "execution_count": 1,
   "id": "0182adbb",
   "metadata": {},
   "outputs": [],
   "source": [
    "isim = \"Gordon Freeman\"\n",
    "yas = 25"
   ]
  },
  {
   "cell_type": "code",
   "execution_count": 4,
   "id": "b4f3ea39",
   "metadata": {},
   "outputs": [],
   "source": [
    "a = f\"Merhaba {isim}, {yas} yaşındasın.\""
   ]
  },
  {
   "cell_type": "code",
   "execution_count": null,
   "id": "9cd0812b",
   "metadata": {},
   "outputs": [
    {
     "name": "stdout",
     "output_type": "stream",
     "text": [
      "Merhaba Gordon Freeman, 25 yaşındasın.\n"
     ]
    }
   ],
   "source": [
    "print(f\"Merhaba {isim}, {yas} yaşındasın.\")"
   ]
  },
  {
   "cell_type": "code",
   "execution_count": 6,
   "id": "af730051",
   "metadata": {},
   "outputs": [
    {
     "name": "stdout",
     "output_type": "stream",
     "text": [
      "Merhaba Gordon Freeman, 25 yaşındasın.\n"
     ]
    }
   ],
   "source": [
    "print(\"Merhaba {}, {} yaşındasın.\".format(isim, yas))"
   ]
  },
  {
   "cell_type": "code",
   "execution_count": 7,
   "id": "dc0343ac",
   "metadata": {},
   "outputs": [
    {
     "name": "stdout",
     "output_type": "stream",
     "text": [
      "Birinci Satır\n",
      "İkinci Satır\n"
     ]
    }
   ],
   "source": [
    "print(\"Birinci Satır\\nİkinci Satır\")"
   ]
  },
  {
   "cell_type": "code",
   "execution_count": 8,
   "id": "befe0e21",
   "metadata": {},
   "outputs": [
    {
     "name": "stdout",
     "output_type": "stream",
     "text": [
      "Tabdan öncesi\tTabdan Sonrası\n"
     ]
    }
   ],
   "source": [
    "print(\"Tabdan öncesi\\tTabdan Sonrası\")"
   ]
  },
  {
   "cell_type": "code",
   "execution_count": 13,
   "id": "cbbd97cd",
   "metadata": {},
   "outputs": [
    {
     "name": "stdout",
     "output_type": "stream",
     "text": [
      "Metin içine özel \" \\ karakterlerini koyuyorum\n"
     ]
    }
   ],
   "source": [
    "print(\"Metin içine özel \\\" \\\\ karakterlerini koyuyorum\")"
   ]
  },
  {
   "cell_type": "markdown",
   "id": "8b6b1455",
   "metadata": {},
   "source": [
    "print otomatik olarak en sona \\\\n escape characterini koyar. Bunu **end** parametresi ile değiştirebilirsiniz."
   ]
  },
  {
   "cell_type": "code",
   "execution_count": 14,
   "id": "53e05ba6",
   "metadata": {},
   "outputs": [
    {
     "name": "stdout",
     "output_type": "stream",
     "text": [
      "Hello\n",
      "World\n"
     ]
    }
   ],
   "source": [
    "print(\"Hello\")\n",
    "print(\"World\")"
   ]
  },
  {
   "cell_type": "code",
   "execution_count": 15,
   "id": "3d8a6af3",
   "metadata": {},
   "outputs": [
    {
     "name": "stdout",
     "output_type": "stream",
     "text": [
      "Hello---World\n"
     ]
    }
   ],
   "source": [
    "print(\"Hello\",end=\"---\")\n",
    "print(\"World\")"
   ]
  }
 ],
 "metadata": {
  "kernelspec": {
   "display_name": ".venv (3.12.3)",
   "language": "python",
   "name": "python3"
  },
  "language_info": {
   "codemirror_mode": {
    "name": "ipython",
    "version": 3
   },
   "file_extension": ".py",
   "mimetype": "text/x-python",
   "name": "python",
   "nbconvert_exporter": "python",
   "pygments_lexer": "ipython3",
   "version": "3.12.3"
  }
 },
 "nbformat": 4,
 "nbformat_minor": 5
}
