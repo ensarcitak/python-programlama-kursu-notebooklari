{
 "cells": [
  {
   "cell_type": "markdown",
   "id": "d9003438-c03f-4aa1-b664-9d0dfd933cdf",
   "metadata": {},
   "source": [
    "# Hacettepe Üniversitesi Yapay Zeka Topluluğu Python Programlama Kursu"
   ]
  },
  {
   "cell_type": "markdown",
   "id": "5badc23b-b7d5-40be-a102-6e34af1f12d8",
   "metadata": {},
   "source": [
    "### Eğitmen: Ensar Çıtak"
   ]
  },
  {
   "cell_type": "markdown",
   "id": "66bc2f11-0118-4cf6-9ccc-b6ea8832c160",
   "metadata": {},
   "source": [
    "------------------"
   ]
  },
  {
   "cell_type": "markdown",
   "id": "8e06d58d-4a16-403d-9629-204d0836dca3",
   "metadata": {},
   "source": [
    "# Hafta 1 — Syntax ve Temel Kurallar"
   ]
  },
  {
   "cell_type": "markdown",
   "id": "5da881bb-10d4-4af0-b489-64a8b9e82602",
   "metadata": {},
   "source": [
    "Syntax kelimesi yerine alfabe diyebiliriz.\n",
    "\n",
    "Bu notebookta yalnızca **temel sözdizimi kuralları** ile ilgili örnekler ve alıştırmalar içerir. Karışıklığı önlemek için, henüz öğrenilmemiş yapılar (koşullar/döngüler/fonksiyonlar vb.) gösterilmeyecektir."
   ]
  },
  {
   "cell_type": "markdown",
   "id": "6bca81ce-f21f-4547-aba5-d18175bec457",
   "metadata": {},
   "source": [
    "---------------------"
   ]
  },
  {
   "cell_type": "markdown",
   "id": "7994066a-b55e-4068-aacc-4afed6b1792b",
   "metadata": {},
   "source": [
    "## Print Fonksiyonu\n",
    "\n",
    "\n",
    "**print()** fonksiyonu belirtilen mesajı ekrana görüntüler. "
   ]
  },
  {
   "cell_type": "code",
   "execution_count": null,
   "id": "d09f854a-a29f-456e-8b42-f8b060cbe0cc",
   "metadata": {},
   "outputs": [],
   "source": [
    "print(\"Merhaba Hacettepe!\")\n",
    "print(1)\n",
    "print(\"nasılsınız\", \"arkadaşlar\", \"?\")\n",
    "print(\"boşluk\", \"karakteri\", \"varsayılan\", \"separatordür\", sep=\"-\")"
   ]
  },
  {
   "cell_type": "markdown",
   "id": "a4153a55-799c-4a25-a162-9c4e5f9625b6",
   "metadata": {},
   "source": [
    "## Input Fonksiyonu"
   ]
  },
  {
   "cell_type": "markdown",
   "id": "0c9965b5-e882-4ab0-ae88-660d4e816d79",
   "metadata": {},
   "source": [
    "**input()** fonksiyonu kullanıcıdan girdi almak için kullanılır.\n",
    "\n",
    "**Her zaman girdileri string olarak kabul eder.**"
   ]
  },
  {
   "cell_type": "code",
   "execution_count": null,
   "id": "d386f55c-8663-42ea-9fca-1fec65a08792",
   "metadata": {},
   "outputs": [],
   "source": [
    "first_input = input()"
   ]
  },
  {
   "cell_type": "code",
   "execution_count": null,
   "id": "55459319-9944-4865-ab72-8830754ca33a",
   "metadata": {},
   "outputs": [],
   "source": [
    "print(first_input)"
   ]
  },
  {
   "cell_type": "markdown",
   "id": "f77a3b05",
   "metadata": {},
   "source": [
    "## Değişkenler \n",
    "\n",
    "## <span style=\"color:red\"> Matematikteki = işareti ile yazılımdaki = aynı değildir.</span>\n",
    "\n",
    "Değişkenler bir değerin saklandığı yapılardır.\n",
    "\n",
    "Değeri sürekli değişebilir.\n",
    "\n",
    "Değişkene değer ataması sağdan sola yapılır.\n",
    "\n",
    "Değişken sadece bir değer olmak zorunda değildir, başka bir değişken de olabilir."
   ]
  },
  {
   "cell_type": "code",
   "execution_count": null,
   "id": "6c57d83b",
   "metadata": {},
   "outputs": [],
   "source": [
    "isim = \"Ensar\"\n",
    "print(\"isim\")\n",
    "\n",
    "isim2 = \"Ahmet\"\n",
    "print(isim2)\n",
    "\n",
    "isim = isim2\n",
    "print(isim)"
   ]
  },
  {
   "cell_type": "code",
   "execution_count": null,
   "id": "b5119ce6",
   "metadata": {},
   "outputs": [],
   "source": [
    "x = 4       # sayı değişken\n",
    "x = \"Sally\" # yazı değişken\n",
    "print(x)"
   ]
  },
  {
   "cell_type": "markdown",
   "id": "e74c54e1",
   "metadata": {},
   "source": [
    "Değişken isimleri case-sensitive dir."
   ]
  },
  {
   "cell_type": "code",
   "execution_count": null,
   "id": "5166ac87",
   "metadata": {},
   "outputs": [],
   "source": [
    "a = 4\n",
    "A = \"Sally\"\n",
    "print(a, A)"
   ]
  },
  {
   "cell_type": "markdown",
   "id": "1c0b0576",
   "metadata": {},
   "source": [
    "### Python'da Değişken İsimlendirme Kuralları\n",
    "\n",
    "    Bir değişken ismi sayıyla başlayamaz, harfle veya alt çizgi ile başlamalıdır.\n",
    "    \n",
    "    Yalnızca alfanümerik karakterler ve alt çizgi içerebilir: (A-z, 0-9, and _ )\n"
   ]
  },
  {
   "cell_type": "code",
   "execution_count": null,
   "id": "2ba0275f",
   "metadata": {},
   "outputs": [],
   "source": [
    "2myvar = \"John\"\n",
    "my-var = \"John\"\n",
    "my var = \"John\""
   ]
  },
  {
   "cell_type": "markdown",
   "id": "f23ca8b6",
   "metadata": {},
   "source": [
    "### Camel Case\n",
    "\n",
    "İlk kelime dışında her kelimenin ilk harfi büyüktür."
   ]
  },
  {
   "cell_type": "code",
   "execution_count": null,
   "id": "b75cc2fb",
   "metadata": {},
   "outputs": [],
   "source": [
    "myVariableName = \"John\""
   ]
  },
  {
   "cell_type": "markdown",
   "id": "09da87a4",
   "metadata": {},
   "source": [
    "### Pascal Case\n",
    "\n",
    "Her kelime büyük harfle başlar."
   ]
  },
  {
   "cell_type": "code",
   "execution_count": null,
   "id": "f3e61736",
   "metadata": {},
   "outputs": [],
   "source": [
    "MyVariableName = \"John\" "
   ]
  },
  {
   "cell_type": "markdown",
   "id": "9dbed5bf",
   "metadata": {},
   "source": [
    "### Snake Case\n",
    "\n",
    "Her harf küçük ama kelimeler alt çizgi ile ayrılır.\n"
   ]
  },
  {
   "cell_type": "code",
   "execution_count": null,
   "id": "4e4f4890",
   "metadata": {},
   "outputs": [],
   "source": [
    "my_variable_name = \"John\" "
   ]
  },
  {
   "cell_type": "markdown",
   "id": "3ee42e6a",
   "metadata": {},
   "source": [
    "Bir değişken ismi **Python keyword**'lerinden biri olamaz."
   ]
  },
  {
   "cell_type": "markdown",
   "id": "277af45b",
   "metadata": {},
   "source": [
    "## Keyword'ler\n",
    "\n",
    "Python'da anahtar kelimeler, özel anlamları olan ve dil sözdiziminde belirli amaçlara hizmet eden **ayrılmış** kelimelerdir. "
   ]
  },
  {
   "cell_type": "code",
   "execution_count": null,
   "id": "4335e909",
   "metadata": {},
   "outputs": [],
   "source": [
    "False       await       else       import       pass  \n",
    "None        break       except     in           raise \n",
    "True        class       finally    is           return\n",
    "and         continue    for        lambda       try  \n",
    "as          def         from       nonlocal     while\n",
    "assert      del         global     not          with  \n",
    "async       elif        if         or           yield\n"
   ]
  },
  {
   "cell_type": "markdown",
   "id": "90f80c7a-c6fa-4c51-9299-93bf5458eab4",
   "metadata": {},
   "source": [
    "## Python'da Girintileme\n",
    "\n",
    "Kod satırının başında boşluk (boşluklar veya sekmeler) kullanımını ifade eder. Kod bloklarını tanımlamak için kullanılır. \n",
    "\n",
    "Python'da girinti **çok önemlidir** çünkü blokları tanımlamak için “{}” parantezleri kullanan diğer birçok programlama dilinden farklı olarak Python girinti kullanır. \n",
    "\n",
    "Bu, Python kodunun okunabilirliğini artırır, ancak diğer yandan girinti hataları ile uğraştırır. **Fazladan bir boşluk veya eksik bir boşluk bile girinti hatasına yol açabilir.**"
   ]
  },
  {
   "cell_type": "code",
   "execution_count": null,
   "id": "87d028ad-28ca-47ca-9991-5d2fdf7a5338",
   "metadata": {},
   "outputs": [],
   "source": [
    "if 10 > 5:\n",
    "    print(\"Bu doğru\")\n",
    "    print(\"1 tab girinti\")\n",
    "\n",
    "print(\"girinti yok\")"
   ]
  },
  {
   "cell_type": "code",
   "execution_count": null,
   "id": "86ad5463-fefa-4348-8bb5-4d12bf81fde5",
   "metadata": {},
   "outputs": [],
   "source": [
    " print(\"Bu kullanım hata alır\")"
   ]
  },
  {
   "cell_type": "markdown",
   "id": "dfb7d57b-4c73-4bdd-b1c3-d66c242baf8a",
   "metadata": {},
   "source": [
    "----------------------------------------------------------------------------------"
   ]
  },
  {
   "cell_type": "markdown",
   "id": "89d23cbb-2d1f-4a47-af30-5a6c66fd0aef",
   "metadata": {},
   "source": [
    "## Yorum Satırı\n",
    "\n",
    "Python programcılara yorum yazma olanağı sunar. \n",
    "\n",
    "\n",
    "## Tek Satır Yorum\n",
    "\n",
    "Tek satırlık yorumların başında “#” sembolü bulunur. Aynı satırda bu sembolün ardından gelen her şey yorum olarak kabul edilir."
   ]
  },
  {
   "cell_type": "code",
   "execution_count": null,
   "id": "a1ac3166-2193-42df-bfe6-b0e40de25142",
   "metadata": {},
   "outputs": [],
   "source": [
    "first_name = \"Reddy\"\n",
    "last_name = \"Anna\"  # soyadı ataması\n",
    "\n",
    "# tüm adı yazdır\n",
    "print(first_name, last_name)"
   ]
  },
  {
   "cell_type": "markdown",
   "id": "c87a7349-0988-47fd-bb17-518bb0d1d218",
   "metadata": {},
   "source": [
    "## Çoklu Satır Yorum\n",
    "\n",
    "Python'da çok satırlı yorumlar için özel bir sözdizimi yoktur.\n",
    "\n",
    "Ancak, programcılar genellikle arka arkaya birden fazla tek satırlı yorum kullanır veya bazen üçlü tırnak işaretleri **(‘’' veya “”\")** kullanır, ancak bunlar teknik olarak dize sabitleridir. Aşağıda çok satırlı yorum örneği verilmiştir."
   ]
  },
  {
   "cell_type": "code",
   "execution_count": null,
   "id": "030d04df-5af7-4ee9-94de-043a0f830e41",
   "metadata": {},
   "outputs": [],
   "source": [
    "'''\n",
    "Çoklu satır yorum.\n",
    "bu da 2. satır\n",
    "'''\n",
    "\n",
    "f_name = \"Ali\"\n",
    "print(f_name)"
   ]
  },
  {
   "cell_type": "markdown",
   "id": "322b2ff5-ced1-4329-95b1-72986bc5139d",
   "metadata": {},
   "source": [
    "### \\ Kullanımı "
   ]
  },
  {
   "cell_type": "code",
   "execution_count": null,
   "id": "c91f7883-e50f-4423-ac77-3508acf01fb2",
   "metadata": {},
   "outputs": [],
   "source": [
    "sentence = \"This is a very long sentence that we want to \" \\\n",
    "           \"split over multiple lines for better readability.\"\n",
    "\n",
    "print(sentence)\n",
    "\n",
    "# For mathematical operations\n",
    "total = 1 + 2 + 3 + \\\n",
    "        4 + 5 + 6 + \\\n",
    "        7 + 8 + 9\n",
    "\n",
    "print(total)"
   ]
  },
  {
   "cell_type": "markdown",
   "id": "627e5ac1-9f2f-47b5-b219-474a985eeec2",
   "metadata": {},
   "source": [
    "-----"
   ]
  },
  {
   "cell_type": "markdown",
   "id": "3a566a77-197d-4675-837c-92dedc89b039",
   "metadata": {},
   "source": [
    "## Python Basit Veri Tipleri"
   ]
  },
  {
   "cell_type": "markdown",
   "id": "6ac87947",
   "metadata": {},
   "source": [
    "type fonksiyonu bir değişkenin hangi tipte olduğunu gösterir."
   ]
  },
  {
   "cell_type": "markdown",
   "id": "eac8797c-8582-461a-a969-c0b21d29652e",
   "metadata": {},
   "source": [
    "### Integer\n",
    "\n",
    "\n",
    "Int, ya da integer, **sonsuz uzunlukta**, **ondalık basamağı olmayan**, pozitif veya negatif bir tam sayıdır."
   ]
  },
  {
   "cell_type": "code",
   "execution_count": null,
   "id": "63af1dad-a085-4a30-b0fd-b7af33d17e00",
   "metadata": {},
   "outputs": [],
   "source": [
    "x = 1\n",
    "y = 35656222554887711\n",
    "z = -3255522\n",
    "\n",
    "print(type(x))\n",
    "print(type(y))\n",
    "print(type(z)) "
   ]
  },
  {
   "cell_type": "markdown",
   "id": "e0bce1a1-9780-4c3d-8533-9b88282df882",
   "metadata": {},
   "source": [
    "### Float\n",
    "\n",
    "Float bir veya daha fazla ondalık basamak içeren, pozitif veya negatif sayılardır."
   ]
  },
  {
   "cell_type": "code",
   "execution_count": null,
   "id": "5ba8bc8c-1a81-4d09-baf9-aa5a3aa5db1d",
   "metadata": {},
   "outputs": [],
   "source": [
    "x = 1.10\n",
    "y = 1.0\n",
    "z = -35.59\n",
    "\n",
    "print(type(x))\n",
    "print(type(y))\n",
    "print(type(z)) "
   ]
  },
  {
   "cell_type": "markdown",
   "id": "849e1198-b021-4eb8-a325-79190f453240",
   "metadata": {},
   "source": [
    "### String\n",
    "\n",
    "Kısaca **metin verisi.**\n",
    "Tek tırnak veya çift tırnak arasında olabilir."
   ]
  },
  {
   "cell_type": "code",
   "execution_count": null,
   "id": "76e2b617-fdb6-414e-a5b2-5e76187c9645",
   "metadata": {},
   "outputs": [],
   "source": [
    "name = \"Ali\"\n",
    "occupation = 'Engineer'\n",
    "greetings = \"Hello Hacettepe!\"\n",
    "\n",
    "empty = \"\""
   ]
  },
  {
   "cell_type": "markdown",
   "id": "53cf6f05-c602-4ab8-94f8-001005635112",
   "metadata": {},
   "source": [
    "### İç içe tırnaklar\n",
    "\n",
    "Stringi çevreleyen tırnak işaretleriyle eşleşmedikleri sürece, dizgi içinde tırnak işaretleri kullanabilirsiniz."
   ]
  },
  {
   "cell_type": "code",
   "execution_count": null,
   "id": "bc7b40ba-08e9-41d0-9cba-3a89a6e15e1f",
   "metadata": {},
   "outputs": [],
   "source": [
    "print(\"It's alright\")\n",
    "print(\"He is called 'Johnny'\")\n",
    "print('He is called \"Johnny\"')"
   ]
  },
  {
   "cell_type": "markdown",
   "id": "431e4023-3348-4528-b6b6-6503a2d55667",
   "metadata": {},
   "source": [
    "### Çok satırlı String\n",
    "\n",
    "3 çift veya tek tırnak ile yapılır."
   ]
  },
  {
   "cell_type": "code",
   "execution_count": null,
   "id": "b6d10ff5-70e9-41b5-9040-2630ba104d43",
   "metadata": {},
   "outputs": [],
   "source": [
    "a = \"\"\"Lorem ipsum dolor sit amet,\n",
    "consectetur adipiscing elit,\n",
    "sed do eiusmod tempor incididunt\n",
    "ut labore et dolore magna aliqua.\"\"\"\n",
    "print(a) "
   ]
  },
  {
   "cell_type": "markdown",
   "id": "7005e99d-199b-4190-85e1-3b764be9dced",
   "metadata": {},
   "source": [
    "**Karakter dizileri birleştirilebilir ve çoğaltılabilir**"
   ]
  },
  {
   "cell_type": "code",
   "execution_count": null,
   "id": "789e01c2-60dc-460e-a4cb-b7f4ed2e574c",
   "metadata": {},
   "outputs": [],
   "source": [
    "\"Ali\" + \" Veli\"   # \"Ali Veli\"\n",
    "\"ha\" * 3          # \"hahaha\""
   ]
  },
  {
   "cell_type": "markdown",
   "id": "bb74a34e-ed42-4c8a-bae2-9fd7c8d78c3e",
   "metadata": {},
   "source": [
    "## <span style=\"color:red\"> Not: Python'da stringler çok ayrıntılı bir konudur. Bu nedenle, daha sonra daha ayrıntılı bir bölümde ele alınacaktır.</span>"
   ]
  },
  {
   "cell_type": "markdown",
   "id": "b13f5de7-f40c-4537-a5c9-5e7bcbcdd682",
   "metadata": {},
   "source": [
    "## Booleanlar\n",
    "\n",
    "Mantıksal verileri ifade etmek için kullanılır."
   ]
  },
  {
   "cell_type": "code",
   "execution_count": null,
   "id": "aa1c06d0-1ef3-4607-847a-a4195d86e5f8",
   "metadata": {},
   "outputs": [],
   "source": [
    "a = True\n",
    "b = False\n",
    "print(a, b)\n",
    "print(type(a))\n",
    "print(type(b))"
   ]
  },
  {
   "cell_type": "markdown",
   "id": "dad275df-4244-407e-b1e1-657c0904aa2c",
   "metadata": {},
   "source": [
    "Programlamada genellikle bir değerin True ya da False olduğunu bilmek isteriz.\n",
    "\n",
    "Python'da **herhangi bir ifadeyi değerlendirebilir** ve iki cevaptan birini (Doğru veya Yanlış) alabilirsiniz."
   ]
  },
  {
   "cell_type": "code",
   "execution_count": null,
   "id": "0c5b316d-f60e-4b4d-8a5c-2f31425a8cb8",
   "metadata": {},
   "outputs": [],
   "source": [
    "print(10 > 9)\n",
    "print(10 == 9)\n",
    "print(10 < 9) "
   ]
  },
  {
   "cell_type": "markdown",
   "id": "cdae13ed",
   "metadata": {},
   "source": [
    "**0 dışında her sayı True döner.**\n",
    "\n",
    "**Boş string dışında her string True döner.**"
   ]
  },
  {
   "cell_type": "markdown",
   "id": "8c602c7e-fa31-4d8f-b700-19f3585abb8c",
   "metadata": {},
   "source": [
    "## None\n",
    "\n",
    "None bir değişkenin var ama yok olduğunu gösterir."
   ]
  },
  {
   "cell_type": "code",
   "execution_count": null,
   "id": "f128a27e-5216-49d5-b0a1-f9300f313f88",
   "metadata": {},
   "outputs": [],
   "source": [
    "x = None\n",
    "print(x)\n",
    "print(type(x))"
   ]
  },
  {
   "cell_type": "markdown",
   "id": "4e561b1d-82ef-465a-bd5f-86e24c3cc668",
   "metadata": {},
   "source": [
    "💡 Ne zaman kullanıyoruz?\n",
    "\n",
    "Sadece bir örnek olarak bir değişkene başlangıçta bir değer atamayıp sonrasında atayacaksak mesela."
   ]
  },
  {
   "cell_type": "code",
   "execution_count": null,
   "id": "06f7f306-3f10-4b7d-8e3f-1b4ccc8c40a9",
   "metadata": {},
   "outputs": [],
   "source": [
    "data = None\n",
    "# Later we can assign a real value\n",
    "data = \"Hello\""
   ]
  },
  {
   "cell_type": "markdown",
   "id": "b60c4d38-9e56-4167-a620-96ded884c588",
   "metadata": {},
   "source": [
    "----"
   ]
  },
  {
   "cell_type": "markdown",
   "id": "61b0c18b-08c8-4bd7-a38d-1e72bf105573",
   "metadata": {},
   "source": [
    "# Python Casting"
   ]
  },
  {
   "cell_type": "markdown",
   "id": "3ec1d2ba-e324-44fe-a147-42ed41c22c83",
   "metadata": {},
   "source": [
    "Bazen bir değişkene bir tür belirtmek isteyebilirsiniz. Bu, casting ile yapılabilir. \n",
    "\n",
    "    int()\n",
    "    float() \n",
    "    str()\n",
    "    bool()\n"
   ]
  },
  {
   "cell_type": "code",
   "execution_count": null,
   "id": "aa08f294-cec8-4406-ad65-e0656369932c",
   "metadata": {},
   "outputs": [],
   "source": [
    "x = int(1)   \n",
    "y = int(2.8)\n",
    "z = int(\"3\")"
   ]
  },
  {
   "cell_type": "code",
   "execution_count": null,
   "id": "9f85efe4-eca4-4aa8-a680-a5f01e9ad2c4",
   "metadata": {},
   "outputs": [],
   "source": [
    "x = float(1)   \n",
    "y = float(2.8)  \n",
    "z = float(\"3\") \n",
    "w = float(\"4.2\")"
   ]
  },
  {
   "cell_type": "code",
   "execution_count": null,
   "id": "0844050b-5c15-41f7-ad76-37097fc087f9",
   "metadata": {},
   "outputs": [],
   "source": [
    "x = str(\"s1\") \n",
    "y = str(2)   \n",
    "z = str(3.0)"
   ]
  },
  {
   "cell_type": "code",
   "execution_count": null,
   "id": "568219cc-ccc8-4018-a78f-a4c5daddde34",
   "metadata": {},
   "outputs": [],
   "source": [
    "x = bool(\"True\")\n",
    "y = bool(\"zaten\")\n",
    "z = bool(\"\")"
   ]
  },
  {
   "cell_type": "markdown",
   "id": "3ebdacb6-8ec8-4bf3-b1be-212ca733c27f",
   "metadata": {},
   "source": [
    "----"
   ]
  },
  {
   "cell_type": "markdown",
   "id": "5758aa79-7030-4472-a837-34066fd70419",
   "metadata": {},
   "source": [
    "## Python Operatörler\n",
    "\n",
    "Değişkenler ve değerler arasında işlem yapmak için kullanılırlar. \n",
    "\n",
    "Bu konuyu detaylı şekilde şuradan inceleyebiliriz. -> https://www.w3schools.com/python/python_operators.asp"
   ]
  },
  {
   "cell_type": "markdown",
   "id": "4a01a477-5bd9-4689-9135-7365cdea1d5e",
   "metadata": {},
   "source": [
    "---"
   ]
  },
  {
   "cell_type": "markdown",
   "id": "39fa9f67-d48d-4512-8fc0-6899ac609598",
   "metadata": {},
   "source": [
    "## Modül İmport Etme"
   ]
  },
  {
   "cell_type": "code",
   "execution_count": null,
   "id": "9e05e3cd-636d-41ef-9bd1-399d6dffc086",
   "metadata": {},
   "outputs": [],
   "source": [
    "x = 3.14\n",
    "print(x)"
   ]
  },
  {
   "cell_type": "code",
   "execution_count": null,
   "id": "4b166111-d1a9-4f27-9708-72b71f3b8530",
   "metadata": {},
   "outputs": [],
   "source": [
    "import math \n",
    "\n",
    "x = math.pi\n",
    "print(x)"
   ]
  },
  {
   "cell_type": "code",
   "execution_count": null,
   "id": "5a2d5b5f-d93a-48c5-9841-ed5ad4128a43",
   "metadata": {},
   "outputs": [],
   "source": [
    "from math import pi, sin\n",
    "\n",
    "x = sin(90)\n",
    "x"
   ]
  },
  {
   "cell_type": "code",
   "execution_count": null,
   "id": "7bddbf44-abea-48c0-aea6-8fd247df4db9",
   "metadata": {},
   "outputs": [],
   "source": [
    "import math as m\n",
    "\n",
    "x = m.pi"
   ]
  },
  {
   "cell_type": "code",
   "execution_count": null,
   "id": "860cc074-616e-4122-9409-b9cef4fa4c1c",
   "metadata": {},
   "outputs": [],
   "source": [
    "from math import *"
   ]
  },
  {
   "cell_type": "code",
   "execution_count": null,
   "id": "d4a0c5d6-232a-4c8d-ad56-e2a36ac9b305",
   "metadata": {},
   "outputs": [],
   "source": [
    "m.sin()"
   ]
  },
  {
   "cell_type": "markdown",
   "id": "dda1a3d5-846e-4bf7-b0a1-698a9f7f1325",
   "metadata": {},
   "source": [
    "Ya eklemek istediğin modül built-in (Python kurulumu ile birlikte otomatik gelen) bir fonksiyon değilse?\n",
    "\n",
    "Onu **indirmelisin.**"
   ]
  },
  {
   "cell_type": "code",
   "execution_count": null,
   "id": "873df0a0-a118-474d-a71a-afc7cd568287",
   "metadata": {},
   "outputs": [],
   "source": [
    "import pandas"
   ]
  },
  {
   "cell_type": "code",
   "execution_count": null,
   "id": "27fb6ce7-add3-4316-8497-7738456b1d45",
   "metadata": {},
   "outputs": [],
   "source": [
    "%pip install pandas"
   ]
  }
 ],
 "metadata": {
  "kernelspec": {
   "display_name": "Python 3 (ipykernel)",
   "language": "python",
   "name": "python3"
  },
  "language_info": {
   "codemirror_mode": {
    "name": "ipython",
    "version": 3
   },
   "file_extension": ".py",
   "mimetype": "text/x-python",
   "name": "python",
   "nbconvert_exporter": "python",
   "pygments_lexer": "ipython3",
   "version": "3.10.12"
  }
 },
 "nbformat": 4,
 "nbformat_minor": 5
}
